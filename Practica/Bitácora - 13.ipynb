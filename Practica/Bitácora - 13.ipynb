{
 "cells": [
  {
   "cell_type": "markdown",
   "metadata": {},
   "source": [
    "# Bitácora - 13"
   ]
  },
  {
   "cell_type": "markdown",
   "metadata": {},
   "source": [
    "#### 20 - Nov - 17:\n",
    "\"Ya de mejores animos\". Empezare a cacharrear con Koboto a ver que encuentro. \"Dios, sebas conto lo suyo ajjajajaja una buena escusa para no trabajr y estar hablando con el XD, maldicion trabaja daniel\".\n",
    "* El proyecto de koboto no esta sobre nginx. La maquina no tiene nginx instalado. comando sudo apt-get install nginx.\n",
    "* Los procesos en los puertos 8000 y 8001 estan escuchando a python, el 8005 esta escuchando a node. comando lsof -i\n",
    "\"Pensando creo que es porque en el fondo no me gusta sentirme apartado, y la gente es experta en hacer eso\".\n",
    "* No parece haber algun servicio denominado koboto.service, ni nada por el estilo, aunque con lo del comando anterior que esten separados por puertos y que cada uno lo escucha python y no un serivicio como tal, no se la verdad, pero depronto es señal de que no existe el servicio.\n",
    "![puertos](./images/puertos.png)"
   ]
  },
  {
   "cell_type": "markdown",
   "metadata": {},
   "source": [
    "pues no se que puedo sacar de ahi, queria encontrar un servicio para darle stop hacer cambios y volverlo a subir, pero parece que no se puede asi, ahora tengo la id del proceso podria buscar como apagar y prender procesos para ver si asi funciona, por que pa estar preda y apague la maquina no vale la pena, lo que pienso es que apenas apague el servicio me imagino que muere el id y reiniciarlo con la misma id lo veo compliado. la otra seria como pense de hacer cambio y reiniciar la maquina por que no veo de otra, la otra es buscar ese berraco alrchivo donde este la configuracion para la ip."
   ]
  },
  {
   "cell_type": "markdown",
   "metadata": {},
   "source": [
    "![puertos_info](./images/puertos_info.png)"
   ]
  },
  {
   "cell_type": "markdown",
   "metadata": {},
   "source": [
    "bueno se que hay procesos y se ejecutaron con python y no con un servicio la joda es cuales se pusieorn en el 8000 y cual en el 8001, lo otro es que bueno hay un entorno virtual eso es una señal, no se si buena o mala la verdad. la cuestion seria entoncs saber cual se ejecuto en cual puerto"
   ]
  },
  {
   "cell_type": "markdown",
   "metadata": {},
   "source": [
    "son las 6:26 creo que ya dejare por hoy asi, como dije en las noches para las otras cosas como para no trabajr siempre en los mmismo."
   ]
  },
  {
   "cell_type": "markdown",
   "metadata": {
    "collapsed": true
   },
   "source": [
    "#### Reunion 24 - Nov - 17:\n",
    "\"@eri aparecio pa pedirme un parcial, no lo tenia asi que paila, es malevola pero tiene su lado bueno, justamente cuando estoy aca es que me da por escribir, mencionar que @CR esta re fastidiado por que cree que le saco escusas pa todo, desde mi punto de vista la cosa esta rara\" En la reunion me hicieron esperar, cuando llegue duvan se enconotraba ocupado y fue pasadas las y media que pudo atenderme y tanta espera para que me dejaran mas tareas y pa qeu esa miercoles no funcionara en el celular de él, como odio la diversidad de dispositivos. Aun no se como tratar con duvan, Gustavo me rescato y me ayudo con la presentacion de la aplicacion, debo hacer los siguientes cambios.\n",
    "* Poner un Campo de Descripsion cuando se crea el contenedor\n",
    "* Quitar lo de la lectura de QR -> \"Se puso de sapo a hacer eso\" -> **SE QYE DEBO AJUSTARME A LOS REQUISITOS PERO ES COMPLICADO, DEBO REVISARLOS MEJOR LA PROXIMA VEZ**\n",
    "* Quitar la fecha del formulario, que el servidor la ponga directamente a la bd. si que vaya al frontend y regrese\n",
    "* Que se muestre la fecha en la tabla de gestion"
   ]
  },
  {
   "cell_type": "markdown",
   "metadata": {
    "collapsed": true
   },
   "source": [
    "#### 4 - Dic - 17:\n",
    "\"EL mundo me esta diciendo que olvide al pequeño pais, o asi lo estoy tomando, y asi lo tomare\". En una reunion que tuve con duvan y gustavo para hablar de qr, el cual se esta postergando demasiado la entrega, hable con gustavo de que la maquina virtual no tiene instalado ni nginx y que estan corriendo con un simple run server, por ende guz me dijo que probara instalando los proyectos directamente. Se instalo una maquina virtual de fedora y alli se van a hacer las pruebas de instalacion, creo que para esta guia realizare un notebook aparte."
   ]
  },
  {
   "cell_type": "markdown",
   "metadata": {
    "collapsed": true
   },
   "source": [
    "#### 6 - Dic - 17:\n",
    "\"Va la madre con la fragmentacion generada con los dispositivos\". Pues el formulario no le sirvio a duvan, y aparte de eso tengro otro par de correcciones a realizar y ahi dios. primero buscar cual sera el berraco error ese que no hace que se envien los informes, primero le hare una limpieza al codigo quitando ese poco de htmls y js que ya no se usan sobre todo el de la camara. entoncs las correcciones son.\n",
    "* La foto no deberia ser obligatoria\n",
    "* Crear una pagina index\n",
    "* Crear un login\n",
    "* No aceptar el caracter espacio\n",
    "* Revisar el idioma del combox\n",
    "* Nombre y correo obligatorios\n",
    "* Arreglar js dado que no se esta enviando el formulario, limpiar todo y agregar cosas mas especificas y no solo error al enviar el informe, si se puede imprimir el error mejor.\n",
    "Algun dia terminare eso?\n",
    "\n",
    "Tambien hable con gustavo del posible error con lo de ssl. y la cuestion es que solo instale la libreria devel, tambien se necesita la libreria openssl normalita, abria que probar instalandola y ver si se arregla el problema o no."
   ]
  },
  {
   "cell_type": "code",
   "execution_count": null,
   "metadata": {
    "collapsed": true
   },
   "outputs": [],
   "source": []
  }
 ],
 "metadata": {
  "kernelspec": {
   "display_name": "Python 3",
   "language": "python",
   "name": "python3"
  },
  "language_info": {
   "codemirror_mode": {
    "name": "ipython",
    "version": 3
   },
   "file_extension": ".py",
   "mimetype": "text/x-python",
   "name": "python",
   "nbconvert_exporter": "python",
   "pygments_lexer": "ipython3",
   "version": "3.6.3"
  }
 },
 "nbformat": 4,
 "nbformat_minor": 2
}
