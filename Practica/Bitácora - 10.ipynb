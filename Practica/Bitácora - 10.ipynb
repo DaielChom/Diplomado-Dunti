{
 "cells": [
  {
   "cell_type": "markdown",
   "metadata": {},
   "source": [
    "# Bitácora - 10\n",
    "\n",
    "Bueno, no entiendo, guztavo me pide algo y luego dice uqe no es tan importante, pero croe que lo que queires es que no me desenfoque, me solicito poder tener control de la maquina vistual obtener. la cuestion aca es esta:\n",
    "Como se puede evidenciar en la bitacora anterior se logro la prueba de ONA, la cual no trae muchas ventajas comparadas con Kobotoolbox. Sabiendo esto pues fui a mostrarle a gustavo dicho descubrimiento. en dicha reucion, le mostre la version instalada de ONA y pues mi consejo, tambien le dije que leyera los informes y al parecer no lo ha echo, pero eso no viene al caso, no ha leido pero igual lo he mantenido al tanto, la cuestion es que nos decatamos por kobotoolbox, y me pidio un par de tareas:\n",
    "1. Buscar una manera de obtener del vagrant un archivo VHD o VHDX para poderlo instalar en los servidores de Geomatica\n",
    "2. Usar unas encuestas dentro de Kobotoolbox para moestrar su uso\n",
    "3. Buscar alguna manera de personalizar Kobotoolbox con el logo de geomatica o algo por el estilo.\n",
    "4. hacer un video mostrando el uso de Kobotoolbox\n",
    "\n",
    "Siendo de esta manera me enfoqe pues en realziar estas tareas, se instalo kobotoolbox en local para pues hacer dichas tareas, la instalacion usa Vitualbox asi que lo que se puede obtener es vmdk, que es el disco duro de la maquina virtual. lo otro es que no encontre manera de personalizar kobotoolbox de una manera \"Gemotistica\", osea cambiar el logo y eso paila, ya habria que meterse en el disco y estudiar que mas hay instalado y hacer algun tipo de ingenieria inversa para poderse meter a las entrañas de kobotoolbox a ver que mas trae, y pues eso requiere bastante trabajo extra. entonces me iba a dedicar a realizar el video y pues decidi realizar un informe a gustavo como para que no diga que no ando haciendo nada y le escrbi a wasa.\n",
    "\n",
    "Y esta es la conversacion.\n",
    "\n",
    "> **Yo:** Buenos días gustavo, ya empecé con el video de kobotoolbox y no encontré forma de personalizar kobotoolbox, sin embargo encontré el archivo. Vmdk no se si ese era el archivo que solicitabas \n",
    "\n",
    "> **Gustavo Diaz:** Hola Daniel, 1° es una instalación controlada, ya sea porque soy capas de instalarlo de 0 o porque en el docker puedo identificar la infraestructura de desarrollo\n",
    "\n",
    ">**Gustavo Diaz:** si no has logrado personalizarlo, esa parte hace falta\n",
    "\n",
    ">**Gustavo Diaz:** necesito el entendimiento de la plataforma a nivel de infraestructura\n",
    "\n",
    ">**Gustavo Diaz:** 2° es poder con esa instalación controlada desplegar el software en los servidores de Geomática, como una máquina virtual\n",
    "\n",
    ">**Gustavo Diaz:** el hypervisor que usamos es Hyper-V de windows server 2012, para guardar los discos virtuales el usa el formato\n",
    "\n",
    ">**Gustavo Diaz:** VHD y VHDX (el formato vmdk es de virtualbox)\n",
    "\n",
    ">**Gustavo Diaz:** 3° Es generar un video de está instalación, para \"vender\" la idea a los ingenieros, para buscar una encuesta a realizar para hacer pruebas\n",
    "\n",
    ">**Gustavo Diaz:** 4° Realizar ocmo tal las pruebas, sobre la instalación realizada en los equipos de geomática y personalizada por que hay un entenidmiento de la infraestructura\n",
    "\n",
    "> **Yo:** Pera no era un video de como funcionaba?\n",
    "\n",
    "> **Yo:** Osea de armar y llevar una encuesta?\n",
    "\n",
    "> **Gustavo Diaz:** El video es para poder buscar con quien generar la prueba\n",
    "\n",
    "> **Gustavo Diaz:** Cual es el objetivo?\n",
    "\n",
    "> **Gustavo Diaz:** Tener una plataforma de encuestas en los servidores de geomática, que comparada con otras (ArcGIS Collector al menos) tenga ventajas, en seguridad, en costos, en funcionalidad, en personalización o cualquier otra ventaja.\n",
    "\n",
    "> **Gustavo Diaz:** La ventaja y funcionalidad de la herramienta debe ser probada.\n",
    "\n",
    "> **Gustavo Diaz:** Ahora bien, como llegar a este objetivo?\n",
    "\n",
    "> **Gustavo Diaz:** Yo propongo esos 4 pasos, tu que me propones?\n",
    "\n",
    ">**Gustavo Diaz:** Daniel no es la actividad, es el objetivo.\n",
    "\n",
    "> **Gustavo Diaz:** el video no es un objetivo, es una herramienta para el fin de conseguir quien en Geomática quiera trabajar con la herramienta para realizar las pruebas\n",
    "\n",
    ">**Gustavo Diaz:** pero el video de que me sirve para lograr el objetivo si no tengo la herramienta instalada?\n",
    "\n",
    ">**Gustavo Diaz:** si me dices que no tengo control sobre la herramienta, porque no mejor seguir usando ArcGIS Collector?\n",
    "\n",
    ">**Gustavo Diaz:** con el Ing. Duvan tu te sentaste y te mostro brevemente la herramienta, contra eso competimos y contra eso no la has comparado.\n",
    "\n",
    ">**Gustavo Diaz:** y adicionalmente me dices que tambien me toca usarla como caja negra, que ventajas tengo entonces?\n",
    "\n",
    ">**Gustavo Diaz:** Respondeme esas preguntas, con las actividades que consideres, apuntandole al objetivo, que desde que empezamos, no ha cambiado.\n",
    "\n",
    ">**Gustavo Diaz:** pero no me digas que el video es el fin, porque no lo es y nunca lo ha sido\n"
   ]
  },
  {
   "cell_type": "markdown",
   "metadata": {},
   "source": [
    "Y aqui hay varias cuestiones y es que primero, en si es verdad, estoy algo desenfocado, perimero deberia empezar con la comparacion de kobootolbox con ArcGIS Collector, segundo explorar el vagrant a ver de que manera esta instalado kobotoolbox, y hacer con esto se podria tener un nuevo informe para darle a gustavo.\n",
    "\n",
    "1. Explorando vagrant\n",
    "Entoncs, la instalacion de Kobotoolbox se realiza con vagrant, lo que implica que se instala es una maquina virtual con kobotoolbox instalado y en funcionamiento. AL usar vagrant se puede ingresar a dicha maquina virtual usando el coamndo `vagrant ssh`.\n",
    "\n",
    "Al ingresar este comando podemos obtener \n",
    "![exploracion01](images/exploracion_01.png)\n",
    "\n",
    "si exploramos el directorio home podemos encontrar varias carpetas importantes para el funcionamiento de kobotoolbox.\n",
    "![exploracion01](images/exploracion_02.png)\n",
    "\n",
    "Sí ingresamos al directorio src podemos encontrar los 4 repositorios que en la guia de kobotoolbox nos recomiendan instalar.\n",
    "![exploracion01](images/exploracion_03.png)"
   ]
  },
  {
   "cell_type": "markdown",
   "metadata": {},
   "source": [
    "esto nos indica que con cierto conocimientos y estudio de los codigos se pueden realizar pequeñas o grandes modificaciones del codigo,lo que genera cierta propiedad de personalizacion, he aqui un pequeño ejemplo\n",
    "1. Observamos que al entrar a la maquina virtual meidante el navegador e ingresamos a kobootolbox en una esquina vemos el logotipo de kobotoolbox\n",
    "![exploracion01](images/exploracion_04.png)"
   ]
  },
  {
   "cell_type": "markdown",
   "metadata": {
    "collapsed": true
   },
   "source": [
    "si exploramos en la maquina virtual podemos encontrar la localizacion de dicho logo y si queremos podemos borrarlo, o modificarlo.\n",
    "![exploracion01](images/exploracion_05.png)\n",
    "\n",
    "y en el navegador queda de la siguente manera\n",
    "![exploracion01](images/exploracion_06.png)"
   ]
  },
  {
   "cell_type": "markdown",
   "metadata": {},
   "source": [
    "Incluso podemos cambiar el logo desacrgando el logo de geomatica y ubicarlo donde se encontraba el logo de kobotoolbox.\n",
    "![exploracion01](images/exploracion_07.png)\n",
    "y en el navegador quedaria de la sigueinte manera\n",
    "![exploracion01](images/exploracion_08.png)\n"
   ]
  },
  {
   "cell_type": "markdown",
   "metadata": {},
   "source": [
    "como se puede observar se pueden realizar personalizaciones realizando cambios en la aplicacion, en el ejemplo anterior apenas se jugo con un cambio de archivos, pero podrian realizarse cambios en el html o el css, incluso cambios en los archivos .py, ya que como se peude observar se tiene acceso a todos los archivos del proyecto, ya que estos se encnetran en la carpeta src/ del directorio /home/vagrant"
   ]
  },
  {
   "cell_type": "markdown",
   "metadata": {},
   "source": [
    "### comparacion con ArcGIS Collector\n",
    "Esta comparacion es un poco muy por encima, ya que se me mostro arcGIS Collector en ratico mostrando poquitas de sus funciones, pero si pude conocer las funciones mas importantes del mismo asi que aqui una comparacion rapida, que es de donde debi empezar.\n",
    "\n",
    "Primero mostraré la redaccion de un texto comprando las funcionalidades, luego viendolo necesario crear una tabla.\n",
    "\n",
    "Primero ¿por que no habia nombrado a arcGIS en la investigacion o consulta realizada sobre recolectores de datos? y la respuesta es sencilla y es que si uno busca \"Recolector de datos\" en google uno encuentra eso recolectores de datos y revisando la pagina web de arcGIS, arcGIS no es un recolecor es algo mucho mas grande, es mas una como ellos lo dirian un sotware de cartografia, sí tiene opciones de recolectar datos, pero este no es su fuerte, no fue echo para esto, osea no es su enfoque ni tarea principal, su tarea principal es la creacion de mapas. En cambio ona.io o kobotoolbox estan echos para que la recoleccion de datos sea su tarea principal. haciendo una pequeña visita al sitio web de arcGIS se puede observar que cuenta con una mayor cantidad de funciones y esta mas orientado a la interaccion de dichos datos con mapas, algo que tambein se puede con ona o kobotoolbox pero no a tal nivel. \n",
    "Otra comparativa es que esri, que viene siendo como la empresa detras de arcGIS cuenta con una mayor cantidad de empleados trabajando para arcGIS que la misma kobotoolbox o ONA y eso se puede observar con solo mirar la cnatidad de miembros y repositorios en el github de [esri](https://github.com/Esri), obviamente no todas esas personas trabajan al tiempo en arcGIS, o tal vez si, pero con esa cantidad de repositrios y personas se peude observar la fuerza de trabajo con la que cuenta esri.\n",
    "\n",
    "Otra cosa es que esri no solo tiene como proyecto a arcGIS, tambien cuenta con otros proyecto un tanto mas Academicos, y comerciantes como se peude ver en la pagina.\n",
    "\n",
    "respecto a las funcionalidades como tal, arcGIS si contaba con mejores funciones que kobotoolbox u ona.io comenzando con que arGIS cuenta con una aplicacion web, y movil para realizar todas las funciones de arcGIS, es decir arcGIS permite ver los mapas, el avance de la recoleccion, los datos, las estadisticas tanto en su version web como en su version movil, y con la opcion de que funciona de cierta manera offline, duvan hizo una demotracion de modificar un dato en la tablet de manera offline, y luego se sincronizo y reviso el cambio en la version de escritorio. En cambio Kobotoolbox y ona, la version movil con la que cuentan es para recolectar datos, no cuentan con una version movil de sus servicios, ambas son netamente un servicio web.\n",
    "\n",
    "Otra funcionalidad es que arcGIS tiene una orientacion de \"Base de Datos\" para la recoleccion de los datos, es decir se peuden crear entidades y relacionar dichas entidades en la recoleccion de datos, algo que hasta el momento, no se ha observado ni en kobotoolbox ni en ona y tampoco anuncian tenerla, y de las palabras de Duvan esta funcionalidad es muy impostante para ellos.\n",
    "\n",
    "A grandes rasgos esta es la comparativa que se peude realizar ya que no se me mostraron mas funcionalidades de arcGIS pero como se meniciono anteriormente Duvan trato de mostrarme las mas importantes."
   ]
  },
  {
   "cell_type": "markdown",
   "metadata": {},
   "source": [
    "Si esa caracteristica \"Cartografica\" es la que interesa a Geomatica, kobotoolbox y ona no son una buena opcion ya que estas son \"Recolectores de Datos\", mas no software cartografico. si lo que geomatica en si necesita es la recoleccion de datos sin importar las \"asombrosas\" caracteristicas cartograficas de arcGIS, se recomeindo kobotoolbox, ya que realizan la recoleccion de los datos y ya lo que hagan con ellos veran que hacen con estos datos."
   ]
  },
  {
   "cell_type": "code",
   "execution_count": null,
   "metadata": {
    "collapsed": true
   },
   "outputs": [],
   "source": []
  }
 ],
 "metadata": {
  "kernelspec": {
   "display_name": "Python 3",
   "language": "python",
   "name": "python3"
  },
  "language_info": {
   "codemirror_mode": {
    "name": "ipython",
    "version": 3
   },
   "file_extension": ".py",
   "mimetype": "text/x-python",
   "name": "python",
   "nbconvert_exporter": "python",
   "pygments_lexer": "ipython3",
   "version": "3.6.3"
  }
 },
 "nbformat": 4,
 "nbformat_minor": 2
}
