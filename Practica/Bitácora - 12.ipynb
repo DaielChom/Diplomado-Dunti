{
 "cells": [
  {
   "cell_type": "markdown",
   "metadata": {},
   "source": [
    "# Bitácora - 12\n",
    "\n",
    "Un :rabbit: hablando de :ear:.\n",
    ":tada: Buenas noticias, todo son buenas noticias en el Diplomado. Ya funciona la maqunia virtual en los servidores de Geomatica, desde la universidad se puede entrar a la direccion 192.168.86.48:8000 et voila, Kobotoolbox. Según las tareas, la personalizacion, listo quedo. Lo de la conversion, listo. Lo de la tabla, tengo que pasarla a un lugar donde gustavo la pueda leer sin problema, y doned no lea cosas demás, como mis lindos y extraños comentarios.\n",
    "\n",
    "Lo otro es que, durante la reunion de hoy 13 - sep - 2017, quedo claro mi poco conocimiento en :penguin: linux, uso linux, pero aun no soy tan pro, nivel intermedio diria yo. Pero gustavo no sabia eso penso que seria mas pro, y quedo sorprendido, es gracioso, pero cierto. Entones al ver mis lindos avances me asigno nuevas tareas:\n",
    "1. Mandarle o mostrarle la tabla comparativa entre arcGIS colector y Kobotoolbox.\n",
    "2. Terminar el video de Kobotoolbox\n",
    "3. Averiguar por alguna revista en colombia que publique sobre casos de uso o cosas relacionadas o parecidas a lo qe estoy haciendo.\n",
    "4. Averiguar y culturisarme sobre ubuntu hardering\n",
    "\n",
    "#### Progreso:\n",
    "1. Listo ya la subi al drive\n",
    "2. Toca cuadrar grabar el video en la U dado que formatie el PC y no tengo la maquina virtual. Entoncs cosas a grabar:\n",
    "    * Como crear un proyecto o formulario\n",
    "    * Como crear un formulario\n",
    "    * Como Llenar un formulario\n",
    "    * Como llenarlo desde el celular\n",
    "    * Como ver los graficos y estadisticas\n",
    "3. He encontrado: http://computerworld.co/ , http://revistas.uis.edu.co/index.php/revistagti/about , http://www.canalinformatico.net/index.php/todas-las-ediciones , http://www.dragonjar.org/revista-sistemas-102-ingenieria-de-software.xhtml \n",
    "4. Por Hacer"
   ]
  },
  {
   "cell_type": "markdown",
   "metadata": {},
   "source": [
    "\"Aun no se conoce decretos de parte del pequeño pais\"\n",
    "\"Vale la pena ir a los eventos sin compañia, deberia de empezar a hacerlo mas seguido\"\n",
    "\"Voy re atrasado en el diplomado\"\n",
    "Sucedieron varias cosas y ya hace rato no hago nada respecto al diplomado, y en la parte de clases voy peor, no hay motivacion. Se le habia entregado una maquina virtual a gustavo, el la subio y al parecer esta presentando errores, bastantes errores, sucede que la maquina virtual utiliza distintos puertos y cuando se monto al hacer el cambio de puerto, es decir el cambio de proyecto esa monda se despapayaba, no se sabe que pasaba y tengo que buscar el puto error, pa colmo los de kobotoolbox quitaron la [imagen](https://www.dropbox.com/s/cdnvy4iw9qj8blu/kobo_toolbox_stable_2015.08.02.box?dl=0) del sistema, tengo una pero nada me asegura que esta este 100% estable y puede que por eso la hallan quitado, o tan solo no se han dado cuenta y la imagen que tengo si sirve. por ahora es cosa de probar primero si la que tengo sirve por que si no grave. segunda cosa la imagen debo guardarla en el disco externo, al interno no le cabe ni m mas, y ahora acabo de mascarme lo de JDowloader dios, bueno pondre la maquina a instalar y despues vovleré."
   ]
  },
  {
   "cell_type": "code",
   "execution_count": null,
   "metadata": {
    "collapsed": true
   },
   "outputs": [],
   "source": []
  }
 ],
 "metadata": {
  "kernelspec": {
   "display_name": "Python 3",
   "language": "python",
   "name": "python3"
  },
  "language_info": {
   "codemirror_mode": {
    "name": "ipython",
    "version": 3
   },
   "file_extension": ".py",
   "mimetype": "text/x-python",
   "name": "python",
   "nbconvert_exporter": "python",
   "pygments_lexer": "ipython3",
   "version": "3.6.1"
  }
 },
 "nbformat": 4,
 "nbformat_minor": 2
}
