{
 "cells": [
  {
   "cell_type": "markdown",
   "metadata": {},
   "source": [
    "# Bitácora - 12\n",
    "\n",
    "Un :rabbit: hablando de :ear:.\n",
    ":tada: Buenas noticias, todo son buenas noticias en el Diplomado. Ya funciona la maqunia virtual en los servidores de Geomatica, desde la universidad se puede entrar a la direccion 192.168.86.48:8000 et voila, Kobotoolbox. Según las tareas, la personalizacion, listo quedo. Lo de la conversion, listo. Lo de la tabla, tengo que pasarla a un lugar donde gustavo la pueda leer sin problema, y doned no lea cosas demás, como mis lindos y extraños comentarios.\n",
    "\n",
    "Lo otro es que, durante la reunion de hoy 13 - sep - 2017, quedo claro mi poco conocimiento en :penguin: linux, uso linux, pero aun no soy tan pro, nivel intermedio diria yo. Pero gustavo no sabia eso penso que seria mas pro, y quedo sorprendido, es gracioso, pero cierto. Entones al ver mis lindos avances me asigno nuevas tareas:\n",
    "1. Mandarle o mostrarle la tabla comparativa entre arcGIS colector y Kobotoolbox.\n",
    "2. Terminar el video de Kobotoolbox\n",
    "3. Averiguar por alguna revista en colombia que publique sobre casos de uso o cosas relacionadas o parecidas a lo qe estoy haciendo.\n",
    "4. Averiguar y culturisarme sobre ubuntu hardering\n",
    "\n",
    "#### Progreso:\n",
    "1. Listo ya la subi al drive\n",
    "2. Toca cuadrar grabar el video en la U dado que formatie el PC y no tengo la maquina virtual. Entoncs cosas a grabar:\n",
    "    * Como crear un proyecto o formulario\n",
    "    * Como crear un formulario\n",
    "    * Como Llenar un formulario\n",
    "    * Como llenarlo desde el celular\n",
    "    * Como ver los graficos y estadisticas\n",
    "3. He encontrado: http://computerworld.co/ , http://revistas.uis.edu.co/index.php/revistagti/about , http://www.canalinformatico.net/index.php/todas-las-ediciones , http://www.dragonjar.org/revista-sistemas-102-ingenieria-de-software.xhtml \n",
    "4. Por Hacer"
   ]
  },
  {
   "cell_type": "markdown",
   "metadata": {},
   "source": [
    "\"Aun no se conoce decretos de parte del pequeño pais\"\n",
    "\"Vale la pena ir a los eventos sin compañia, deberia de empezar a hacerlo mas seguido\"\n",
    "\"Voy re atrasado en el diplomado\"\n",
    "Sucedieron varias cosas y ya hace rato no hago nada respecto al diplomado, y en la parte de clases voy peor, no hay motivacion. Se le habia entregado una maquina virtual a gustavo, el la subio y al parecer esta presentando errores, bastantes errores, sucede que la maquina virtual utiliza distintos puertos y cuando se monto al hacer el cambio de puerto, es decir el cambio de proyecto esa monda se despapayaba, no se sabe que pasaba y tengo que buscar el puto error, pa colmo los de kobotoolbox quitaron la [imagen](https://www.dropbox.com/s/cdnvy4iw9qj8blu/kobo_toolbox_stable_2015.08.02.box?dl=0) del sistema, tengo una pero nada me asegura que esta este 100% estable y puede que por eso la hallan quitado, o tan solo no se han dado cuenta y la imagen que tengo si sirve. por ahora es cosa de probar primero si la que tengo sirve por que si no grave. segunda cosa la imagen debo guardarla en el disco externo, al interno no le cabe ni m mas, y ahora acabo de mascarme lo de JDowloader dios, bueno pondre la maquina a instalar y despues vovleré."
   ]
  },
  {
   "cell_type": "markdown",
   "metadata": {
    "collapsed": true
   },
   "source": [
    "Que puedo decir en sueños no deja de aparecer. Como sea, ya quedo la vhdx, otra vez, y en el disco externo hay una ova, deberia todo funcionar bien esta vez. el programa que use para convertir el `disco` de la maquina virtual de kobo de vdmx a vhdx se enuentra en el sigueinte [enlace](https://cloudbase.it/qemu-img-windows/) cabe resaltar que es un software para windows."
   ]
  },
  {
   "cell_type": "markdown",
   "metadata": {
    "collapsed": true
   },
   "source": [
    "\"Tengo mucha hambre maldicion\" y recibi un regaño de parte de gustavo, pero en parte lo ncesitaba estaba no se raro con el diplomado, pero bueno la cuestion es qeu debo meterle mano a la maquina y lograr cambiar la direccion, osea que no me suceda lo de que hacer el cambio de puerto se despapaye por que busca otra direccion. debo cambiar la contraseña y buscar lo de proxificar los puertos. Tengo pues 3 tareas.\n",
    "\n",
    "#### Tareas: \n",
    "\n",
    "* Buscar IP en el settings.\n",
    "* Cambiar contraseña\n",
    "* Proxificar puertos"
   ]
  },
  {
   "cell_type": "code",
   "execution_count": null,
   "metadata": {
    "collapsed": true
   },
   "outputs": [],
   "source": [
    "* Cambio de 127.0.0.1 a 10.1.90.19 en /src/kobocat/onadata/settings/deaful_settings.py"
   ]
  },
  {
   "cell_type": "markdown",
   "metadata": {},
   "source": [
    "\"7t en silencio por 3 meses, debe despertar, no lo quiero ver morir\". Bastantes cosas han sucedido, y al parecer no he mantenido muy actualizada esta bitacora. Me toca ponerme las pilas, bueno el caso es que lo cuestion es esta. No he logrado configurar la maquina virtual en el servidor de Geomatica, me toca arreglar el problema de cambiar entre purtos. pero primero debo entregar, nuevamente, la maquina virtual a gustavo dado que me la masque jajajajaja. me toca pasarsela y que la reinstale y asi poder configurar. Para culminar el diplomado requiero realizar 3 objetivos, la busqueda, la configuracion y la prueba del recolector de datos. El primero que es la busqueda ya esta echo, el de la configuracion esta en proceso (Voy a ser capas malditasea, carlos se volvio pro en Calumet sin saber JSP, yo por que no puedo encontrar lo que esta sucediendo en ese DJango, eso si me va a tocar mermarle un poco al proyecto de grado a ver si acabo con lo del Diplomado) y el de la prueba, la cual gracias a Dios ya no tengo que preocuparme, porquoi?, parce que le idiot de D.v.n besoin de un travailleur et je suis ces travallieur. necesitaban a alquien que hiciera un sistema que leyera qr y guardara infomracion en una bd, etc etc. y considencialmente ahi estaba yo. y no solo gracias a Dios gustavo ayudo en lo suyo, pues la idea era homologar todo el diplomado, pero pues la persona nombrada se pasa y apenas se homologo un objetivo que fue el de la rpueba final. Me dieron unos requerimientos por los cuales homologar. Dichos requerimientos ya fueron completados. asi que apenas dare un par de pulidas y si queiren mas pues se necsitaran mas homologaciones. La cuestion es que aun necesito hacer el puto articulo ese de mierda, y Gustavo nunca termino de leer lo que yo le pase que estaba haciendo, asi que esta vez quede muerto, asi que lo que hare sera redactar uno a mi manera y que sea lo que Dios quiera. Bueno entoncs tareas por hacer:\n",
    "\n",
    "#### Tareas:\n",
    "* Redactar Articulo.\n",
    "* Llevar maquina a gustavo.\n",
    "* Configurar Maquina.\n",
    "* Retoques del qr_station\n",
    "\n",
    "Para el articulo deberia hacer una busqueda entre las bitacoras y los informes como para recopliar nuevamente toda la informacion que he recolectado y ahi agregar todo, pero primero definir la estructura que va ha llevar y como que poner mas o menos las ideas en cada parte. A bueno tengo plazo de entregar el artiiculo para el 12."
   ]
  },
  {
   "cell_type": "markdown",
   "metadata": {
    "collapsed": true
   },
   "source": [
    "#### 7 - Nov - 17:\n",
    "El señor CEO escucha buena musica, eso para mi habla de lo buena persona que es solo que yo siempre lo pelo XD. Bueno pues ya hace como dos o 3 dias le pase a Gustavo tanto el articulo como el repo de qr_station, incluso hice un cambio en una libreria a peticion de él pues la libreria que habia usado no funcionaba en fedora. Pero es la hora y ni mu de pruebas o correcciones en ambas cosas, sigo esperando que me avise que, aunque pues si no me corrige nada ni nada pues ni modo subo eso asi a ver que y pues ojala no lo pele despues pues estoy presintiendo que me van llamar cuando este en aguazul diciendome que eso lo necesitan para ya o algo asi pues dado el caso dire que ni modo que yo pase eso me quede esperando no me dieron respuestas ni nada tampoco es culpa mia que gustavo deje eso siempre pal final o menos presie  mi trabajo por que no es algo invesigativo ni nada asi pro mas que meterle mano a una mierda que no me he puesto a cacharrear. malditasea mierda eso creo que mañan ire a geomatica dejo la copia de esa monda, pero a que hora, mi dia sera asi, como planee en la mañana alisto maleta, o ropa o lo que sea dejo todo listo pa llegar e irme. eso seria de 8 a 10 y a las 10 llego a calume dejo mis cosas y bajo a geomatica. a ver si gustavo esta sin avisarle ni nada. aprovecho ya que no hay reunion de sevent. y en la tarde creo yo que para adelantar tareitas y asi."
   ]
  },
  {
   "cell_type": "markdown",
   "metadata": {
    "collapsed": true
   },
   "source": [
    "#### 8 - Nov - 17:\n",
    "Pa Aguazul ire y geomatica es un estres guztavo me cae bien y me gusta trabjar con el. Hoy como mencione lleve la maquina para que hiciera la volviera a montar he hiciera la copia de sgeugridad. Y me regaño, pues debi yo de saber como configurar la IP pues el ya me ha mostrado como hacerlo varias veces y sigo dependiendo de él. **NOTA:** Cuando vaya donde gustavo llevar un cuaderno conmigo, eso me da a pensar que en mi mochilita debo agregar un cuaderno y un lapiz, aparte del libro, el termo y la navaja. Bueno el caso. Primero me gustaria documentar lo de la configuracion de la IP, luego mandar el correo y despues ahi si ponerme con la maquina a ver que.\n",
    "\n",
    "##### Documentación:\n",
    "Lo que se quiere realizar es configurar la direccion ip de una maquina linux, por lo general viene configurada para funcionar con dhcp, pero se le quiere poner una direccion estatica.\n",
    "* Configurar el fichero\n",
    "            sudo vim etc/network/interfaces ó /etc/network/interfaces.d/eth0.conf\n",
    "* A dicho fichero agregarle \n",
    "            auto eth0\n",
    "            iface eth0 inet static\n",
    "            address 10.1.90.19\n",
    "            netmask 255.255.255.0\n",
    "            gateway 10.1.90.1\n",
    "* Reiniciar el servicio.\n",
    "            sudo ifdown eth0\n",
    "            sudo ifup eth0"
   ]
  },
  {
   "cell_type": "markdown",
   "metadata": {},
   "source": [
    "A bueno, ya la maquina se le puede meter mano, y cualquier cosa que se dañe se le avisa a gustavo para que el la re monte."
   ]
  },
  {
   "cell_type": "markdown",
   "metadata": {
    "collapsed": true
   },
   "source": [
    "#### 15 - Nov - 17:\n",
    "\"No quiero dejar de ir a eventos, pero el trabajo es bastante\". Sucedieron varias cosas desde el 8. Respecto a Koboto, nada, no he avansado nada dado que me he entretenido con lo de qr-station y por que si ya estaba echo?. Pues por que al irme a aguauzul, gustavo le correspondia configurar eso en el server pero dado a la mala docuemtnacion de mi proyecto se enojo y etc etc. entoncs hubo ahi un rose y ahora soy yo el que tiene que configurar eso en el server y el que debe hacer que eso funcione para Microsoft SQL Server. Lo cual ya consegui. Falta configurar para que nginx funcione, funciona sin nginx, aunque no sirve en todos los navegadores, hay problemas con Chrome y no se sabe si para safari sirva esa monda. Entonces la prioridad para el diplomado es hacer que qr-station funcione. **Actualizacion: ** \"Las cosas van bien con gustavo, al fin y al cabo me sirvio que me pusiera a trabajar a mi\". Se me habia olvidado especificar y ya no se realizara ningun articulo, lo que estoy haciendo sera por modalidad de practica, para ellos es arreglar koboto y cunado este listo Gustavo me firma una hoja y luego Duvan la Firma y quedo a paz y salvo con el diplomado y podre graduarme del diplomado. **NOTA:** Tengo que entregar koboto funcionando para el 22 de Diciembre, incluso antes. Dado el caso me toca dar una escusa creible pa que me den mas tiempo.\n",
    "\n",
    "##### Tareas:\n",
    "* Pasar qr a un entorno virtual\n",
    "* Arreglar documentacion\n",
    "* Hacer nuevos cambios respecto a los navegadores\n",
    "* Crear rama para msqserver\n",
    "* Configurar ngnix, crear notebook para configurar nginx"
   ]
  },
  {
   "cell_type": "markdown",
   "metadata": {
    "collapsed": true
   },
   "source": [
    "#### 18 - nov - 17:\n",
    "\"Pa mi que Jz sospcha XD lo estará confundiendo es verdad pero que se le puede hacer\". Despues de una semana de lidiar con nginx logre hacer funcionar lo de qr station en el servidor. Tuve hoy una reunion con gustavo, me dio unas ultimas indicaciones y me dijo que cuando las terminara le mandara un correo o Duvan con copia a él para hacer la entrega oficial. Respecto a la guia la realizare mientras subo lo de sevent. respecto a koboto no he echo nada, planeo empezar el lunes. lo cambios a realizar serian\n",
    "* Cambiar el /admin por algo menos obvio.\n",
    "* Arreglar el menu de las parte responsive.\n",
    "* Hacer que el servidor ponga la fecha.\n",
    "* Poner un campo para el correo del usuario\n",
    "* Separar los datos opcionales de los obligatorios\n",
    "* Crear una lista con los QR creados para poder descargar las imagenes despues\n",
    "* cambiar los permisos 777 de la carpeta raiz del proyecto\n"
   ]
  },
  {
   "cell_type": "markdown",
   "metadata": {
    "collapsed": true
   },
   "source": [
    "#### 20 - Nov - 17:\n",
    "\"No se por que me achicopalo, lo mejor seria arrancar pero igual eso tambien me entristece\". Porfin acabe ese berraco proyecto de qr. en el sentido de que ya mande el mensaje a duvan y eso ya se encuentra funcionando en un servidor de Geomatica, es esperar a que conteste el correo, pero ya puedo dedicarme a koboto, lo caul no quiero pero pues ya es hora. No le tengo muchas ganas a trbajr co eso pero que se le puede hacer es lo que me toca hacer, no debo olvidar que tengo plazo hasta el 22 para entregarlo que si no muero totalemnte. Iniciare una nueva bitacora. no se que mas escribir para mamar gallo aca XD. no tengo animos de trabajr :(. hasta estoy hablando con el negro pa matar tiempo. Creo que hare una pequeña exploracion a koboto, por que que otra cosa podria hacer, las cosas otras cosas que me faltan por ahcer la idea es hacerlas en la casa pues para koboto solo tengo acceso desde la U. Bueno hasta aqui esa bitacora, me tomo mas de lo planeado subir eso, ahi quieto aun me falta ahcer push y eso. hare eso y despues si con koboto."
   ]
  },
  {
   "cell_type": "code",
   "execution_count": null,
   "metadata": {
    "collapsed": true
   },
   "outputs": [],
   "source": []
  }
 ],
 "metadata": {
  "kernelspec": {
   "display_name": "Python 3",
   "language": "python",
   "name": "python3"
  },
  "language_info": {
   "codemirror_mode": {
    "name": "ipython",
    "version": 3
   },
   "file_extension": ".py",
   "mimetype": "text/x-python",
   "name": "python",
   "nbconvert_exporter": "python",
   "pygments_lexer": "ipython3",
   "version": "3.6.3"
  }
 },
 "nbformat": 4,
 "nbformat_minor": 2
}
