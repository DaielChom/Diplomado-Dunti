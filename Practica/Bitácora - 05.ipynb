{
 "cells": [
  {
   "cell_type": "markdown",
   "metadata": {},
   "source": [
    "# Bitácora - 05:  Practica ARDG\n",
    "## Practica Autodenominada Recolección de Datos para Geomatica\n",
    "\n",
    "Como se tenia planeado el dia 31 de marzo de 2017 se realizo la reunion con Duvan en las oficinas de Geomatica, la reunion consistia en, de parte de Duvan, dar a conocer la necesidad presente en Geomatica y presentar los informes y trabajo realizado hasta la fecha.\n",
    "\n",
    "La reunion empieza con una anecdota de una salida de campo realizada anteriormente en Geomatica, dando a conocer asi, mediante un ejemplo la importancia de los gestores de recopilacion de datos y las 3 funciones principales que requiere Geomatica. Dichas funciones son:\n",
    "* La recopilacion de Datos offline.\n",
    "* La posibilidad de usar mapas.\n",
    "* Tener un monitor, pantalla o panel donde se puedan observar el proceso de recoleccion, para corregir posibles errores en las tomas de datos."
   ]
  }
 ],
 "metadata": {
  "kernelspec": {
   "display_name": "Python 3",
   "language": "python",
   "name": "python3"
  },
  "language_info": {
   "codemirror_mode": {
    "name": "ipython",
    "version": 3
   },
   "file_extension": ".py",
   "mimetype": "text/x-python",
   "name": "python",
   "nbconvert_exporter": "python",
   "pygments_lexer": "ipython3",
   "version": "3.6.0"
  }
 },
 "nbformat": 4,
 "nbformat_minor": 2
}
