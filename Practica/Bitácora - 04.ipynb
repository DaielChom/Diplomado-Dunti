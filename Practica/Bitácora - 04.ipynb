{
 "cells": [
  {
   "cell_type": "markdown",
   "metadata": {},
   "source": [
    "# Bitácora - 04:  Practica ARDG\n",
    "## Practica Autodenominada Recolección de Datos para Geomatica\n",
    "\n",
    "De la bitacora 3 y las correcciones echas en la reunion del sabado 18 de marzo de 2017 se extraen las siguietnes tareas:\n",
    "* Hablar con Duvan para conocer de mejor manera el alcance de la practica\n",
    "* Pedir la `.iso` a Gustavo\n",
    "* Corregir Impacto y Alcance teniendo en cuenta los consejos de gustavo referentes a la redaccion.\n",
    "* ~~Diseñar la estructura del informe final~~ Es mostrar la estructura de la aplicacion\n",
    "* Empezar con la instalacion de la aplicacion.\n",
    "\n",
    "### Tarea Uno:\n",
    "El dia lunes 27 de marzo de improviso se habla con Duvan cuadrando una reunion para el dia viernes 31 de marzo de 2017, bueno la cuestion es que no se si deba generar alguna presentacion o solo con llevarle lo que tengo hasta el momento sea necesario, me comunicare con gustavo para lo msimo.\n",
    "\n",
    "### Tarea Dos:\n",
    "Ya tengo la iso creo que al final no es una iso si jno es un archivo que ni puta idea jajaj pesa 4Gb y no creo que pueda subirlo a github asi que actualizare todo menos dicha imagen, otra cosa a realizar es ver si toca usar vargrant dentro o fuera de la iso.\n",
    "\n",
    "### Tarea Tres:\n",
    "la idea es arreglar el alcance, objeivos y demas despues de la reunion con Duvan, llevar la infrastructura y mirar si hacer presentacion y ya.\n",
    "\n",
    "### Tarea Cuatro:\n",
    "Se pide la infraestructura de la aplicacion es decir la comunicacion entre las secciones de la apliacion funciona es decir comuncioacion entre bakend y frontend, con el usuio con la aplicaicon, como funciona la base de datos, como guarda los datos, se necesita informacion de enketo de que mas tipos de preguinta trae y como las guarda en la base de datos.\n",
    "\n",
    "De lo anterior toma prioridad la elaboracion de la estrucuta de la apliacion y la reunion de duvan que la instalacion de la apliacion incluso que la instalacion de la maquiona virtual.\n",
    "\n",
    "### Estructura de la apliacion:\n",
    "Bueno se debe generar la arquitectura de la aplicacion algo muy drogas, gustavo ayudo un poco (el si me cae bien XD), entoncs ayudo diceindo algo de nivel como Enketo | koboto | base datos. tengo entendido que debo mostrar como se relacionan cada una de las partes de la aplicacion entre si y como estas interactiuan con el usuario.\n",
    "para ello echare una rebisada a las aplicaciones a ver si alguia muestra esta grafica sin tener yo que hacerla. si no pues sera hacerla a ver que puedo hacer."
   ]
  },
  {
   "cell_type": "markdown",
   "metadata": {},
   "source": [
    "### NOTA: Ellos ayudan con la instalacion local (no se si cobren)"
   ]
  },
  {
   "cell_type": "markdown",
   "metadata": {},
   "source": [
    "Continuando... Se realiza la estructura de la aplicacion teniendo en cuenta las explicaicones de andrea (Cusol) sobre Django y las explicaciones de gustavo, no creo que sea exactamente como funcione pero asi es como entiendo que funcione\n",
    "![Estructura](images/Estructura_app.png)"
   ]
  },
  {
   "cell_type": "markdown",
   "metadata": {},
   "source": [
    "Bueno y una breve explicacion para tener algo que redactar en el informe: \n",
    "La grafica representa la estructura del sistema o como se ha venido mencionado de la herramienta de recoleccion de datos a utilizar, dado que ONA y Kobotoolbox comparten muchas carateristicas sus graficos de estructura no son muy diferentes. Estas herramientas son diseñade en DJango por ende tienen una arquitectura vista, modelo, template, como todas las aplicaciones echas en django, aparte de esto realiza una implementacion de Enketo, que como se menciono es una libreria de widgets para formularios con el cual se pueden integrar una gran cantidad de tipos de preguntas. A la herramienta se puede acceder de dos maneras una es desde un navegador web en donde se podran realizar la mayoria de funciones que la misma presenta como lo son la creacion de proyectos, formularios, usuarios, la asignafcion de usuarios, la revision de los datos y mas; y de una seguna manera desde la aplicacion movil ODK , la cual obtiene el formulario de encuesta y permite la recoleccion de datos de manera offline en el dispositivo."
   ]
  },
  {
   "cell_type": "markdown",
   "metadata": {},
   "source": [
    "Y a grandes rasgos creo que ya esta realizada la estructura queda pues haer el informe."
   ]
  },
  {
   "cell_type": "code",
   "execution_count": null,
   "metadata": {
    "collapsed": true
   },
   "outputs": [],
   "source": []
  }
 ],
 "metadata": {
  "kernelspec": {
   "display_name": "Python 3",
   "language": "python",
   "name": "python3"
  },
  "language_info": {
   "codemirror_mode": {
    "name": "ipython",
    "version": 3
   },
   "file_extension": ".py",
   "mimetype": "text/x-python",
   "name": "python",
   "nbconvert_exporter": "python",
   "pygments_lexer": "ipython3",
   "version": "3.6.0"
  }
 },
 "nbformat": 4,
 "nbformat_minor": 2
}
