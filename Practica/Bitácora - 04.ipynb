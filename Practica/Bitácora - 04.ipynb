{
 "cells": [
  {
   "cell_type": "markdown",
   "metadata": {},
   "source": [
    "# Bitácora - 04:  Practica ARDG\n",
    "## Practica Autodenominada Recolección de Datos para Geomatica\n",
    "\n",
    "De la bitácora 3 y las correcciones echas en la reunión del sábado 18 de marzo de 2017 se extraen las siguientes tareas:\n",
    "* Hablar con Duvan para conocer de mejor manera el alcance de la practica\n",
    "* Pedir la `.iso` a Gustavo\n",
    "* Corregir Impacto y Alcance teniendo en cuenta los consejos de Gustavo referentes a la redacción.\n",
    "* ~~Diseñar la estructura del informe final~~ Es mostrar la estructura de la aplicación\n",
    "* Empezar con la instalación de la aplicación.\n",
    "\n",
    "### Tarea Uno:\n",
    "El día lunes 27 de marzo de improviso se habla con Duvan cuadrando una reunión para el día viernes 31 de marzo de 2017, bueno la cuestión es que no se si deba generar alguna presentación o solo con llevarle lo que tengo hasta el momento sea necesario, me comunicare con Gustavo para lo mismo.\n",
    "\n",
    "### Tarea Dos:\n",
    "Ya tengo la iso creo que al final no es una iso sino es un archivo que ni puta idea jajaj pesa 4Gb y no creo que pueda subirlo a Github así que actualizare todo menos dicha imagen, otra cosa a realizar es ver si toca usar vargrant dentro o fuera de la iso.\n",
    "\n",
    "### Tarea Tres:\n",
    "la idea es arreglar el alcance, objetivos y demás después de la reunión con Duvan, llevar la infraestructura y mirar si hacer presentación y ya.\n",
    "\n",
    "### Tarea Cuatro:\n",
    "Se pide la infraestructura de la aplicación es decir la comunicación entre las secciones de la aplicación funciona es decir comunicación entre backend y frontend, con el usuario con la aplicación, como funciona la base de datos, como guarda los datos, se necesita información de enketo de que mas tipos de preguntas trae y como las guarda en la base de datos.\n",
    "\n",
    "De lo anterior toma prioridad la elaboración de la estructura de la aplicación y la reunión de Duvan que la instalación de la aplicación incluso que la instalación de la maquina virtual.\n",
    "\n",
    "### Estructura de la aplicación:\n",
    "Bueno se debe generar la arquitectura de la aplicación algo muy drogas, Gustavo ayudo un poco (el si me cae bien XD), entonces ayudo diciendo algo de nivel como Enketo | kobotoolbox | base datos. tengo entendido que debo mostrar como se relacionan cada una de las partes de la aplicación entre si y como estas interactúan con el usuario.\n",
    "para ello echare una revisada a las aplicaciones a ver si alguna muestra esta gráfica sin tener yo que hacerla. si no pues sera hacerla a ver que puedo hacer.\n",
    "\n",
    "### NOTA: Ellos ayudan con la instalación local (no se si cobren)\n",
    "\n",
    "Continuando... Se realiza la estructura de la aplicación teniendo en cuenta las explicaciones de Andrea (Cusol) sobre Django y las explicaciones de Gustavo, no creo que sea exactamente como funcione pero así es como entiendo que funcione\n",
    "![Estructura](images/Estructura_app.png)\n",
    "\n",
    "Bueno y una breve explicación para tener algo que redactar en el informe: \n",
    "La gráfica representa la estructura del sistema o como se ha venido mencionado de la herramienta de recolección de datos a utilizar, dado que ONA y Kobotoolbox comparten muchas características sus gráficos de estructura no son muy diferentes. Estas herramientas son diseñadas en Django por ende tienen una arquitectura vista, modelo, template, como todas las aplicaciones echas en Django, aparte de esto realiza una implementación de Enketo, que como se menciono es una librería de widgets para formularios con el cual se pueden integrar una gran cantidad de tipos de preguntas. A la herramienta se puede acceder de dos maneras una es desde un navegador web en donde se podrán realizar la mayoría de funciones que la misma presenta como lo son la creación de proyectos, formularios, usuarios, la asignación de usuarios, la revisión de los datos y mas; y de una segunda manera desde la aplicación móvil ODK , la cual obtiene el formulario de encuesta y permite la recolección de datos de manera offline en el dispositivo.\n",
    "\n",
    "Y a grandes rasgos creo que ya esta realizada la estructura queda pues hacer el informe.\n",
    "\n",
    "Como se tenia planeado el día 31 de marzo de 2017 se realizo la reunión con Duvan en las oficinas de Geomatica, la reunión consistió en, de parte de Duvan, dar a conocer la necesidad presente en Geomatica y presentar los informes y trabajo realizado hasta la fecha.\n",
    "\n",
    "### Informe reunión con Duvan:\n",
    "En general en la reunión se tocaron dos temas, Duvan explico la necesidad presente en Geomatica respecto a la recolección de datos y se presentaron los informes y consultas realizadas hasta el momento. La reunión empieza con una anécdota de parte de Duvan sobre la recolección de datos de Geomatica, donde se da a conocer lo requerido por Geomatica en una aplicación de recolección de datos, la cual se resume en 3 grandes principios, también se da una pequeña demostración del uso de la aplicación actual utilizada en la recolección de datos.\n",
    "Duvan da a conocer que en Geomatica ya existe una herramienta muy poderosa para la recolección de datos, la cual cumple con las 3 funciones principales requeridas por ellos, las cuales son:\n",
    "1. La aplicación permita la recolección de datos de manera offline.\n",
    "2. La aplicación permitirá la observación de los datos recogidos en tiempo real, para evitar errores en los mismos.\n",
    "3. permita la toma de posición de los datos y la visualización de los datos en un mapa de los mismos.\n",
    "\n",
    "Dicha aplicación también permite la visualización de los mapas y datos en la aplicación móvil siendo esta una de las características que no se podría estar seguros que ONA o Kobotoolbox posean, ya que usan ODK como recolector, abría que estudiar las ventajas y características de ODK. Las demás características presentadas en la aplicación que utiliza Geomatica están incluidas en ONA y Kobotoolbox. Una características interesante de la aplicación utilizada en Geomatica es la implementación de una base de datos relacional por cada proyecto de recolección, esta es una característica, que según Duvan dio a entender, fue implementada en Geomatica, esta característica si no la incluye ONA o Kobotoolbox también podría ser implementada por Geomatica. \n",
    "Surge entonces una pregunta y es ¿Si Geomatica tiene una herramienta tan poderosa para la recolección de datos por que esta buscando una herramienta para realizar dicha tarea?, la respuesta fue contestada por Duvan y es el problema con la licencia, la herramienta usada en Geomatica tiene una licencia que los obliga a realizar pagos para su uso, Geomatica esta buscando una aplicación LIBRE, que ellos puedan usar, modificar e instalar en cualquier lugar y sin preocupación.\n",
    "Una vez explicado el funcionamiento de la aplicación actualmente utilizada en Geomatica se explican cada una de las consultas, tablas, filtros e informes realizados hasta el momento, Duvan realiza varias preguntas mientras se realiza la explicación para poder entender de una mejor manera en funcionamiento de la misma. Una vez explicados los informes y resueltas todas las dudas sobre el funcionamiento de la aplicación se discute del siguiente paso a seguir, el cual consiste en la instalación de la aplicación en la maquina virtual entregada por Gustavo.\n",
    "Una vez terminada la explicación de los informes Duvan presenta una actitud de satisfacción con el trabajo realizado y nombra la posibilidad de realizar un articulo de aplicación, también destaca que seguiré trabajando de la mano con Gustavo y que estará pendiente de los avances en el proyecto."
   ]
  }
 ],
 "metadata": {
  "kernelspec": {
   "display_name": "Python 3",
   "language": "python",
   "name": "python3"
  },
  "language_info": {
   "codemirror_mode": {
    "name": "ipython",
    "version": 3
   },
   "file_extension": ".py",
   "mimetype": "text/x-python",
   "name": "python",
   "nbconvert_exporter": "python",
   "pygments_lexer": "ipython3",
   "version": "3.6.1"
  }
 },
 "nbformat": 4,
 "nbformat_minor": 2
}
