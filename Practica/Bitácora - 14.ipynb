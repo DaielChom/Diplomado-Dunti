{
 "cells": [
  {
   "cell_type": "markdown",
   "metadata": {},
   "source": [
    "# Bitácora 14:\n",
    "\n",
    "### 13 - 01 - 18: \n",
    "\"Nuevo comienzo, Feliz año\" Por tercera vez, y dado que formatee el pc, se plantea una nueva instalacion de kobotoolbox en fedora buscando que esta instalcion si funcione y los errores que aparescan se puedan solucionar, de lo contrario si se gasta mucho timepo en la misma se cambiara a una instalacion en ubuntu y pus ni modo, igual se que guztavo no dira nada respecto a eso, hice mi esfuerzo pero esa documentacion de kobotoolbox no ayuda de a mucho. Creo que abriré un nuevo notebook, no me gusta ver esos notebooks tan largos."
   ]
  },
  {
   "cell_type": "markdown",
   "metadata": {
    "collapsed": true
   },
   "source": [
    "### 22 - 01 -18:\n",
    "Bueno Volviendo al trabajo ya estoy hospedado en cage nuevamente y me dedicare al trabajo. por ahora probare la instalacion en la maquina virtual que esta en la red, hay un problmea y es que el linux de esa maquina es bastante viejo o eso creo, asi que hare pruebas a ver si se puede instalar decker alli, si no se peude paso a hacer males a la maquina de fedora o alguna maquina virtual. depronto me demore mas en la configuracion de la red para poder acceder a la mauina en virtual box más que la instalacion del docker como tal. esperar a ver."
   ]
  },
  {
   "cell_type": "markdown",
   "metadata": {},
   "source": [
    "\n",
    "\n",
    "    \n"
   ]
  },
  {
   "cell_type": "markdown",
   "metadata": {
    "collapsed": true
   },
   "source": [
    "### 25 - 01 - 18:\n",
    "Pues solo pude durarun dia en CAGE pero si algo que tengo que decir es que me arte de hacer pruebas de instalacion del docker en una maquina vitrtual de ubuntu, que ahsta de tanto ahcerlo creo que algo se murio por alla por que ahora hago la instalacion y no funciona nada :(, voy a hacer unas ultimas pruebas si no pido la maquna en geomatica y me mato alla haciendo eso. Bueno el caso es que le mande un correo a Guztavo informando de lo que estaba haciendo. a ver si depronto el me ilumina o algo. le debo bastante a guztavo, no se por que no pense en el cuando traigo mis quesadillas."
   ]
  },
  {
   "cell_type": "markdown",
   "metadata": {
    "collapsed": true
   },
   "source": [
    "### 29 - 01 - 18: \n",
    "Pues que puedo decir, estoy en CAGE esperando no se si empezar con el proyecto de grado, o esperar a que Gustavo responda, le mande el correo el ueves, me dijo que le diera el fin de semana para que lo leyera, no se si lo leyo y ahora pues me toca esperar por que ya logre la instalacion en la maquina de ubuntu y ya quiero poderla instalar en el servidor, pero necesito un ubnutu 16.04 no un ubuntu de 2005 o 2015, no recuerdo croe que es de 2015. La cuestion es que es un ubuntu viejo."
   ]
  },
  {
   "cell_type": "markdown",
   "metadata": {
    "collapsed": true
   },
   "source": [
    "### 2 - 02 - 18:\n",
    "\"Cuando estan adorandote todas las aves canoras\". Anoche me llego respuesta al correo de Gustavo, ya tengo via libre para trabajar con dockers, me dijo que le llevara una maquina virtual para que el la montara, lo que no tuve en cuenta es el acceso a internet de dicha maquina, por uqe si es asi me toca primero instalarlo y luego llevarle la maquina y resar de que sirva. pero si tiene acceso a internet rela. por ahora probar la que esta alla a ver que, SI, si tengo internet en la maquina virtual."
   ]
  },
  {
   "cell_type": "markdown",
   "metadata": {
    "collapsed": true
   },
   "source": [
    "* **Nombre de la maquina: ** kobopc\n",
    "* ** User: ** kobo\n",
    "* ** pass: ** kobo"
   ]
  },
  {
   "cell_type": "markdown",
   "metadata": {},
   "source": [
    "### 05 - 02 - 18:\n",
    "EL viernes entrege la maquina virtual a gustavo, ya la monto, lo que queire decir que ya puedo empezar a atrabajar sobre ella, asi que empezare con mis locas pruebas, ojala funcione :'(. Pues ya no pude entrar por ssh a esa maquina :'(, como lloro :'(. \n",
    "Al parecer y algo que me falto configurar, que la verdad no sabria como es.\n",
    "Sikas me toca instlar ssh y activarlo.\n",
    "y eso se soluciona\n",
    "\n",
    "http://ubuntuhandbook.org/index.php/2016/04/enable-ssh-ubuntu-16-04-lts/\n",
    "\n",
    "POR FIN HP!!!!!!!\n",
    "Ya esta eso montado se puede acceder de la u en http://10.1.90.19:8000 ya solo queda poner el servicio y listo a hacer la prueba mañana, por ahora creare el formulario"
   ]
  },
  {
   "cell_type": "markdown",
   "metadata": {
    "collapsed": true
   },
   "source": [
    "#### 06 - 02 - 18:\n",
    "Ya cree una encuesta con datos de posicion y todo, ya tome varios datos y ya estan arriba en el servidor solo queda mostrarle a gustavo como se ve todo, y pues que firmen los papeles de paz y salvo, quiero salir de eso antes de que el se vaya pues piensa ir a la pycon de medellin y viaja mañana en la noche, asi que quiero tener las formas de el y duvan a mas tardar mañana en la tarde, para con eso quedar a paz y salvo y pues que el diploma que lo entregen cuando sea necesario en eso si no tengo afan. no se si me pediran algun informe final, espero que no por que que flojera, pero bueno esperar a ver pues. sera pues trabjar en el proyecto de grado. Para la prueba me pidieron que se manejaran varios usuarios, por ende creare unos 4 usuarios para tomar datos\n",
    "\n",
    "\n",
    "aaaaajjj juepuchica toca sacar esa puta mierda a la red por que para crear un usuario se necestia hacer berificaccion mediante el correo electronico y de lo que el correo puede salir pero como llega, no se puede acceder a la maquina desde afuera de la red. AAAAAAAAA la puta madre a lo bien, puto duvan de mierda. :3\n",
    "\n",
    "\n",
    "###### user 1\n",
    "user: user1\n",
    "pass: 1234\n",
    "\n",
    "asi que ni modo de crear usaurios. por ahora pues me pondre a meerle mano al docker a ver"
   ]
  },
  {
   "cell_type": "markdown",
   "metadata": {
    "collapsed": true
   },
   "source": [
    "#### 08 - 02 - 18:\n",
    "Como siempre investigando un poco descubri donde estan los archivos pero surgio algo raro que no entiendo, es como si huviera varias versiones, o no se si es que los dockers van generando copias de seguridad o no se por que pillen\n",
    "\n",
    "\n"
   ]
  },
  {
   "cell_type": "markdown",
   "metadata": {
    "collapsed": true
   },
   "source": [
    "Bueno ya tengo o eso creo varias maneras de poderme meterle mano al docker, por que lo que ahora quedaria hacer la prueba y poner en el word o tan solo como que ajj lo pongo y no hago nada, creo que probare el de ./vols a ver si sirve pero lo hare en la maquina virtuala de mi pc localmente local"
   ]
  },
  {
   "cell_type": "markdown",
   "metadata": {},
   "source": [
    "#### 19 - Feb - 18:\n",
    "Vaaaaaa laaaaa maaadreeeeeeee hp, me dicen ñañañañ cual es la demora, cual es la demora, saben cual es la hp demora, uds que en especial sumerce gustavo va la madre enserio tengo un plazo de entregar eso y ud ñañña la otra semana ñañañ mañana ajññañaña no tengo tiempo {añaññañañ daniel por que tanta demora, la puta madre de las madres estoy perdiendo el tiempo, no ve que yo tambein tenog cosas que hacer. bueno mañana a medio dia tengo una reunion con él, esperar a ver en que termina eso."
   ]
  },
  {
   "cell_type": "markdown",
   "metadata": {
    "collapsed": true
   },
   "source": [
    "#### 20 - Feb -18:\n",
    "Paciencia hombre, paciencia a Geomatica, hoy tenia una reunion para ver si guz podia darle acceso desde afuera a la maquina donde esta koboto. fui, el estaba hasta la madre de lamerle el culo a Duvan y lo entiendo ese man es un ..... El pobre esta hasta la madre, pero tampoco se que mierda hace ahi, ya hace rato me hubiera ido. pero buneo cada quien con lo suyo la cuestion es que gustavo no estaba de animos como para ponerse a \"mariquear\" conmigo y no pudo hacer una tunelalizacion rara ahi de una maquina a otra, lo cual me dejo una tareita, que peude que quede facil o peude que no. por ahora calmado por que igual hay muchas cosas que hacer mas adelante, aun esta lo de los correos esos y la verdad no se si de, lo que me pidido hacer es algo de estudiando y revisando podria ser capas de hacerlo. La cuestion es esta la tarea es hacer un `ip forwarding` o algo por ese estilo, soy malo con el ingles, algo que debo denotar\n",
    "* Estaba usando un firewall lamado firewalld.\n",
    "\n",
    "Segun tengo entendido es con el firewall que se hace el forwarding ese raro, pero no se si realmente sea mi tarea es buscar hacerlo, puede que ni siqueira tenga que ver con el firewall pero bueno, la cuestion es buscar como hacer \"ip forwarding\" en ubuntu. en segunda instancia\n",
    "* Lo que primeramente busco él fue firewalld port forwarding\n",
    "lo que en practica tengo que hacer es que al yo entrar al localhost:8000 me muestre lo que esta en 10.1.90.19:8000.\n",
    "Esa es mi tarea."
   ]
  },
  {
   "cell_type": "code",
   "execution_count": null,
   "metadata": {
    "collapsed": true
   },
   "outputs": [],
   "source": [
    "\n"
   ]
  }
 ],
 "metadata": {
  "kernelspec": {
   "display_name": "Python 3",
   "language": "python",
   "name": "python3"
  },
  "language_info": {
   "codemirror_mode": {
    "name": "ipython",
    "version": 3
   },
   "file_extension": ".py",
   "mimetype": "text/x-python",
   "name": "python",
   "nbconvert_exporter": "python",
   "pygments_lexer": "ipython3",
   "version": "3.6.3"
  }
 },
 "nbformat": 4,
 "nbformat_minor": 2
}
