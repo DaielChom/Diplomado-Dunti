{
 "cells": [
  {
   "cell_type": "markdown",
   "metadata": {},
   "source": [
    "# Bitácora - 08:  Practica ARDG\n",
    "## Practica Autodenominada Recolección de Datos para Geomatica\n",
    "\n",
    "##### Reunion viernes 26-05-2017:\n",
    "Bueno se realizo la tabla la cual se puede encontrar en /Tabla Comparativa/index.html. pero en una reunion que se tuvo con gustavo esta tabla no le gusto y alfin alcabo para lo que se necesitaba pues tenia razon, habia mucha \"verborrrea\" en la tabla, se le mostro ONA y kobotoolbox a gustavo y pues como me lo imagine y como no queria se escogio onadata, y se asignaron mas tareas:\n",
    "* ~~Corregir Tabla - quitar verborrea~~\n",
    "* Reusar Asana\n",
    "* ~~Poner en la tabla lo de los dispositivos moviles~~\n",
    "* ~~Flata poner imagen de como se ve la creacion de formualarios y como se ve el formulario~~\n",
    "* Hacer estructura de articulo, es decir los titulos principales.\n",
    "* Instalar onadata\n",
    "* Hacer informe con la tabla comparativa"
   ]
  },
  {
   "cell_type": "markdown",
   "metadata": {},
   "source": [
    "#### Solucion\n",
    "1. Tabla Corregida [ver](Tabla Comparativa/index.html)"
   ]
  },
  {
   "cell_type": "code",
   "execution_count": null,
   "metadata": {
    "collapsed": true
   },
   "outputs": [],
   "source": []
  }
 ],
 "metadata": {
  "kernelspec": {
   "display_name": "Python 3",
   "language": "python",
   "name": "python3"
  },
  "language_info": {
   "codemirror_mode": {
    "name": "ipython",
    "version": 3
   },
   "file_extension": ".py",
   "mimetype": "text/x-python",
   "name": "python",
   "nbconvert_exporter": "python",
   "pygments_lexer": "ipython3",
   "version": "3.6.0"
  }
 },
 "nbformat": 4,
 "nbformat_minor": 2
}
