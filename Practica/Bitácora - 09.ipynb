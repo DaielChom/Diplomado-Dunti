{
 "cells": [
  {
   "cell_type": "markdown",
   "metadata": {},
   "source": [
    "# Bitácora - 09\n",
    "\n",
    "\n",
    "Bueno, hace reguero que no escribia una bitácora y la razon es por que había estado entretenido con la programacion de QRTracker, la cual me quedo hasta chevere, tiene muchos errores pero bueno. Una vez terminada la programacion del mismo, o almenos el cumplimiento de los requerimientos, se procede a retomar la tan cansona instalacion de ONA.\n",
    "\n",
    "En la ultima prueba de instalacion de ONA, habia sucedido que no se lograba ingresar por cuestiones de que los correos de comprobacion no estaban saliendo a internet. ¿Que se hizo esta vez?, primero se hizo nuevmente una investigacion, en internet, a ver si no exisita alguna guia por ahi y se encontro una instalacion mediante ´dockers´, dos guias a decir verdad, las cuales son las sigueintes [docker-ona](https://github.com/ukanga/docker-ona) y [ona-azizi](https://github.com/bibbox/app-azizi-amp).\n",
    "\n",
    "Se probo la ejecucion de ambos dockers, esperando la correcta instalacion de ONA y lo que sucedio fue que, el docker-ona no se instalo correctamente, presento muchos inconvenietnes, me imagino que sera por cuestiones de qeu esta planeado para ubuntu 14 y debe funcionar con muhcos repositorios desactualizados. la instalacion de ona-azizi fue exitosa, pero al ejecutar el docker salian varios errores por cuestiones de que el docker azizi, realiza unas configuraciones extra de ona, para que funcione en los computadores de azizi (lo que aun ni se que sera eso), por ejemplo creaba un localhost con el nombre de azizi y ona se instalaba alli, y entre otras configuraciones que abria que hacerle a la maquina en la que se intale, ¿y como se eso?. dado que la instalacion de ona-azizi daba error, busque a gustavo a ver que si me podia ayudar y pues me hizo darme cuenta de esto, y de paso me dio un consejo y es que los dockers funcionan como cajas negras, aunque teoricamente en el dockerfile salen los pasos que realiza el docker tampoco es que sea una caja negra a mi parecer, pero aun asi se ejectan solo dos lineas sin saber que mas estará instalando en el fondo, que me recomendaba mejor seguir una instalacion de paquete por paquete. y pues eso se hizo se realizo una instalacion paquete a paquete pero esta vez haciendo una pequeña fusion entre las sigueintes 4 guias:\n",
    "\n",
    "1. [Official install instructions](https://api.ona.io/static/docs/install.html)\n",
    "2. [docker-azizi](https://github.com/bibbox/app-azizi-amp)\n",
    "3. [step to step](https://gist.github.com/oguya/8c7b81634d648500a8c00400abab327e)\n",
    "4. [classic ona installation](https://github.com/badili/classic_ona/blob/master/installation-configuration.md)\n",
    "\n",
    "Se comparo paso por paso y se consiguio la siguiente guia de instalacion:\n",
    "\n",
    "> **1.** Actualziar el sistema y limpiar <br/>\n",
    "> **2.** Se intala postgres: `sudo apt install postgresql` <br/>\n",
    "> **3.** instala postgris: `sudo apt-get install postgresql-9.5-postgis-scripts` <br/>\n",
    "> **4.** se ejecuta lo de la bd: <br/>\n",
    "`sudo su postgres -c \"psql -c \\\"CREATE USER onadata WITH PASSWORD 'onadata';\\\"\"\n",
    "sudo su postgres -c \"psql -c \\\"CREATE DATABASE onadata OWNER onadata;\\\"\"\n",
    "sudo su postgres -c \"psql -d onadata -c \\\"CREATE EXTENSION IF NOT EXISTS postgis;\\\"\"\n",
    "sudo su postgres -c \"psql -d onadata -c \\\"CREATE EXTENSION IF NOT EXISTS postgis;\\\"\"\n",
    "sudo su postgres -c \"psql -d onadata -c \\\"CREATE EXTENSION IF NOT EXISTS postgis_topology;\\\"\"`<br/>\n",
    "> **5.** vamos a /opt:<br/>\n",
    "`cd /opt` <br/>\n",
    "> **6.** se corre el sigueinte script:\n",
    "[ona](ona)<br/>\n",
    ">**7**. copia archivo de configuracion<br/>\n",
    "`sudo cp onadata/settings/default_settings.py onadata/settings/local_settings.py`<br/>\n",
    ">**8.** se agrega la contraseña de la bd: <br/>\n",
    "`sudo sed -i \"s/'PASSWORD': ''/'PASSWORD': 'onadata'/\" onadata/settings/local_settings.py \\` <br/>\n",
    ">**9.** instalar dependiencias y actualizar pip: <br/>\n",
    "`pip install --upgrade pip\n",
    "python2 -m pip install django-digest django-utils\\\n",
    "sudo pip install -r requirements/base.pip`<br/>\n",
    ">**10.** make el doc <br/>\n",
    "`cd /opt/onadata/docs\n",
    "sudo make html\n",
    "cd /opt/onadata`<br/>\n",
    ">**11.** hacer la migracion<br/>\n",
    "`./manage.py migrate`<br/>\n",
    ">**12.** se crea super usuario <br/>\n",
    "`sudo python manage.py collectstatic --noinput\n",
    "sudo python manage.py createsuperuser` <br/>\n",
    "en este caso el super usuario fue <br/>\n",
    "**daielchom95 <br/>\n",
    "1234**\n",
    " \n",
    " para correr el servidor: <br/>\n",
    " `sudo python manage.py runserver --nothreading`"
   ]
  },
  {
   "cell_type": "markdown",
   "metadata": {},
   "source": [
    "Con estos pasos aun no se soluciona la cuestion del correo electronico, pero con el super usuario se peude ingresar al sistema, lo que nos revela que lo que el repositorio de ona permite instalar es lo mismo que se encuentra en la sigueinte direccion [ona classic](https:/odk.ona.io).\n",
    "\n",
    "Realizando una inspeccion de ona classic vemos que es muy diferente a los serivicios perstado en ona.io, comenzando con que la interface en ona classic no es para nada intuitiva ni agraable y no da una buena experieicna al usuario. segundo en ona classic no se pueden crear nuevos formularios, se peuden eliminar, ver, importar o exportar. para poder crear uno se requiere el uso de odk collector que es una herramienta de google de la cual ya se hablo. odk lo que proporicona es la herramienta para crear los formularios y la herramiendo en android para recolectarlos, ona classic se encargaria de la administracion de los mismos, y cumple, pero con cosas basicas, permite descargar csv, excel, pero por ejemplo no presenta un analizis tan grande como lo permite ona.io, apenas muestra una grafica de barras, mientras que en ona.io se mostraban distintas graficas. en ona classica tampoco existe esa cuestion de organizaciones como se muestra en ona.io.\n",
    "\n",
    "Por ende en lo personal si se desea tener un recolector de datos local recomiendo Kobotoolbox, ya que tiene una instalacion mas sencilla y ya trae incorporado odk collect, y es mas agradable al usuario, aunque tambien son un par de lineas de codigo pues nos ofrecen una maquina virtual con kobo instalado, se logra la instlaacion y el funcinamiento sin errores, en cambio ona se sabe que mas se instala pero lograr la instalacion del mismo es un complique.\n",
    "\n",
    "kobotoolbox, funcina en si como una caja negra, ...mierda tacho pause aca gustavo no creo que acepte que kobotoolbo se instale con solo dos lineas ajjj hp que flojera, pere a ver si se logra instalar sin la mauqina virtual esa que kobotoolbox propone, por que tambien son como 3 repos lo que hay que intlar."
   ]
  },
  {
   "cell_type": "markdown",
   "metadata": {},
   "source": [
    "bueno primero en kobo recomeindan la instalacion de kobo mediante dockers\n",
    "\n",
    "http://support.kobotoolbox.org/customer/portal/articles/1691108-install-kobotoolbox-on-your-own-servers\n",
    "\n",
    "tabien tienen una instalacion mediante vagrant\n",
    "http://support.kobotoolbox.org/customer/portal/articles/1691105-using-kobotoolbox-offline\n",
    "\n",
    "y si se quiere instalar se debe instalar lo sigueinte:\n",
    "\n",
    "https://github.com/kobotoolbox/enketo-express/\n",
    "https://github.com/kobotoolbox/kobocat\n",
    "https://github.com/kobotoolbox/kpi\n",
    "\n",
    "esta como complicado, pues kobotoolbox nos ayuda proporcionando una forma de instalar mediante vagran o docker, por cuestiones de no reinventar a rueda pues no existe guia paquete a paquete para instalar, y pues apoyo, kobotoolbox piensa mas en su comunidad ya que todas las formas que ofrecen para instalar kobtoolbox funcionan, no como ona que cuan guia, cuan docker se quedo corto y pues no me matare mas y mi argumento sera ese para que se quiere una instalacion paso a paso si no sirve. aunque el me dira algo como y si me quiero meter a las tripas del codigo que, por que eso seria un inconveniente con la maquina virtual, se peude saber donde esta el codigo, pero es mas complciado para modificar y pues kobotoolbox no da informacion de pasos a seguir o dependencias, aunque todas estas se peuden saber viendo los codigos, pero pues no es lo mismo, pues ahi muchas cosas de las que puede depender indirectamente, como sucede con ona y lo del servidor de correos, en ningun lado dice que lo requiere y ese fue un error que incluso sigue sin resolver.\n",
    "\n",
    "aqui hay una problematica:\n",
    "kobo: se instala facil y es mejor funcionalmente y mas agradable, pero no es tan facil acceder al codigo, pues su instalacion o es por docker o vagrant ya uqe no hay guia de instalacion paquete a paquete a menos de que se haga un estudio e ingenieria inversa a los dockerfiles o vagrants files para saber que mas configraciones y dependencias requiere kobotoolbos para su instalacion directa en local.\n",
    "\n",
    "ONA: es complicada de instalar, las guias no sirven, de por si toco hacer un estudio a los dockerfiles y usar 4 guias para medio lograr una instalacion, para una herramienta corta de funcionalidad y nada agradable a la vista, teniendo en cuenta que aun hay que solucionar la cuestion de los correos, que pdoria ser un problema o configuracion en el propio repositorio DJango."
   ]
  },
  {
   "cell_type": "markdown",
   "metadata": {},
   "source": [
    "mas noticias, encontre como agregar nuevos formularios a odk.ona.io y es con un excel. osea se crea el formulario en excel siguiendo los parametros de XLSFORM se agrega a ona classic y para llenar el formulario toca con la aplicacion de odk para recolectar"
   ]
  },
  {
   "cell_type": "code",
   "execution_count": null,
   "metadata": {
    "collapsed": true
   },
   "outputs": [],
   "source": []
  }
 ],
 "metadata": {
  "kernelspec": {
   "display_name": "Python 3",
   "language": "python",
   "name": "python3"
  },
  "language_info": {
   "codemirror_mode": {
    "name": "ipython",
    "version": 3
   },
   "file_extension": ".py",
   "mimetype": "text/x-python",
   "name": "python",
   "nbconvert_exporter": "python",
   "pygments_lexer": "ipython3",
   "version": "3.6.1"
  }
 },
 "nbformat": 4,
 "nbformat_minor": 2
}
