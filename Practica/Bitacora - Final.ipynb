{
 "cells": [
  {
   "cell_type": "markdown",
   "metadata": {},
   "source": [
    "# Bitacora Final.\n",
    "\n",
    "#### 4 - Abril - 2018:\n",
    "Por fin se va a acabar, ya puedo estar seguro que esta será la bitacora final, y si todo va bien la ultima vez que escriba en esta bitacora. Acabo de presentar un video y el notebookde la creacion de usuarios y a Guz le gusto y le parecio bien. osea que aprove esa parte, como nueva tarea me dijo que trajera un dispositivo magnetica con toda la informacion de lo que se hizo durante el proyecto, Informes, imagenes, videos, etc, etc, etc. y pues eso hare. en el Directorio [CD_final](./CD_final) pondre todo aquello necesario para que Guz sea capas de recordar y revisar todo lo que se hizo durante la practica, debo creaerle un readme explicando que mas hay en dicho CD y eso, incluido una seccion sobre mi. El CD lo llevare con los documentos a firmar."
   ]
  },
  {
   "cell_type": "code",
   "execution_count": null,
   "metadata": {},
   "outputs": [],
   "source": []
  }
 ],
 "metadata": {
  "kernelspec": {
   "display_name": "Python 3",
   "language": "python",
   "name": "python3"
  },
  "language_info": {
   "codemirror_mode": {
    "name": "ipython",
    "version": 3
   },
   "file_extension": ".py",
   "mimetype": "text/x-python",
   "name": "python",
   "nbconvert_exporter": "python",
   "pygments_lexer": "ipython3",
   "version": "3.6.3"
  }
 },
 "nbformat": 4,
 "nbformat_minor": 2
}
