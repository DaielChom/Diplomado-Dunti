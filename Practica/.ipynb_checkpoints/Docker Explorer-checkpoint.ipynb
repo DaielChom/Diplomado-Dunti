{
 "cells": [
  {
   "cell_type": "markdown",
   "metadata": {},
   "source": [
    "# Docker Explorer\n",
    "Pues me toca hacer una exploracion sobre docker a ver si puedo hacer cambios raros o algo asi. primero pues hacer unas breves exploraciones en los directorios de docker y dar comanditos descubirendo cosas, me gusta mas a si que tirarme de una vez a aprender sobre docker, aunque podria, pero como que tambien quier hablar con Raul.\n",
    "\n",
    "1. Primero pase el comando \n",
    "\n",
    "        (/var/lib/docker)# find ./* | grep kobologo\n",
    "  \n",
    "![docker](./images/docker_03.png)\n",
    "\n",
    "si le doy el comando \n",
    "\n",
    "        (cd)$ docker images \n",
    "  \n",
    "![doker](./images/docker_04.png)\n",
    "\n",
    "Haciendo copia de los repositorios en mi pc se puede ver cuales son los archivos orginales de kobologo\n",
    "\n",
    "![doker](./images/docker_05.png)"
   ]
  },
  {
   "cell_type": "markdown",
   "metadata": {
    "collapsed": true
   },
   "source": [
    "   * Tengo una idea, depronto pueda hacer mas modificaciones antes de hacer el `docker build`. **DEBO HACER LA PRUEBA**"
   ]
  },
  {
   "cell_type": "markdown",
   "metadata": {},
   "source": [
    "hay mas archivos de kobologo en ortras partes\n",
    "\n",
    "![docker](./images/docker_06.png)"
   ]
  },
  {
   "cell_type": "markdown",
   "metadata": {},
   "source": [
    "lo que podria ser que estos los crea antes de hacer el build o mejor dicho teoricamente los ahce al hacer el build o los hace cuando se ejecuta el archivo docker_local_compose.yml por que es en este archivo donde trae los datos de los repos de kpi, kobocat y enkero y los guarda en el directorio .vols/ y depronto al aher el up o ya como tal el build los pasa de vols al directorio como tal del docker abria que ver durante los pasos de la intalacion cuando se crean o no cada directorio.\n",
    "\n",
    "\n",
    "de una pagina \"El DockerFile se coloca normalmente en la carpeta raíz de su aplicación o servicio y contiene los comandos necesarios para que ese Docker sepa cómo configurar y ejecutar esa aplicación o servicio.\"\n",
    "por lo que entoncs el docker es pasar la aplicacion a produccion?. pues yo creo si por uqe cual es el chiste entoncs, dado entoncs que habria que vovler a compilar el docker si se hacen cambios?, pero dice que puedo crear nuevas imagnes segun vaya modificando el docker, estoy confundido\n",
    "\n",
    "por uqe creo que tmbien puedo hacer configuraciones sobre el docker con comandos como docker run algunbashcommand\n",
    "\n",
    "* docker build crea las iamgenes\n",
    "\n",
    "bueno viendo podria primero orientarme un poco por el funcionamiento del docuemtno compose.yml que es el que se encagra de la confiuracion del docker compose, que es docker compose?, pues se trata de un programa que administrar aplicaciones multidcoker, optima para aplicaciones multiservicio, kobotoolbox es un buen ejemplo dado que usa servicios diferentes, kpi, kobocat, enketo, nginx, postgres, etc etc, entoncs que es lo que hace.\n",
    "\n",
    "kobotoolbox tiene una \"imagen\" de cada uno de sus servicios, obviamante cada una en funcionameinto y con sus dependiacas y tales, luego las pone a trabajr a cada una y las ahce comunicar con los parametros del archivo dockercompose puesto que en el archivo compose se pone a que puerto se monta la imagen, donde se guardaran su codigo, si asi se elige o como en el caso de kobo donde guardar los archivos estaticos, por ahora el archivo compose trabaja de la diguente manera\n",
    "\n",
    "primero cada seccion es la configuracion a cada imagen es decir \n",
    "\n",
    "![docker](./images/docker_07.png)"
   ]
  },
  {
   "cell_type": "markdown",
   "metadata": {},
   "source": [
    "es seccion es la configuracion que tendra la imagen de kobocat para su funcionamiento.\n",
    "* **image:** será la imagen que usará - ¿de donde la tomara? dado que no hay una ruta local ni nada la tomara de la [web](https://hub.docker.com/search/?isAutomated=0&isOfficial=0&page=1&pullCount=0&q=kobo&starCount=0) que es como un banco de imagenes, entoncs kobotoolbox la empresa es la que se encarga de mantener dicha imagen alli arriba, obiamente debe haber alguna forma de usar esa imagen local, pues se podria tambien con docker o no con docker crear una nueva imagen arreglarla guardarla y leerla desde compose.\n",
    "\n",
    "* **env_file:** sera el lugar donde se guardan las variables de entorno, por ejemplo KOBO_MONGO_PORT = 27017\n",
    "\n",
    "* **links:** Linkeamos contenedores con otros servicios. Especificamos el nombre del servicio y el alias, o solo el nombre del servicio. Los contenedores linkeados serán alcanzados con el hostname identificado por el alias o por el nombre del servicio en caso de no haber especificado uno.\n",
    "\n",
    "* **volumes:** \n",
    "![d](./images/docker_08.png)"
   ]
  },
  {
   "cell_type": "markdown",
   "metadata": {},
   "source": [
    "![d](./images/docker_09.png)\n",
    "\n",
    "Montamos rutas o volúmenes, especificamos una ruta en el host (HOST:CONTENEDOR), Igual podemos especificar modo de acceso (HOST:CONTENEDOR:rw)\n",
    "\n",
    "acabo de encontrar una nueva manera de meterle la mano a dockers mientras que se esta montado no se si solo sea lectura o se peuda editar el caso es que\n",
    "\n",
    "![d](./images/docker_10.png)\n",
    "\n",
    "interesante se peude w sie stoy como root.\n",
    "\n",
    "![d](./images/docker_11.png)\n",
    "\n",
    "y se le pueden mandar cositas\n",
    "\n",
    "![d](./images/docker_12.png)\n",
    "\n",
    "de esa manera habria dos formas de personalizar dockers buajjajjaja o buneo creo que 3\n",
    "1. copiando todos los repos y editarlos y rehacer las imagenes\n",
    "2. con la imagensita de ahi arriba\n",
    "3. modificando los archivos dentro de ./vols"
   ]
  },
  {
   "cell_type": "markdown",
   "metadata": {
    "collapsed": true
   },
   "source": [
    "acabo de encontrar un lindo[tutorial](https://carlosazaustre.es/docker-como-entorno-de-desarrollo-local/)icial de docker, muy lindo y explicativo de por si, si quoero hacer cambios en el codigo fuente toca rehacer build y up \n",
    "\n",
    "hay [otro](https://medium.com/@patriciolpezjuri/empezando-con-docker-86f388316551) que dan unas lindas ventjas de dockers"
   ]
  },
  {
   "cell_type": "markdown",
   "metadata": {},
   "source": [
    "explicando docker en español de buna [manera](http://www.javiergarzas.com/2015/07/entendiendo-docker.html)"
   ]
  },
  {
   "cell_type": "markdown",
   "metadata": {},
   "source": [
    "## Prueba\n",
    "\n",
    "prboare modificando el archivo svg que hay en .vols pero entoncs con el docker esta ejecutado a ver qe pasa, luego lo bajo y lo vuelvo a subir a ver"
   ]
  }
 ],
 "metadata": {
  "kernelspec": {
   "display_name": "Python 3",
   "language": "python",
   "name": "python3"
  },
  "language_info": {
   "codemirror_mode": {
    "name": "ipython",
    "version": 3
   },
   "file_extension": ".py",
   "mimetype": "text/x-python",
   "name": "python",
   "nbconvert_exporter": "python",
   "pygments_lexer": "ipython3",
   "version": "3.6.3"
  }
 },
 "nbformat": 4,
 "nbformat_minor": 2
}
