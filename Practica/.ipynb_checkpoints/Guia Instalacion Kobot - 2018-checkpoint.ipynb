{
 "cells": [
  {
   "cell_type": "markdown",
   "metadata": {},
   "source": [
    "# GUIA  DE INSTALACION PARA KOBOTOOLBOX - 2018:\n",
    "### Instalacion del Sistema Operativo.\n",
    "Se trabajará - si no hay invonvenientes- sobre Fedora 27 usando vagrant dado que permite un manejo desde la consla puesto que se usara es fedora server, osea que no hay interfaz a la cual darle clicksitos. Descargando la version could de Fedora y guardandola en un directorio especifico. la version [could](https://alt.fedoraproject.org/es/cloud/)\n",
    "\n",
    "    sudo vagrant box add kobo ./Fedora-Cloud-Base-Vagrant-27-1.6.x86_64.vagrant-virtualbox.box\n",
    "    vagrant init kobo\n",
    "    vagran up\n",
    "    vagrant ssh"
   ]
  },
  {
   "cell_type": "markdown",
   "metadata": {},
   "source": [
    "## Actualizacion del sistema\n",
    "Dado un error de `Failed to set locale, defaulting to C` se ejecuto `sudo yum reinstall glibc-common` pero no sirvio de nada y se prosigue con la actualizacion. que va a ser larguita, no fue tan larga tambien probe `export LANG=en_US` pero tampoco. complicado, bueno continuando.\n",
    "\n",
    "\n",
    "    sudo dnf update && dnf upgrade\n",
    "    \n",
    "## Instalando dependencias\n",
    "Algo que cabe resaltar es que kobotoolbox esta programada en python2 asi que, creo yo, no es conveniente instalar dependencias de python3.\n",
    "\n",
    "    sudo  dnf install python\n",
    "\n",
    "    sudo pip install virtualenv\n",
    "\n",
    "    sudo  dnf install git-all python-devel postgresql-devel postgresql redhat-rpm-config fontforge gettext git-core pcre-devel ttfautohint openssl openssl-devel\n",
    "\n",
    "    sudo yum install -y gcc libxml2 libxml2-devel libxslt libxslt-devel\n",
    "    \n",
    "## A tener en cuenta:\n",
    "\n",
    "Dado que se realizo una instalacion con vagrant sin realizar modificaciones, la maquina virtual quedo con poquita memoria Ram asi que se debe subir, por defecto se creo con 512MB. se recomienda subir dicho espacio para no tener problemas despues. en lo personal lo subi a 2048MB.\n",
    "\n",
    "## Entorno virtual\n",
    "\n",
    "    virtualenv venv\n",
    "    source venv/bin/activate\n",
    " \n",
    " ## Copiar repositorio\n",
    " \n",
    "  git clone https://github.com/kobotoolbox/kpi.git\n",
    "  \n",
    "  \n",
    " ## Solucion de problemas.\n",
    "  \n",
    "  en kpi/dependencies cambiar la dependeinca de crytgrafi en el archivo requiments.txt a la 1.9\n",
    "  \n",
    "\n",
    "\n",
    "\n",
    "\n",
    "\n",
    "    "
   ]
  },
  {
   "cell_type": "markdown",
   "metadata": {},
   "source": [
    "### Nuevas pruebas\n",
    "\n",
    "\n",
    "probe instalndo \n",
    "\n",
    "    sudo dnf groupinstall \"C Development Tools and Libraries\"\n",
    "\n",
    "eso no funcino \n",
    "\n",
    "se probo\n",
    "\n",
    "    sudo yum groupinstall \"Development Tools\"\n",
    "    \n",
    "pues tampoco\n",
    "\n",
    "\n",
    "No se qe hacer se busco en internet y nada, no encuentro una solucion a eso, ya hice una pregunta en [stackoverflow](https://stackoverflow.com/questions/48246830/kobotoolbox-install-uwsgi-error) a ver su depronto pero creo qeu se demorará, ahora que me pongo a pensar será complicado estuve viendo el dockfile y tiene mucha macada que se debe realizar ya parte de eso es que la falta de documentación si esta como mk lo pela, debo ahorrar 4 millones definitivamente. Bueno por ahora realizare la instalacion en ubuntu en vez de fedora, si eso no lo arregla, tendre que probar la instlacion con dockers por que no doy más.\n",
    "\n",
    "### con ubuntu:\n",
    "\n",
    "sudo apt-get install git\n",
    "git clone\n",
    "sudo apt-get install python-pip\n",
    "pip install pip-tools\n",
    "actualizar pip\n",
    "pip-sync en /dependencies/pip/\n",
    "sudo apt-get install python-dev\n",
    "sudo apt-get install libssl-dev\n",
    "sudo apt-get install libxml2-dev libxslt1-dev\n",
    "Arreglar la cuestion de memoria RAM (al parecer salen los mismos errores :'( que flojera)\n",
    "\n",
    "Cabron instalo las dependencias :O no mames wey\n",
    "\n",
    "y ahora?\n",
    "\n",
    "las dependencias apt-get\n",
    "\n",
    "apt-get install $(cat dependencies/apt_requirements.txt)\n",
    "\n",
    "y funciono corri `python manager.py runserver`  y funciono y lo abre en el puerto 8000 la cuestion ahora es configurarlo para poder entrar desde mi navegador.\n",
    "\n",
    "config.vm.network \"forwarded_port\", guest: 80, host: 8080 -> poner eso en el archivo vagrant, obviamente arreglando los puertos necesarios\n",
    "\n",
    "y luego vagrant reload\n",
    "\n",
    "bueno mas o menos si y no \n",
    "https://github.com/mcantillana/unab_install_django\n",
    "ahi esta mejor explicado ya almenos me lanza errores dentro del proyecto de django.\n",
    "\n",
    "y ejecuto\n",
    "python manage.py runserver 0.0.0.0:8080\n",
    " para montar el proyecto en un server.\n",
    " \n",
    "bueno me sale este error.\n",
    "\n",
    "\n",
    "![error](./images/error_ubuntu_01.png)\n",
    "\n",
    "Bueno segun eso es algo al renderizar pero no se si es que no encuentra el archivo o faltara algo, ahi dios si supiera django, seria mas facil.\n",
    "\n",
    "bueno parece que tengo un error desde antes y es por eso de local C o nos eque mierdas, aca una imagen\n",
    "![error](./images/error_ubuntu_02.png)"
   ]
  },
  {
   "cell_type": "markdown",
   "metadata": {
    "collapsed": true
   },
   "source": [
    "pues volvi a correr lo de las aptget_dependdencias y sale que todo esta instalado, la cuestion entoncs es el error ese del template, y segun eso al parecer es cuestion de que se uso algun framework de js para la parte de la interfaz y hace falta como que ejecutar el webpack o alguna cosa rara que no entiendo, creo que hasta saldria mejor ponerle ngnix al archivo que ya esta configurado por que la madre que hacer que eso funcione lo veo cada vez mas complicado, por que esta saliendo error hasta para hacer mostrar la interfaz.\n",
    "\n",
    "\n",
    "\n",
    "curl -sS https://dl.yarnpkg.com/debian/pubkey.gpg | sudo apt-key add -\n",
    "echo \"deb https://dl.yarnpkg.com/debian/ stable main\" | sudo tee /etc/apt/sources.list.d/yarn.list\n",
    "\n",
    "\n",
    "eso de yarn no sirvio, probemos con npm\n",
    "\n",
    "    npm install\n",
    "    \n",
    "pues no era el npm install\n",
    "\n",
    "pues averiguando al parecer puede que falte alguna configuracion en el setting.py, y es un `STATS_FILE` como se muestra en la imagen\n",
    "\n",
    "![error](./images/error_ubuntu_03.png)"
   ]
  },
  {
   "cell_type": "markdown",
   "metadata": {},
   "source": [
    "esa linea hace falta en el settings del proyecto kpi, ais que la puse a ver si funciona.\n",
    "\n",
    "![error](./images/error_ubuntu_04.png)\n",
    "\n",
    "a ver si asi funciona\n",
    "\n",
    "pues no, pero no se si tomo la configuracion o no, o puse mal el path, pues hice modificaciones del path y parece que no es eso, esta tomando la configuracion como es, pero sigue saliendo el error asi que debe ser la forma en que se genero el webpack o no se.\n",
    "\n",
    "le di `npm run build` y algo esta ahciendo, pero salio un error.\n",
    "\n",
    "![error](./images/error_ubuntu_05.png)\n",
    "\n",
    "pareciera que ese fuese el camino pero y ese error ahora q"
   ]
  },
  {
   "cell_type": "markdown",
   "metadata": {
    "collapsed": true
   },
   "source": [
    "Pues ahora hay algo raro, no se que será. por que inicio el servicio en la maquina virtual pero nunca llega, se queda cargando ahi, se que es local, pero no se si mi internet o red tendra algo que ver pero esta raro, deportno por que le quite el STATS fILES.\n",
    "\n",
    "Bueno, si algo tiene que ver ese STATS_FILES, si lo pongo me da el error de que esta mal generado el webpack, si no se lo pongo se queda pensando toda la vida el navegador y no carga nada, asi que no se que será lo correcto, pero asumo que si no traia la linea STATS_FILES, es por que no debe ser necesaria, creo, por ahora entoncs el paso de hacer build a package.json fue correcto, el problema es el error al hacer build que no se que será pues no dice mucho., que podria hacer? es l pregunta aqui. Nada ne la consola. segun entiendo le llega la peticion GET, pero alpercer no hat respuesta. el otro problmea que podria ser es que cuando estuve probando los compandos de nom y yarn y eso haya dañado algo asi saber q, y si habia un webpack-json dentro de kpi/ que no estaba antes y por esto se quedaba toda la vida pensando, la cuestion es quien genero ese webpack?. y si ese webpack lo genero el npm run build.\n",
    "\n",
    "copie el archivo webpcak-stats qeu estaba en webpack/ a ver si asi lo reconocia. parece que eso era, por que el aver copiado eso me genera el error de que mal generado, entoncs debo genrerarlo, pero como."
   ]
  },
  {
   "cell_type": "markdown",
   "metadata": {},
   "source": [
    "una opcion es re instalar toda la maquina, no se si baste con eliminar el repo. otra cosa que me preocupa es el migrate ese\n",
    "\n",
    "![error](./images/error_ubuntu_06.png)"
   ]
  },
  {
   "cell_type": "markdown",
   "metadata": {
    "collapsed": true
   },
   "source": [
    "tengo que isntalar postgrest y mongo tambien. y no tenog mucho informacion de como llamar las bases ni nada.\n",
    "HP las bases, bueno por ahora con lo del npm creo que es por lo siguiente.\n",
    "\n",
    "![error](./images/error_ubuntu_07.png)\n",
    "\n",
    "no estoy seguro que se aloque por no encontrar unas fuernes pero bueno puede que si lo haga, no se como funciones bien webpack pero muchas cosas se dañan por falta de archivos y va la madre que sabra dios como se instala sa fuente con esa mano de archivos.\n",
    "y encontre el problema, al parecer estan ignorando varios archivos como las fuentes, quien sabe que otro tipo de estos archivos \"genericos\" esten ignorando.\n",
    "\n",
    "![error](./images/error_ubuntu_08.png)\n",
    "\n",
    "entoncs -> no se sabe que otros archivos estan ignorando. la base de datos se sabe que es postgres y mongo pero ajam como nombro la bd de postgres.\n",
    "\n",
    "lo mas gracioso de lo de las fuentes es ese package.json que alparecer no esta dentro de la carpera roboto/\n",
    "\n",
    "y sin eso como que no compila el webpack, asi que es complicado no se si dejar hasta aqui y continuar con el docker o q."
   ]
  },
  {
   "cell_type": "markdown",
   "metadata": {},
   "source": [
    "Bueno, acabo de ver el docker y pues si ahi esta el paso a paso y estaba bien al saber que seguia el npm run, pero dios son pasos que ya estan no quiero re inventar la rueda ademas ahi estan bien echos y probadps y teoricamente me tocaria coger el docker y hacerlo paso a paso si quiero lograr una buena instalacion y pa esa gracia uso el docker mismo."
   ]
  },
  {
   "cell_type": "markdown",
   "metadata": {
    "collapsed": true
   },
   "source": [
    "# Docker\n",
    "Probare con la instalacion del docker, es la unica opcion que queda, dado que lo de la maquina virtual es con un proyecto de 2015 y kobotoolbox esta baste desactualizado desde el 2015 dado que me di cuenta y hay muchos cambios sobre todo en la interfaz grafica. Por ahora creo que probare asi a lo mula a ver que pasa osea solo con lo que digan en el repo. primero lo probare en fedora a ver que pasa.\n",
    "\n",
    "Buneo es gracioso estuve buscando y documentacion sobre kobo-docker es lo que hay asi que los mas logico es hacerla por ese lado. por que la instalacion no se lograra si sigo asi tratando de encontrar errores que sabtra dios donde estan. Entocs es asombroso por que hasta encontre una wiki\n",
    "\n",
    "[wiki](http://www.kobowiki.org/index.php?title=Main_Page)\n"
   ]
  },
  {
   "cell_type": "markdown",
   "metadata": {},
   "source": [
    "Aparte de la wiki hay tambien una gran variedad de documentacion por todas partes. \n",
    "Listo primero actualice el sistema, meti fedora.\n"
   ]
  }
 ],
 "metadata": {
  "kernelspec": {
   "display_name": "Python 3",
   "language": "python",
   "name": "python3"
  },
  "language_info": {
   "codemirror_mode": {
    "name": "ipython",
    "version": 3
   },
   "file_extension": ".py",
   "mimetype": "text/x-python",
   "name": "python",
   "nbconvert_exporter": "python",
   "pygments_lexer": "ipython3",
   "version": "3.6.3"
  }
 },
 "nbformat": 4,
 "nbformat_minor": 2
}
