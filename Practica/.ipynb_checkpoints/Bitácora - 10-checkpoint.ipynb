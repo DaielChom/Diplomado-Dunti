{
 "cells": [
  {
   "cell_type": "markdown",
   "metadata": {},
   "source": [
    "# Bitácora - 10\n",
    "\n",
    "Bueno, no entiendo, guztavo me pide algo y luego dice uqe no es tan importante, pero croe que lo que queires es que no me desenfoque, me solicito poder tener control de la maquina vistual obtener. la cuestion aca es esta:\n",
    "Como se puede evidenciar en la bitacora anterior se logro la prueba de ONA, la cual no trae muchas ventajas comparadas con Kobotoolbox. Sabiendo esto pues fui a mostrarle a gustavo dicho descubrimiento. en dicha reucion, le mostre la version instalada de ONA y pues mi consejo, tambien le dije que leyera los informes y al parecer no lo ha echo, pero eso no viene al caso, no ha leido pero igual lo he mantenido al tanto, la cuestion es que nos decatamos por kobotoolbox, y me pidio un par de tareas:\n",
    "1. Buscar una manera de obtener del vagrant un archivo VHD o VHDX para poderlo instalar en los servidores de Geomatica\n",
    "2. Usar unas encuestas dentro de Kobotoolbox para moestrar su uso\n",
    "3. Buscar alguna manera de personalizar Kobotoolbox con el logo de geomatica o algo por el estilo.\n",
    "4. hacer un video mostrando el uso de Kobotoolbox\n",
    "\n",
    "Siendo de esta manera me enfoqe pues en realziar estas tareas, se instalo kobotoolbox en local para pues hacer dichas tareas, la instalacion usa Vitualbox asi que lo que se puede obtener es vmdk, que es el disco duro de la maquina virtual. lo otro es que no encontre manera de personalizar kobotoolbox de una manera \"Gemotistica\", osea cambiar el logo y eso paila, ya habria que meterse en el disco y estudiar que mas hay instalado y hacer algun tipo de ingenieria inversa para poderse meter a las entrañas de kobotoolbox a ver que mas trae, y pues eso requiere bastante trabajo extra. entonces me iba a dedicar a realizar el video y pues decidi realizar un informe a gustavo como para que no diga que no ando haciendo nada y le escrbi a wasa.\n",
    "\n",
    "Y esta es la conversacion.\n",
    "\n",
    "> **Yo:** Buenos días gustavo, ya empecé con el video de kobotoolbox y no encontré forma de personalizar kobotoolbox, sin embargo encontré el archivo. Vmdk no se si ese era el archivo que solicitabas \n",
    "\n",
    "> **Gustavo Diaz:** Hola Daniel, 1° es una instalación controlada, ya sea porque soy capas de instalarlo de 0 o porque en el docker puedo identificar la infraestructura de desarrollo\n",
    "\n",
    ">**Gustavo Diaz:** si no has logrado personalizarlo, esa parte hace falta\n",
    "\n",
    ">**Gustavo Diaz:** necesito el entendimiento de la plataforma a nivel de infraestructura\n",
    "\n",
    ">**Gustavo Diaz:** 2° es poder con esa instalación controlada desplegar el software en los servidores de Geomática, como una máquina virtual\n",
    "\n",
    ">**Gustavo Diaz:** el hypervisor que usamos es Hyper-V de windows server 2012, para guardar los discos virtuales el usa el formato\n",
    "\n",
    ">**Gustavo Diaz:** VHD y VHDX (el formato vmdk es de virtualbox)\n",
    "\n",
    ">**Gustavo Diaz:** 3° Es generar un video de está instalación, para \"vender\" la idea a los ingenieros, para buscar una encuesta a realizar para hacer pruebas\n",
    "\n",
    ">**Gustavo Diaz:** 4° Realizar ocmo tal las pruebas, sobre la instalación realizada en los equipos de geomática y personalizada por que hay un entenidmiento de la infraestructura\n",
    "\n",
    "> **Yo:** Pera no era un video de como funcionaba?\n",
    "\n",
    "> **Yo:** Osea de armar y llevar una encuesta?\n",
    "\n",
    "> **Gustavo Diaz:** El video es para poder buscar con quien generar la prueba\n",
    "\n",
    "> **Gustavo Diaz:** Cual es el objetivo?\n",
    "\n",
    "> **Gustavo Diaz:** Tener una plataforma de encuestas en los servidores de geomática, que comparada con otras (ArcGIS Collector al menos) tenga ventajas, en seguridad, en costos, en funcionalidad, en personalización o cualquier otra ventaja.\n",
    "\n",
    "> **Gustavo Diaz:** La ventaja y funcionalidad de la herramienta debe ser probada.\n",
    "\n",
    "> **Gustavo Diaz:** Ahora bien, como llegar a este objetivo?\n",
    "\n",
    "> **Gustavo Diaz:** Yo propongo esos 4 pasos, tu que me propones?\n",
    "\n",
    ">**Gustavo Diaz:** Daniel no es la actividad, es el objetivo.\n",
    "\n",
    "> **Gustavo Diaz:** el video no es un objetivo, es una herramienta para el fin de conseguir quien en Geomática quiera trabajar con la herramienta para realizar las pruebas\n",
    "\n",
    ">**Gustavo Diaz:** pero el video de que me sirve para lograr el objetivo si no tengo la herramienta instalada?\n",
    "\n",
    ">**Gustavo Diaz:** si me dices que no tengo control sobre la herramienta, porque no mejor seguir usando ArcGIS Collector?\n",
    "\n",
    ">**Gustavo Diaz:** con el Ing. Duvan tu te sentaste y te mostro brevemente la herramienta, contra eso competimos y contra eso no la has comparado.\n",
    "\n",
    ">**Gustavo Diaz:** y adicionalmente me dices que tambien me toca usarla como caja negra, que ventajas tengo entonces?\n",
    "\n",
    ">**Gustavo Diaz:** Respondeme esas preguntas, con las actividades que consideres, apuntandole al objetivo, que desde que empezamos, no ha cambiado.\n",
    "\n",
    ">**Gustavo Diaz:** pero no me digas que el video es el fin, porque no lo es y nunca lo ha sido\n"
   ]
  },
  {
   "attachments": {},
   "cell_type": "markdown",
   "metadata": {},
   "source": [
    "Y aqui hay varias cuestiones y es que primero, en si es verdad, estoy algo desenfocado, perimero deberia empezar con la comparacion de kobootolbox con ArcGIS Collector, segundo explorar el vagrant a ver de que manera esta instalado kobotoolbox, y hacer con esto se podria tener un nuevo informe para darle a gustavo.\n",
    "\n",
    "1. Explorando vagrant\n",
    "Entoncs, la instalacion de Kobotoolbox se realiza con vagrant, lo que implica que se instala es una maquina virtual con kobotoolbox instalado y en funcionamiento. AL usar vagrant se puede ingresar a dicha maquina virtual usando el coamndo `vagrant ssh`.\n",
    "\n",
    "Al ingresar este comando podemos obtener \n",
    "![exploracion01](images/exploracion_01.png)\n",
    "\n",
    "si exploramos el directorio home podemos encontrar varias carpetas importantes para el funcionamiento de kobotoolbox.\n",
    "![exploracion01](images/exploracion_02.png)\n",
    "\n",
    "Sí ingresamos al directorio src podemos encontrar los 4 repositorios que en la guia de kobotoolbox nos recomiendan instalar.\n",
    "![exploracion01](images/exploracion_03.png)"
   ]
  },
  {
   "cell_type": "markdown",
   "metadata": {},
   "source": [
    "esto nos indica que con cierto conocimientos y estudio de los codigos se pueden realizar pequeñas o grandes modificaciones del codigo,lo que genera cierta propiedad de personalizacion, he aqui un pequeño ejemplo\n",
    "1. Observamos que al entrar a la maquina virtual meidante el navegador "
   ]
  },
  {
   "cell_type": "code",
   "execution_count": null,
   "metadata": {
    "collapsed": true
   },
   "outputs": [],
   "source": []
  }
 ],
 "metadata": {
  "kernelspec": {
   "display_name": "Python 3",
   "language": "python",
   "name": "python3"
  },
  "language_info": {
   "codemirror_mode": {
    "name": "ipython",
    "version": 3
   },
   "file_extension": ".py",
   "mimetype": "text/x-python",
   "name": "python",
   "nbconvert_exporter": "python",
   "pygments_lexer": "ipython3",
   "version": "3.6.1"
  }
 },
 "nbformat": 4,
 "nbformat_minor": 2
}
