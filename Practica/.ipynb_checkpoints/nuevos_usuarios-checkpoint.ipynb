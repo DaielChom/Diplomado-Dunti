{
 "cells": [
  {
   "cell_type": "markdown",
   "metadata": {},
   "source": [
    "# Crear Usuario para Kobotoolbox\n",
    "Por favor llene los siguiente parametros y ejecute las celdas para crear un nuevo usuario en Kobotoolbox instalado en caica.uis.edu.co"
   ]
  },
  {
   "cell_type": "markdown",
   "metadata": {},
   "source": [
    "### Habilitar API.\n",
    "1. Go to http://[YOUR KPI DOMAIN]/admin/kpi/authorizedapplication/;\n",
    "2. Log in as a superuser when prompted;\n",
    "3. Click \"Add authorized application\";\n",
    "4 .Type a name, make note of the Key, and click \"Save\";"
   ]
  },
  {
   "cell_type": "code",
   "execution_count": 1,
   "metadata": {},
   "outputs": [],
   "source": [
    "TOKEN = \"xmtnl%a=d1531$geh17ncckc6712lo@@8wn6=$5azia%g($d@bm31*$oo+ek\""
   ]
  },
  {
   "cell_type": "code",
   "execution_count": 2,
   "metadata": {},
   "outputs": [],
   "source": [
    "USERNAME='user3'\n",
    "PASSWORD='kobo1234'\n",
    "FIRSTNAME='user2'\n",
    "LASTNAME='prueba'\n",
    "EMAIL='prueba@gmail.com'"
   ]
  },
  {
   "cell_type": "code",
   "execution_count": 3,
   "metadata": {},
   "outputs": [],
   "source": [
    "s = '{\\\\\"username\\\\\":\\\\\"'+USERNAME+'\\\\\",\\\\\"password\\\\\":\\\\\"'+PASSWORD+'\\\\\",\\\\\"first_name\\\\\":\\\\\"'+FIRSTNAME+'\\\\\",\\\\\"last_name\\\\\":\\\\\"'+LASTNAME+'\\\\\",\\\\\"email\\\\\":\\\\\"'+EMAIL+'\\\\\"}'"
   ]
  },
  {
   "cell_type": "code",
   "execution_count": 4,
   "metadata": {},
   "outputs": [
    {
     "name": "stdout",
     "output_type": "stream",
     "text": [
      "HTTP/1.1 201 CREATED\r",
      "\r\n",
      "Server: nginx/1.10.3 (Ubuntu)\r",
      "\r\n",
      "Date: Wed, 04 Apr 2018 19:09:19 GMT\r",
      "\r\n",
      "Content-Type: application/json\r",
      "\r\n",
      "Transfer-Encoding: chunked\r",
      "\r\n",
      "Connection: keep-alive\r",
      "\r\n",
      "Vary: Accept, Accept-Language, Cookie\r",
      "\r\n",
      "X-Frame-Options: SAMEORIGIN\r",
      "\r\n",
      "Content-Language: en\r",
      "\r\n",
      "Allow: POST, OPTIONS\r",
      "\r\n",
      "\r",
      "\r\n",
      "{\"username\":\"user3\",\"first_name\":\"user2\",\"last_name\":\"prueba\",\"email\":\"prueba@gmail.com\"}"
     ]
    }
   ],
   "source": [
    "!curl -X POST -i -H \"Content-Type: application/json\" -H 'Authorization: Token {TOKEN}' http://10.1.90.19:8000/authorized_application/users/ -d \"{s}\" "
   ]
  },
  {
   "cell_type": "markdown",
   "metadata": {
    "collapsed": true
   },
   "source": [
    "### Version funcional de kobocat\n",
    "Al dia de hoy 4 - Abril - 2018 se esta usanod la imagen.<br/>\n",
    "kobocat: issue_222<br/>\n",
    "otras: lasted<br/>"
   ]
  },
  {
   "cell_type": "code",
   "execution_count": null,
   "metadata": {},
   "outputs": [],
   "source": []
  }
 ],
 "metadata": {
  "kernelspec": {
   "display_name": "Python 3",
   "language": "python",
   "name": "python3"
  },
  "language_info": {
   "codemirror_mode": {
    "name": "ipython",
    "version": 3
   },
   "file_extension": ".py",
   "mimetype": "text/x-python",
   "name": "python",
   "nbconvert_exporter": "python",
   "pygments_lexer": "ipython3",
   "version": "3.6.3"
  }
 },
 "nbformat": 4,
 "nbformat_minor": 2
}
