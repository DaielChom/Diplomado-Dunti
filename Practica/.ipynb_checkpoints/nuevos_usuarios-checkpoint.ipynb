{
 "cells": [
  {
   "cell_type": "markdown",
   "metadata": {},
   "source": [
    "# Crear Usuario para Kobotoolbox\n",
    "Por favor llene los siguiente parametros y ejecute las celdas para crear un nuevo usuario en Kobotoolbox instalado en caica.uis.edu.co"
   ]
  },
  {
   "cell_type": "code",
   "execution_count": 1,
   "metadata": {},
   "outputs": [],
   "source": [
    "USERNAME='daielchom'\n",
    "PASSWORD='kobo1234'\n",
    "FIRSTNAME='daniel'\n",
    "LASTNAME='carvajal'\n",
    "EMAIL='geminisda@gmail.com'"
   ]
  },
  {
   "cell_type": "code",
   "execution_count": 2,
   "metadata": {},
   "outputs": [],
   "source": [
    "s = '{\\\\\"username\\\\\":\\\\\"'+USERNAME+'\\\\\",\\\\\"password\\\\\":\\\\\"'+PASSWORD+'\\\\\",\\\\\"first_name\\\\\":\\\\\"'+FIRSTNAME+'\\\\\",\\\\\"last_name\\\\\":\\\\\"'+LASTNAME+'\\\\\",\\\\\"email\\\\\":\\\\\"'+EMAIL+'\\\\\"}'"
   ]
  },
  {
   "cell_type": "code",
   "execution_count": 4,
   "metadata": {},
   "outputs": [
    {
     "name": "stdout",
     "output_type": "stream",
     "text": [
      "HTTP/1.1 201 CREATED\r",
      "\r\n",
      "Server: nginx/1.10.3 (Ubuntu)\r",
      "\r\n",
      "Date: Tue, 27 Mar 2018 14:55:47 GMT\r",
      "\r\n",
      "Content-Type: application/json\r",
      "\r\n",
      "Transfer-Encoding: chunked\r",
      "\r\n",
      "Connection: keep-alive\r",
      "\r\n",
      "Vary: Accept, Accept-Language, Cookie\r",
      "\r\n",
      "X-Frame-Options: SAMEORIGIN\r",
      "\r\n",
      "Content-Language: en\r",
      "\r\n",
      "Allow: POST, OPTIONS\r",
      "\r\n",
      "\r",
      "\r\n",
      "{\"username\":\"daielchom\",\"first_name\":\"daniel\",\"last_name\":\"carvajal\",\"email\":\"geminisda@gmail.com\"}"
     ]
    }
   ],
   "source": [
    "!curl -X POST -i -H \"Content-Type: application/json\" -H 'Authorization: Token vksz+h_&gr*p*a0txbeu@q312y^yguy5htmq55+%rn!l7x+5-sm(lwo%us4x' http://10.1.90.19/authorized_application/users/ -d \"{s}\" "
   ]
  },
  {
   "cell_type": "code",
   "execution_count": null,
   "metadata": {
    "collapsed": true
   },
   "outputs": [],
   "source": []
  }
 ],
 "metadata": {
  "kernelspec": {
   "display_name": "Python 3",
   "language": "python",
   "name": "python3"
  },
  "language_info": {
   "codemirror_mode": {
    "name": "ipython",
    "version": 3
   },
   "file_extension": ".py",
   "mimetype": "text/x-python",
   "name": "python",
   "nbconvert_exporter": "python",
   "pygments_lexer": "ipython3",
   "version": "3.6.3"
  }
 },
 "nbformat": 4,
 "nbformat_minor": 2
}
