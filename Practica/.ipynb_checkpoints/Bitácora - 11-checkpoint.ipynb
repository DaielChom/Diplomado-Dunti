{
 "cells": [
  {
   "cell_type": "markdown",
   "metadata": {},
   "source": [
    "# Bitácora - 11\n",
    "\n",
    "Bueno pues gustavo le gusto el informe 09, hubo problemas al subirlo a Drive asi que se lo pase por telegram, lo reviso y tuvimos la siguiente conversacion en Telegram."
   ]
  },
  {
   "cell_type": "markdown",
   "metadata": {},
   "source": [
    "**Gustavo Diaz:**\n",
    "https://www.youtube.com/watch?v=03n9No5KqSc\n",
    "\n",
    "http://www.esri.com/products/collector-for-arcgis\n",
    "\n",
    "http://doc.arcgis.com/en/collector/\n",
    "\n",
    "**Gustavo Diaz:**\n",
    "Mira esos 3 links, e igual con la otra comparativa, genera tablas significativas\n",
    "\n",
    "**Gustavo Diaz:**\n",
    "Me gusta que ya se ve que se le puede meter mano, metele mano!\n",
    "\n",
    "**Gustavo Diaz:**\n",
    "personaliza lo que puedas, aunque un poco mejor que el icono estirado, algo proporcionado\n",
    "\n",
    "**Gustavo Diaz: **\n",
    "y continua con aquello de encontrar la forma de subirlo a Hyper-V\n",
    "\n",
    "**Gustavo Diaz:**\n",
    "Puede que sea solo transformar el archivo vmdk a vhdx\n",
    "\n",
    "**Gustavo Diaz:**\n",
    "me dices y lo subimos\n",
    "\n",
    "**Daniel Carvajal:**\n",
    "no encontre un logo .svg de geomatica no se si me puedas proporcionar alguno\n",
    "\n",
    "**Gustavo Diaz:**\n",
    "[ File : logos_geo-uis.svg ]\n",
    "\n",
    "**Gustavo Diaz:**\n",
    "(asi como dice el dicho, Pregunte por lo que no vea)\n",
    "\n",
    "**Daniel Carvajal:**\n",
    "gracias :D"
   ]
  }
 ],
 "metadata": {
  "kernelspec": {
   "display_name": "Python 3",
   "language": "python",
   "name": "python3"
  },
  "language_info": {
   "codemirror_mode": {
    "name": "ipython",
    "version": 3
   },
   "file_extension": ".py",
   "mimetype": "text/x-python",
   "name": "python",
   "nbconvert_exporter": "python",
   "pygments_lexer": "ipython3",
   "version": "3.6.1"
  }
 },
 "nbformat": 4,
 "nbformat_minor": 2
}
