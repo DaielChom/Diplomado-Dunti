{
 "cells": [
  {
   "cell_type": "markdown",
   "metadata": {},
   "source": [
    "# Bitácora 14:\n",
    "\n",
    "### 13 - 01 - 18: \n",
    "\"Nuevo comienzo, Feliz año\" Por tercera vez, y dado que formatee el pc, se plantea una nueva instalacion de kobotoolbox en fedora buscando que esta instalcion si funcione y los errores que aparescan se puedan solucionar, de lo contrario si se gasta mucho timepo en la misma se cambiara a una instalacion en ubuntu y pus ni modo, igual se que guztavo no dira nada respecto a eso, hice mi esfuerzo pero esa documentacion de kobotoolbox no ayuda de a mucho. Creo que abriré un nuevo notebook, no me gusta ver esos notebooks tan largos."
   ]
  },
  {
   "cell_type": "markdown",
   "metadata": {
    "collapsed": true
   },
   "source": [
    "### 22 - 01 -18:\n",
    "Bueno Volviendo al trabajo ya estoy hospedado en cage nuevamente y me dedicare al trabajo. por ahora probare la instalacion en la maquina virtual que esta en la red, hay un problmea y es que el linux de esa maquina es bastante viejo o eso creo, asi que hare pruebas a ver si se puede instalar decker alli, si no se peude paso a hacer males a la maquina de fedora o alguna maquina virtual. depronto me demore mas en la configuracion de la red para poder acceder a la mauina en virtual box más que la instalacion del docker como tal. esperar a ver."
   ]
  },
  {
   "cell_type": "markdown",
   "metadata": {},
   "source": [
    "\n",
    "\n",
    "    \n"
   ]
  },
  {
   "cell_type": "markdown",
   "metadata": {
    "collapsed": true
   },
   "source": [
    "### 25 - 01 - 18:\n",
    "Pues solo pude durarun dia en CAGE pero si algo que tengo que decir es que me arte de hacer pruebas de instalacion del docker en una maquina vitrtual de ubuntu, que ahsta de tanto ahcerlo creo que algo se murio por alla por que ahora hago la instalacion y no funciona nada :(, voy a hacer unas ultimas pruebas si no pido la maquna en geomatica y me mato alla haciendo eso. Bueno el caso es que le mande un correo a Guztavo informando de lo que estaba haciendo. a ver si depronto el me ilumina o algo. le debo bastante a guztavo, no se por que no pense en el cuando traigo mis quesadillas."
   ]
  },
  {
   "cell_type": "markdown",
   "metadata": {
    "collapsed": true
   },
   "source": [
    "### 29 - 01 - 18: \n",
    "Pues que puedo decir, estoy en CAGE esperando no se si empezar con el proyecto de grado, o esperar a que Gustavo responda, le mande el correo el ueves, me dijo que le diera el fin de semana para que lo leyera, no se si lo leyo y ahora pues me toca esperar por que ya logre la instalacion en la maquina de ubuntu y ya quiero poderla instalar en el servidor, pero necesito un ubnutu 16.04 no un ubuntu de 2005 o 2015, no recuerdo croe que es de 2015. La cuestion es que es un ubuntu viejo."
   ]
  },
  {
   "cell_type": "markdown",
   "metadata": {
    "collapsed": true
   },
   "source": [
    "### 2 - 02 - 18:\n",
    "\"Cuando estan adorandote todas las aves canoras\". Anoche me llego respuesta al correo de Gustavo, ya tengo via libre para trabajar con dockers, me dijo que le llevara una maquina virtual para que el la montara, lo que no tuve en cuenta es el acceso a internet de dicha maquina, por uqe si es asi me toca primero instalarlo y luego llevarle la maquina y resar de que sirva. pero si tiene acceso a internet rela. por ahora probar la que esta alla a ver que, SI, si tengo internet en la maquina virtual."
   ]
  },
  {
   "cell_type": "markdown",
   "metadata": {
    "collapsed": true
   },
   "source": [
    "* **Nombre de la maquina: ** kobopc\n",
    "* ** User: ** kobo\n",
    "* ** pass: ** kobo"
   ]
  },
  {
   "cell_type": "markdown",
   "metadata": {},
   "source": [
    "### 05 - 02 - 18:\n",
    "EL viernes entrege la maquina virtual a gustavo, ya la monto, lo que queire decir que ya puedo empezar a atrabajar sobre ella, asi que empezare con mis locas pruebas, ojala funcione :'(. Pues ya no pude entrar por ssh a esa maquina :'(, como lloro :'(. \n",
    "Al parecer y algo que me falto configurar, que la verdad no sabria como es.\n",
    "Sikas me toca instlar ssh y activarlo.\n",
    "y eso se soluciona\n",
    "\n",
    "http://ubuntuhandbook.org/index.php/2016/04/enable-ssh-ubuntu-16-04-lts/\n",
    "\n",
    "POR FIN HP!!!!!!!\n",
    "Ya esta eso montado se puede acceder de la u en http://10.1.90.19:8000 ya solo queda poner el servicio y listo a hacer la prueba mañana, por ahora creare el formulario"
   ]
  },
  {
   "cell_type": "markdown",
   "metadata": {
    "collapsed": true
   },
   "source": [
    "#### 06 - 02 - 18:\n",
    "Ya cree una encuesta con datos de posicion y todo, ya tome varios datos y ya estan arriba en el servidor solo queda mostrarle a gustavo como se ve todo, y pues que firmen los papeles de paz y salvo, quiero salir de eso antes de que el se vaya pues piensa ir a la pycon de medellin y viaja mañana en la noche, asi que quiero tener las formas de el y duvan a mas tardar mañana en la tarde, para con eso quedar a paz y salvo y pues que el diploma que lo entregen cuando sea necesario en eso si no tengo afan. no se si me pediran algun informe final, espero que no por que que flojera, pero bueno esperar a ver pues. sera pues trabjar en el proyecto de grado. Para la prueba me pidieron que se manejaran varios usuarios, por ende creare unos 4 usuarios para tomar datos\n",
    "\n",
    "\n",
    "aaaaajjj juepuchica toca sacar esa puta mierda a la red por que para crear un usuario se necestia hacer berificaccion mediante el correo electronico y de lo que el correo puede salir pero como llega, no se puede acceder a la maquina desde afuera de la red. AAAAAAAAA la puta madre a lo bien, puto duvan de mierda. :3\n",
    "\n",
    "\n",
    "###### user 1\n",
    "user: user1\n",
    "pass: 1234\n",
    "\n",
    "asi que ni modo de crear usaurios. por ahora pues me pondre a meerle mano al docker a ver"
   ]
  },
  {
   "cell_type": "markdown",
   "metadata": {
    "collapsed": true
   },
   "source": [
    "#### 08 - 02 - 18:\n",
    "Como siempre investigando un poco descubri donde estan los archivos pero surgio algo raro que no entiendo, es como si huviera varias versiones, o no se si es que los dockers van generando copias de seguridad o no se por que pillen\n",
    "\n",
    "\n"
   ]
  },
  {
   "cell_type": "markdown",
   "metadata": {
    "collapsed": true
   },
   "source": [
    "Bueno ya tengo o eso creo varias maneras de poderme meterle mano al docker, por que lo que ahora quedaria hacer la prueba y poner en el word o tan solo como que ajj lo pongo y no hago nada, creo que probare el de ./vols a ver si sirve pero lo hare en la maquina virtuala de mi pc localmente local"
   ]
  },
  {
   "cell_type": "markdown",
   "metadata": {},
   "source": [
    "#### 19 - Feb - 18:\n",
    "Vaaaaaa laaaaa maaadreeeeeeee hp, me dicen ñañañañ cual es la demora, cual es la demora, saben cual es la hp demora, uds que en especial sumerce gustavo va la madre enserio tengo un plazo de entregar eso y ud ñañña la otra semana ñañañ mañana ajññañaña no tengo tiempo {añaññañañ daniel por que tanta demora, la puta madre de las madres estoy perdiendo el tiempo, no ve que yo tambein tenog cosas que hacer. bueno mañana a medio dia tengo una reunion con él, esperar a ver en que termina eso."
   ]
  },
  {
   "cell_type": "markdown",
   "metadata": {
    "collapsed": true
   },
   "source": [
    "#### 20 - Feb -18:\n",
    "Paciencia hombre, paciencia a Geomatica, hoy tenia una reunion para ver si guz podia darle acceso desde afuera a la maquina donde esta koboto. fui, el estaba hasta la madre de lamerle el culo a Duvan y lo entiendo ese man es un ..... El pobre esta hasta la madre, pero tampoco se que mierda hace ahi, ya hace rato me hubiera ido. pero buneo cada quien con lo suyo la cuestion es que gustavo no estaba de animos como para ponerse a \"mariquear\" conmigo y no pudo hacer una tunelalizacion rara ahi de una maquina a otra, lo cual me dejo una tareita, que peude que quede facil o peude que no. por ahora calmado por que igual hay muchas cosas que hacer mas adelante, aun esta lo de los correos esos y la verdad no se si de, lo que me pidido hacer es algo de estudiando y revisando podria ser capas de hacerlo. La cuestion es esta la tarea es hacer un `ip forwarding` o algo por ese estilo, soy malo con el ingles, algo que debo denotar\n",
    "* Estaba usando un firewall lamado firewalld.\n",
    "\n",
    "Segun tengo entendido es con el firewall que se hace el forwarding ese raro, pero no se si realmente sea mi tarea es buscar hacerlo, puede que ni siqueira tenga que ver con el firewall pero bueno, la cuestion es buscar como hacer \"ip forwarding\" en ubuntu. en segunda instancia\n",
    "* Lo que primeramente busco él fue firewalld port forwarding\n",
    "lo que en practica tengo que hacer es que al yo entrar al localhost:8000 me muestre lo que esta en 10.1.90.19:8000.\n",
    "Esa es mi tarea."
   ]
  },
  {
   "cell_type": "markdown",
   "metadata": {
    "collapsed": true
   },
   "source": [
    "#### 22 - Feb - 18:\n",
    "Bueno con la de esa tarea me doy, por ahora, no fui capas de hacer esa miercolanza seugi los siguientes tutos\n",
    "* [tuto](https://help.ubuntu.com/lts/serverguide/firewall.html)\n",
    "* [tuto](https://www.cyberciti.biz/faq/how-to-configure-ufw-to-forward-port-80443-to-internal-server-hosted-on-lan/)\n",
    "* [tuto](https://superuser.com/questions/850710/how-to-forward-http-request-to-a-proxy-server)\n",
    "* [tuto](https://stephen.rees-carter.net/thought/how-to-enable-ip-forwarding-with-ufw)\n",
    "* [tuto](https://serverfault.com/questions/411538/configure-ufw-to-redirect-http-traffic-to-another-ip)\n",
    "* [tuto](https://unix.stackexchange.com/questions/248168/ufw-how-to-forward-single-port-to-another-port-on-different-interface)\n",
    "\n",
    "cabe aclarar que todo lo hice en una maquina virtual no se si eso haya tenido algo que ver."
   ]
  },
  {
   "cell_type": "markdown",
   "metadata": {
    "collapsed": true
   },
   "source": [
    "#### 5 - Mar - 18:\n",
    "Gustavo tiene razon, no debi enojarme, o no, mas que enojarme, no debi bueno si enojarme, pero no debi haberle sacado lo del tiempo en cara, cuadno tuve el tiempo en parte si no lo hice como se suponia, pero tambien en esa epoca no tenia elconocimiento de com hacerlo, estaba muy preocupado y confuso, no sabia que ahcer ni por donde ir, de no haber sido por ese proyecto que me pusieron a hacer sobre qr no hubiera podido hacer nada mas por que literal antes de eso estaba super crudo en conocimeintos, pero bueno, guz estaba molesto y lo entiedno, pero se y vi que el tambien me entiende, ando afanado por sobre todo la deuda, no quiero endeudarme asi y despues no poder graduarme por algo asi, y lo otro es qeu no se que será de mi ahora, puede que me pongan mas trabajo ahora, no creo que todo sea tan facil como me gustaria, y eso requeria mas tiempo de mi parte para ellos, y lo otro es que depronto guztavo se molesto mucho y ahora no me apoye por asi decirlo, aunque el dijo que no me afanara y ahi mirabamos que hacemos pero de que la deuda no me la metian que el me ayudará pa que no me la pongan, pero se que con ellos no es facil, en ese sentido ellos no pierden y no se que me dira gus mañana, y pues no siento poder darle frente, tienen la deuda de 4 palos a su favor, si me pongo muy salsa y me la meten, se que se podria ir a otros terminos pero mas complique y ellos tienen al lado al rector asi que no se que tan facil sea un proceso por ese lado, pero pues se que mañana saldra algo pero no se que, y se que va a ser algo mas de trabajo para mi, y en parte se qeu es por duvan, por que duvan no dejara que alla un intercambio si geomatica no lleva la mejor parte, y gustavo sabe eso y hara lo posible para que geomatica gane lo mas que pueda, no se, no se, no se, de esa reunion mañana dependen muchas cosas, y lo que me da miedo es que me pongan a hacer algo muy complicado, osea estoy seguro que mañana guz me dira, mire este es el acceso a la red estan son las contraseñas ud haga que esa mierda funcione\n",
    "y no me gusta por que cada vez son mas responsabilidades encima mio que por mas que no haya cumplido con las fechas, ellos tampoco cumpieron con el diplomado, no fueron buenas clases, no aprendi andorid y me estan poniendo a ahcer un monton de cosas que nad que ver, cuando se supone deberia haber sido un proyecto que cumpliera con eso, no que requerriera conocimeintos todos re gonorreas y yo sin saber un culo matandome tratando de aprender cosas que se que depronto mas adelante me serviran pero tampoco es el caso, y se que las cosas con el son asi, ya ha pasado varias veces, es algo que gustavo sabe, pero no da el tiempo y me pone a ahcerlo a mi, hasta ahora he cumplido, pero con dolores de cabeza y sufriento por que son cosas que no se cuanto duraran y son cosas que hacen que no pueda trabajar en otras cositas y se que en parte es culpa mia, no de ppr si en si, es culpa mia por no haberme enfoado y dedicarle el tiempo, pero como decia y recordando, se que por mas tiempo que le hubiera dedicado en su momento estaria igual, me conosco y cuando no soy capas de hacer algo me desespero y si no me tomo un pequeño tiempo no avanzo y en parte eso fue lo que paso por que si estuve dedicado pero duraba un par de horas y me estancaba, me estancaba por todo cada nada, estaba super estancado, aunque por que llorar sobre la leche derramada, ya guz se sao la espina y yo trate de sacarme la mia, el tine razon en su tiempo no di el tiempo, y se que el ahoria no tiene el tiempo, pero como digo hay quedo en el limbo y lo que me afan es la deuda por que el que sabe de la red de la u es el no yo, y de aqui a ponerme a aprender sobre la red de la u me dan eones de años y lo mas seguro o dispuesto que podran estar en geomatica es a aplazarme mas la fecha esa de entrega. no se mañana, buneo si se, mañana lo unico que hare es saber que tan profunda quedara mi tumba por que no creo que salga algo \"bueno\" de esa reunion. para mi bueno es que ya mañana todo quede en adios popo no nos conocemes y paz entre todos, pero no sera asi, me la clavare mas de lo que ya la tengo clavada, no se :( depornto y mañana mismo me confirman que mi graduacion estará lejos pues por alla quien sabe cuadno me pueda \"librar\" del diplomado. y mas despues de haber tocado un punto tan sensible en gustavo que es lo del tiempo, por que se que al man lo ponen a comer M y m en mayuscula. quiero irme a mi casa a encerrarme y no quiero volver a salir jamas :(. bueno terminare el cap de takagi y seguire con lo del proyecto por que no saco nada con achicopalarme. aunque la verdad tengo muchas ganas de hacerlo :'( dios por uqe me embale asi, por que seria tan engreido. bueno ya vi anime a trabajar en mi proyecto"
   ]
  },
  {
   "cell_type": "markdown",
   "metadata": {
    "collapsed": true
   },
   "source": [
    "### 6 - Mar - 18:\n",
    "Lasc cosas salieron mejor de lo que tenia planeado,y creo que le debo una disculpa a gustavo, pero pues tenia mis preocupaciones, aunque en parte me tocaba hacerlo si no iba a estar ahi que despues despues, pero buneo el caso, es que creo, que las cosas salieron mejor de lo que pensaba queda esperar a ver si si o si me estoy embalando mas o q. la cuestion es que si, Gustavo esta de mi parte, no debo de dudar eso, el mismo me dijo, de cualquier otro le valdria madres si tiene que pagar los 4 palos, el me queire ayudar y quiere que yo salga y el tambien, bien librado de esto.\n",
    "1. Los objetivos que realice cuando inicie el diplomado, los rebisamos, y aqui dejo una pequeña notica, gustavo no es tonto es bastante perspicas, y los revisamos y si, esos objetivos estan echos una mierda, no estan medibles no se sabe el alcance que puede tener practicamente me dijo, ñero si va a peliar por objetivos ta jodido, por que embalado esta, aunque claro que tambien y el mismo lo dijo, tambien en parte fue culpa de él, tampoco me corrigio bien los objetivos y eso, pero bueno ya que se le puede hacer ya estan ahi y por objetivos, 1 estan tan mal que ni pa que pelear por ahi, y si estan malecho no los enfoquem bien, no les di una medbilidad, estan muy, estan mal. \n",
    "me fui a comer un salchipapa asi que no se ni que estaba hablando\n",
    "2. lo otro que se discutio es el camino a seguir que para mi es incierto, hasta ese momento, y si puedo ver adelante, son un par de metros no mas. La cuestion es que lo de proxy y tunelalizacion paila y bolsa segun eso esta muy complicado hacerlo pro ese lado, la cuestion en si es que seguira conseguir el objetivo ese de la prueba, por que, por que toca, por que losobjetivos estan tan mal echos desde un principio que al final toca hacer que esa mondaquera funcione si no duvan despues sale con algo raro. Entoncs la tarea es lograr que kobotoolbox salgan los correo y segun veo o bueno segun me dijo gustavo se podria hacer por SMTP, que es un protocolo de correos, donde, en este caso, kobotoolbox coge mi correo personal y lo usa como medio para mandar sus correos, la cuestiones la de devuelta, es una duda que se me da en este momento pero bueno, en si lo que tengo que hacer ahora es buscar alguna manera de configurar SMTP con kobotoobox, tambein se me ocurrio o buneo debii haber buscado algo como `kobotoolbox send email error` o algo asi, la joda es que debo hacer que el envio de correo de kobotoolbox funciones mediante mi cuenta de correos de gmail. que opues me toca averiguar como hacer eso o q.\n"
   ]
  },
  {
   "cell_type": "markdown",
   "metadata": {
    "collapsed": true
   },
   "source": [
    "#### 8 - Mar - 18:\n",
    "\"Feliz dia de la mujer\", jez esta re linda hoy, dios mio. jajajajajaj bueno pues un par de cosas que decir respecto al problema de los correos electronicos y es que no funcionaban 1 y en primer lugar por que no los configure a la hora de instalcion, en la wiki en las instrucciones hay una seccion de outing o algo asi emails, lo que significaba que con esos parametros se configuraba la salida de correo con SMTP\n",
    "\n",
    "![email smtp](./images/email_error_01.png)"
   ]
  },
  {
   "cell_type": "markdown",
   "metadata": {},
   "source": [
    "me habia faltado consfigurar eso, lo piedo configurar con mi correo de Gmail poniendo los sigueintes [datos](https://kinsta.com/es/base-de-conocimiento/servidor-gratuito-smtp/) tambien hay que configurar una cosilla en google, una en Gmail en la configuracion de correo respecto a IAMP. y otra en la cuenta de google respecto a acceso de terceros o algo asi. sin embargo tabien hay algo de documentacion e instruccones en el github de [koboto](https://github.com/kobotoolbox/kobo-docker/blob/master/envfiles/smtp.txt) osea tambien.\n",
    "\n",
    "\n",
    "    # NOTE: To send from GMail, the sending account must enable \"Allowing less secure apps to access your account\" (https://support.google.com/accounts/answer/6010255).\n",
    "    # NOTE: To send from AWS EC2 instances, SNS must be used instead of SMTP. These and the SNS e-mail settings from `envfiles/aws.txt` are mutually exclusive; do not use both.\n",
    "    # See https://docs.djangoproject.com/en/1.8/topics/email/#smtp-backend.\n"
   ]
  },
  {
   "cell_type": "markdown",
   "metadata": {},
   "source": [
    "toca revisar lo de las 3 noticas pues asi se configura bien lo del envio de correo por smtp, la cuestion ahora y segun lei en foros\n",
    "1. las [variables](https://github.com/kobotoolbox/kobo-docker/issues/54) esas estan bien, no lelvan comillas\n",
    "2. hay un [problema](https://github.com/kobotoolbox/kobo-docker/issues/101) con la creacion de usarios en la configuracion de http de koboto, al parece la instalacion con https no presenta ese error. se pueden crear usuario con una peticion curl como se muestra en el  issue, ya lo probe y sirve, he aqui la peticion curl.\n",
    "\n",
    "       curl -X POST -i -H \"Content-Type: application/json\" -H 'Authorization: Token h904omqxc^91*7zfukcr)0lu9h94j9iyznmj8$5kg#6gv0do*fl93ev8uz(^' http://10.1.90.19:8000/authorized_application/users/ -d '{\"username\":\"testuser\",\"password\":\"testpass\",\"first_name\":\"Test\",\"last_name\":\"User\",\"email\":\"mustbe@valid.com\"}'"
   ]
  },
  {
   "cell_type": "markdown",
   "metadata": {},
   "source": [
    "Hable co gustavo y le explique la situacion, no se si me habra entendido o q, pero me dijo que le diera al lunes para que le echara ojo, pues voy a esperar al lunes a ver que, pero quiero preguntarle es que si sera que reeinstalo kobo-docker usando lo de server, por que la verdad tengo mis dudas de como pueda funcionar, esperar a ver q. y pues eso, eso fue lo que adelante en el diplomado, esperar a ver el lunes, seguire entoncs esta tarde con lo del proyecto si san no me imboca jajajaa"
   ]
  },
  {
   "cell_type": "markdown",
   "metadata": {
    "collapsed": true
   },
   "source": [
    "#### 12 - Mar - 18:\n",
    "Bueno pues supeustamente mañana inician los arreglos en cage, lo otro es que siendo asi mañan no podre trabajar en lo del diplomado por un tiempo por que o me tocaria trabaar en otro lado, la cuestion es que ya tenog una direccion dentro de la red. que seria caica.uis.edu.co la cuestion es que si se entra a caica.uis.edu.co:8000 no funciona y creo que es por que toca con ssl pues se hizo fue lo de la configuracion local y esa local segun tengo entendido no permite lo de direcciones, lo otro es que tocaria configurar ssl o lo que sea la maquina virtual\n",
    "* por ahora tratare cambiando la parte del archivo local lo de direccion en vez de poner 10.1.90.19 pondre caicaa ver si eso sirve,.\n",
    "pues funcion sin tener que reinstalar nada solo baje el docker cambie lo de las direcciones en el env y vovli a subir."
   ]
  },
  {
   "cell_type": "markdown",
   "metadata": {
    "collapsed": true
   },
   "source": [
    "#### 13 - Mar - 18:\n",
    "Y al final debo reinstalar, usando la metodologia de https. debo grabar tambien la forma de instalar buneo grabar todo el proceso de instalacion y ya y pues eso hare, pero primero bajare el docker actual y eliminare el repo a ver que. pues ya reinstale y estoy agregando los parametros del compose.server\n",
    "el public domain deje el de caica.uis.edu.co\n",
    "lo de subdomains los deje comentados\n",
    "los tokens de enketo y django los puse con la linea de comando\n",
    "\n",
    "        openssl rand -base64 16"
   ]
  },
  {
   "cell_type": "markdown",
   "metadata": {},
   "source": [
    "super user: geomaticaKobo\n",
    "\n",
    "pass:KBBG3$MT1C4"
   ]
  },
  {
   "cell_type": "markdown",
   "metadata": {},
   "source": [
    "el certificado ssl se cre con la linea\n",
    "\n",
    "        openssl req -x509 -newkey rsa:4096 -keyout key.pem -out cert.pem -days 365"
   ]
  },
  {
   "cell_type": "markdown",
   "metadata": {
    "collapsed": true
   },
   "source": [
    "## PAILANGAS TANGAS necesita un SSL key de verdaita verdaita osea eso de ponerle un ssl asi como asi no sirvio asi que le dije eso a guz y dijo que esperar a ver por que que hps"
   ]
  },
  {
   "cell_type": "markdown",
   "metadata": {},
   "source": [
    "#### 23 - Mar - 18:\n",
    "Tenemos problemas y varios, la cuestion es que el error que sale a la hora de hacer deploy a los formulario no es un error de instalacion ni nada por el estilo fue algun commit que hicieron y daño las cosas y a hoy ese problema lleva como minimo 18 dias y nada que dan solucion o hacen comentarios al respecto como se peude ver los siguientes issues\n",
    "[issue1](https://github.com/kobotoolbox/kobo-docker/issues/165)\n",
    "[issue2](https://github.com/kobotoolbox/kobo-docker/issues/162) anoche cuando me di cuenta de esto le comente a gustavo y lo unico que me respondio fue un \"no se\" y pues ahi si no se que pensar ni que hcer, quiero viajar a bogota, un cambio de aires me hara bien, pero no se cunado viajar, estoy a una semana de la fecha limite del diplomado  y al parecer geomatica se toma toda la semana santa y no se que hacer quede plop, me quiero ir hoy mismo, pero no se que hacer no se que pasara para cuadno llegue ya tendre la deuda, no se que hacer y gus nada que me responde, le escribi a telegram pero jmmm y se que el tambien esta ocupado, pero quiero saber si podre viajar y venir tranquilo."
   ]
  },
  {
   "cell_type": "markdown",
   "metadata": {
    "collapsed": true
   },
   "source": [
    "#### 27 - Mar - 18:\n",
    "Bueno la joda es que esa mierda no habia funcionado con las nuevas imagenes de los distintos dockers. hice un par de pruebas\n",
    "\n",
    "## Pruebas con varias versiones de imagenes\n",
    "**Nota: ** Hoy 27 Mar 2018\n",
    "\n",
    "1. Fue a mediados o finales de  enero de 2018 cuando el programa \"funciono\".\n",
    "\n",
    "#### Prueba #1: imagenes de aprox. dan a enero.\n",
    "* kobocat: 2.018.06a\n",
    "* rabit: issue_30\n",
    "* mongo: docker_local\n",
    "* kpi: 2.018.06\n",
    "* postgres: temp-dev-env\n",
    "* nginx: docker_local\n",
    "\n",
    "**Resultado: ** Error y no se puede instalar el docker. Busque documentacio y nada.<br>\n",
    "**Error: ** write /var/lib/docker/tmp/GetImageBlob623001701: read-only file system\n",
    "\n",
    "#### Prueba #2: imagenes de aprox. dan a enero. se cambia kpi que es la que dio el error anterior\n",
    "* kobocat: 2.018.06a\n",
    "* rabit: issue_30\n",
    "* mongo: docker_local\n",
    "* kpi: formpack-exports-crude-backend-test\n",
    "* postgres: temp-dev-env\n",
    "* nginx: docker_local\n",
    "\n",
    "**Resultado: ** \n",
    "* Parece qeu funciona, se puede iniciar sesion\n",
    "* me dio un error al hacer deploy, pero no se si sera por cosas de la ip. -> [psobiles error](https://github.com/kobotoolbox/kobo-docker/issues/134)\n",
    "\n",
    "\n",
    "#### Prueba #2: imagenes todas lasted:\n",
    "* kobocat:lasted\n",
    "* rabit: lasted\n",
    "* mongo: lasted\n",
    "* kpi: lasted\n",
    "* postgres: lasted\n",
    "* nginx: lasted\n",
    "\n",
    "**Resultado:** No se puede iniciar session "
   ]
  },
  {
   "cell_type": "markdown",
   "metadata": {},
   "source": [
    "#### Funciona malditaseaaaaaa\n",
    "con \n",
    "\n",
    "    kobocat:issue_222\n",
    "    rabit: lasted\n",
    "    mongo: lasted\n",
    "    kpi: lasted\n",
    "    postgres: lasted\n",
    "    nginx: lasted\n",
    "la documentacion de las pruebas en [pruebas](./pruebas_images_docker)"
   ]
  },
  {
   "cell_type": "markdown",
   "metadata": {},
   "source": [
    "        User = kobo\n",
    "        pass = k8b8$$GEO\n",
    "\n"
   ]
  },
  {
   "cell_type": "markdown",
   "metadata": {},
   "source": [
    "Pues al parecer ya quedo configurada queda esperar a ver. la voy a pasar a win para convertir la vhd"
   ]
  },
  {
   "cell_type": "markdown",
   "metadata": {},
   "source": [
    "####  30 - Abril - 2018:\n",
    "Acabo de salir de la reunion con duvan, que pense que no la iba a tener, pero pues vease pues, que no se me olvide llevar mi cicla a mantenimiento. La reunion salio bien, sin ningun tipo de percanse ni nada :D. le mostre a duvan el funcionamiento de la aplicacion en la direccion http://10.1.90.19:8000 y todo salio bien, el tuvo varias inquetudes del funcionamiento sin embargo todas sus inquetudes fueron solucionadas, me solicito un tipo de manuela de usuario y de administrador, los cuales estan en el CD que se le entrego, tambien me solicito las cartas para lo de paz y salvo y tambien se las pase, como dijo gustavo estaba preparado para todo. Me dijo que le enviará un correo para recordarle la lectura del CD, pero que sin embrago veia todo bien que sin ningun problema. (T.T). Por fin cabrones, por fin, cada vez estoy mas cerca de resivir ese diploma. otra cosa fue que el me propuso trabajar con ellos, que lo pensara, que me esperaba mientras me graduaba, aunque le dije que me graduaba en junio, julio. lo \"pensare\"."
   ]
  },
  {
   "cell_type": "code",
   "execution_count": null,
   "metadata": {},
   "outputs": [],
   "source": []
  }
 ],
 "metadata": {
  "kernelspec": {
   "display_name": "Python 3",
   "language": "python",
   "name": "python3"
  },
  "language_info": {
   "codemirror_mode": {
    "name": "ipython",
    "version": 3
   },
   "file_extension": ".py",
   "mimetype": "text/x-python",
   "name": "python",
   "nbconvert_exporter": "python",
   "pygments_lexer": "ipython3",
   "version": "3.6.4"
  }
 },
 "nbformat": 4,
 "nbformat_minor": 2
}
