{
 "cells": [
  {
   "cell_type": "markdown",
   "metadata": {},
   "source": [
    "# Bitácora 14:\n",
    "\n",
    "### 13 - 01 - 18: \n",
    "\"Nuevo comienzo, Feliz año\" Por tercera vez, y dado que formatee el pc, se plantea una nueva instalacion de kobotoolbox en fedora buscando que esta instalcion si funcione y los errores que aparescan se puedan solucionar, de lo contrario si se gasta mucho timepo en la misma se cambiara a una instalacion en ubuntu y pus ni modo, igual se que guztavo no dira nada respecto a eso, hice mi esfuerzo pero esa documentacion de kobotoolbox no ayuda de a mucho. Creo que abriré un nuevo notebook, no me gusta ver esos notebooks tan largos."
   ]
  },
  {
   "cell_type": "markdown",
   "metadata": {
    "collapsed": true
   },
   "source": [
    "### 22 - 01 -18:\n",
    "Bueno Volviendo al trabajo ya estoy hospedado en cage nuevamente y me dedicare al trabajo. por ahora probare la instalacion en la maquina virtual que esta en la red, hay un problmea y es que el linux de esa maquina es bastante viejo o eso creo, asi que hare pruebas a ver si se puede instalar decker alli, si no se peude paso a hacer males a la maquina de fedora o alguna maquina virtual. depronto me demore mas en la configuracion de la red para poder acceder a la mauina en virtual box más que la instalacion del docker como tal. esperar a ver."
   ]
  },
  {
   "cell_type": "markdown",
   "metadata": {},
   "source": [
    "\n",
    "\n",
    "    \n"
   ]
  },
  {
   "cell_type": "markdown",
   "metadata": {
    "collapsed": true
   },
   "source": [
    "### 25 - 01 - 18:\n",
    "Pues solo pude durarun dia en CAGE pero si algo que tengo que decir es que me arte de hacer pruebas de instalacion del docker en una maquina vitrtual de ubuntu, que ahsta de tanto ahcerlo creo que algo se murio por alla por que ahora hago la instalacion y no funciona nada :(, voy a hacer unas ultimas pruebas si no pido la maquna en geomatica y me mato alla haciendo eso. Bueno el caso es que le mande un correo a Guztavo informando de lo que estaba haciendo. a ver si depronto el me ilumina o algo. le debo bastante a guztavo, no se por que no pense en el cuando traigo mis quesadillas."
   ]
  },
  {
   "cell_type": "markdown",
   "metadata": {
    "collapsed": true
   },
   "source": [
    "### 29 - 01 - 18: \n",
    "Pues que puedo decir, estoy en CAGE esperando no se si empezar con el proyecto de grado, o esperar a que Gustavo responda, le mande el correo el ueves, me dijo que le diera el fin de semana para que lo leyera, no se si lo leyo y ahora pues me toca esperar por que ya logre la instalacion en la maquina de ubuntu y ya quiero poderla instalar en el servidor, pero necesito un ubnutu 16.04 no un ubuntu de 2005 o 2015, no recuerdo croe que es de 2015. La cuestion es que es un ubuntu viejo."
   ]
  },
  {
   "cell_type": "markdown",
   "metadata": {
    "collapsed": true
   },
   "source": [
    "### 2 - 02 - 18:\n",
    "\"Cuando estan adorandote todas las aves canoras\". Anoche me llego respuesta al correo de Gustavo, ya tengo via libre para trabajar con dockers, me dijo que le llevara una maquina virtual para que el la montara, lo que no tuve en cuenta es el acceso a internet de dicha maquina, por uqe si es asi me toca primero instalarlo y luego llevarle la maquina y resar de que sirva. pero si tiene acceso a internet rela. por ahora probar la que esta alla a ver que, SI, si tengo internet en la maquina virtual."
   ]
  },
  {
   "cell_type": "markdown",
   "metadata": {
    "collapsed": true
   },
   "source": [
    "* **Nombre de la maquina: ** kobopc\n",
    "* ** User: ** kobo\n",
    "* ** pass: ** kobo"
   ]
  },
  {
   "cell_type": "markdown",
   "metadata": {},
   "source": [
    "### 05 - 02 - 18:\n",
    "EL viernes entrege la maquina virtual a gustavo, ya la monto, lo que queire decir que ya puedo empezar a atrabajar sobre ella, asi que empezare con mis locas pruebas, ojala funcione :'(. Pues ya no pude entrar por ssh a esa maquina :'(, como lloro :'(. \n",
    "Al parecer y algo que me falto configurar, que la verdad no sabria como es.\n",
    "Sikas me toca instlar ssh y activarlo.\n",
    "y eso se soluciona\n",
    "\n",
    "http://ubuntuhandbook.org/index.php/2016/04/enable-ssh-ubuntu-16-04-lts/\n",
    "\n",
    "POR FIN HP!!!!!!!\n",
    "Ya esta eso montado se puede acceder de la u en http://10.1.90.19:8000 ya solo queda poner el servicio y listo a hacer la prueba mañana, por ahora creare el formulario"
   ]
  },
  {
   "cell_type": "markdown",
   "metadata": {
    "collapsed": true
   },
   "source": [
    "#### 06 - 02 - 18:\n",
    "Ya cree una encuesta con datos de posicion y todo, ya tome varios datos y ya estan arriba en el servidor solo queda mostrarle a gustavo como se ve todo, y pues que firmen los papeles de paz y salvo, quiero salir de eso antes de que el se vaya pues piensa ir a la pycon de medellin y viaja mañana en la noche, asi que quiero tener las formas de el y duvan a mas tardar mañana en la tarde, para con eso quedar a paz y salvo y pues que el diploma que lo entregen cuando sea necesario en eso si no tengo afan. no se si me pediran algun informe final, espero que no por que que flojera, pero bueno esperar a ver pues. sera pues trabjar en el proyecto de grado."
   ]
  },
  {
   "cell_type": "code",
   "execution_count": null,
   "metadata": {
    "collapsed": true
   },
   "outputs": [],
   "source": []
  }
 ],
 "metadata": {
  "kernelspec": {
   "display_name": "Python 3",
   "language": "python",
   "name": "python3"
  },
  "language_info": {
   "codemirror_mode": {
    "name": "ipython",
    "version": 3
   },
   "file_extension": ".py",
   "mimetype": "text/x-python",
   "name": "python",
   "nbconvert_exporter": "python",
   "pygments_lexer": "ipython3",
   "version": "3.6.3"
  }
 },
 "nbformat": 4,
 "nbformat_minor": 2
}
