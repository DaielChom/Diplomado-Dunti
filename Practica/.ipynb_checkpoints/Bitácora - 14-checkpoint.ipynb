{
 "cells": [
  {
   "cell_type": "markdown",
   "metadata": {},
   "source": [
    "# Bitácora 14:\n",
    "\n",
    "### 13 - 01 - 18: \n",
    "\"Nuevo comienzo, Feliz año\" Por tercera vez, y dado que formatee el pc, se plantea una nueva instalacion de kobotoolbox en fedora buscando que esta instalcion si funcione y los errores que aparescan se puedan solucionar, de lo contrario si se gasta mucho timepo en la misma se cambiara a una instalacion en ubuntu y pus ni modo, igual se que guztavo no dira nada respecto a eso, hice mi esfuerzo pero esa documentacion de kobotoolbox no ayuda de a mucho. Creo que abriré un nuevo notebook, no me gusta ver esos notebooks tan largos."
   ]
  },
  {
   "cell_type": "markdown",
   "metadata": {
    "collapsed": true
   },
   "source": [
    "### 22 - 01 -18:\n",
    "Bueno Volviendo al trabajo ya estoy hospedado en cage nuevamente y me dedicare al trabajo. por ahora probare la instalacion en la maquina virtual que esta en la red, hay un problmea y es que el linux de esa maquina es bastante viejo o eso creo, asi que hare pruebas a ver si se puede instalar decker alli, si no se peude paso a hacer males a la maquina de fedora o alguna maquina virtual. depronto me demore mas en la configuracion de la red para poder acceder a la mauina en virtual box más que la instalacion del docker como tal. esperar a ver."
   ]
  },
  {
   "cell_type": "markdown",
   "metadata": {},
   "source": [
    "\n",
    "\n",
    "    \n"
   ]
  },
  {
   "cell_type": "code",
   "execution_count": null,
   "metadata": {
    "collapsed": true
   },
   "outputs": [],
   "source": []
  }
 ],
 "metadata": {
  "kernelspec": {
   "display_name": "Python 3",
   "language": "python",
   "name": "python3"
  },
  "language_info": {
   "codemirror_mode": {
    "name": "ipython",
    "version": 3
   },
   "file_extension": ".py",
   "mimetype": "text/x-python",
   "name": "python",
   "nbconvert_exporter": "python",
   "pygments_lexer": "ipython3",
   "version": "3.6.3"
  }
 },
 "nbformat": 4,
 "nbformat_minor": 2
}
