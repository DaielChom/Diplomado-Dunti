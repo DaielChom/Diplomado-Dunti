{
 "cells": [
  {
   "cell_type": "markdown",
   "metadata": {},
   "source": [
    "# Instalación de Koboto"
   ]
  },
  {
   "cell_type": "markdown",
   "metadata": {},
   "source": [
    "* Se creo una maquina virtual de fedora 26.\n",
    "* Actualizar\n",
    "    \n",
    "        yum -y update\n",
    "* Instalar Git\n",
    "        \n",
    "        dnf install git-all"
   ]
  },
  {
   "cell_type": "markdown",
   "metadata": {},
   "source": [
    "* Clonar kpi\n",
    "    \n",
    "        git clone https://github.com/kobotoolbox/kpi.git\n",
    "\n",
    "* Instalar virtualenv y crear un entorno virtual\n",
    "\n",
    "        pip install viertalenv\n",
    "        virtualenv venv\n",
    " \n",
    "* Activar entorno virtual e instlar dependencias\n",
    "    \n",
    "        source venv/bin/activate\n",
    "        pip install -r /dependencies/pip/requiments.txt\n",
    "        \n",
    "   **Nota:** para install kpi en koboto recomeinda usar [pip-sync](https://github.com/jazzband/pip-tools)\n",
    "   \n",
    " aunque ambas instalacion con pip-sync y con pip install me estan lanzando error\n",
    " \n",
    " * Pip install\n",
    " ![error](./images/Error_1.png)\n",
    " \n",
    " * pip-sync\n",
    " ![error](./images/Error_2.png)\n",
    " El problema es que esa maquina virtual lo pela y no puedo hacer scroll y ver los erroes anteriores y tampoco puedo mejorar la resolucion de la pantalla."
   ]
  },
  {
   "cell_type": "markdown",
   "metadata": {
    "collapsed": true
   },
   "source": [
    "Listo no hay problema, al aprecer es el mismo error entoncs buscare su solucion segun lo descrito en la primera imagen."
   ]
  },
  {
   "cell_type": "markdown",
   "metadata": {},
   "source": [
    "al aprecer el error podria ser falta de postgres asi que instala\n",
    "\n",
    "        dnf install postgresql"
   ]
  },
  {
   "cell_type": "markdown",
   "metadata": {},
   "source": [
    "Al parecer no es postgresql.\n",
    "tiene algo que ver con psycopg2\n",
    "\n",
    "    pip install psycopg2\n",
    "   \n",
    "tampoco funciono"
   ]
  },
  {
   "cell_type": "markdown",
   "metadata": {},
   "source": [
    "Ahora probé:\n",
    "\n",
    "            yum install python-devel postgresql-devel"
   ]
  },
  {
   "cell_type": "markdown",
   "metadata": {},
   "source": [
    "Parece que si funciono dado que salio un nuevo error.\n",
    "![error](./images/Error_3.png)"
   ]
  },
  {
   "cell_type": "markdown",
   "metadata": {},
   "source": [
    "para este error probe\n",
    "\n",
    "        sudo dnf install redhat-rpm-config\n",
    "    "
   ]
  },
  {
   "cell_type": "markdown",
   "metadata": {},
   "source": [
    "Pues funciono por que salio otro error.\n",
    "![error](./images/Error_4.png)"
   ]
  },
  {
   "cell_type": "markdown",
   "metadata": {
    "collapsed": true
   },
   "source": [
    "* antes de continuar con la instlacion de requrimientos, pense y debio ser mejor instalar primero las dependicenas apt. entoncs prosegi\n",
    "        \n",
    "        dnf install fontforge gettext git-core ~~(libpcre3 libpcre3-dev)~~ pcre-devel libpq-dev ttfautohint"
   ]
  },
  {
   "cell_type": "markdown",
   "metadata": {},
   "source": [
    "de nuevo se tratan de instalar los requirements.txt y salio el mismo error anterior.\n",
    "\n",
    "        yum install libxml-devel\n",
    "\n",
    "no eso no lo soluciono.\n",
    "\n",
    "    yum install -y gcc libxml2 libxml2-devel libxslt libxslt-devel python-devel\n",
    "\n",
    "al parecer eso si lo soluciono y salio otro error\n",
    "\n",
    "![error](./images/Error_5.png)"
   ]
  },
  {
   "cell_type": "markdown",
   "metadata": {
    "collapsed": true
   },
   "source": [
    "se prueba\n",
    "\n",
    "        dnf install openssl-devel\n",
    "funciono pero surgio algo mas.\n",
    "\n",
    "![error](./images/Error_6.png)"
   ]
  },
  {
   "cell_type": "markdown",
   "metadata": {
    "collapsed": true
   },
   "source": [
    "con consejos de gustavo se deben isntaalr las librerias devel y las normalitas\n",
    "siendo asi que falta\n",
    "\n",
    "        dnf install openssl"
   ]
  },
  {
   "cell_type": "code",
   "execution_count": 1,
   "metadata": {},
   "outputs": [
    {
     "ename": "SyntaxError",
     "evalue": "invalid syntax (<ipython-input-1-da87f7d06597>, line 1)",
     "output_type": "error",
     "traceback": [
      "\u001b[0;36m  File \u001b[0;32m\"<ipython-input-1-da87f7d06597>\"\u001b[0;36m, line \u001b[0;32m1\u001b[0m\n\u001b[0;31m    al parecer no era eso, ni no tenia nada que ver.\u001b[0m\n\u001b[0m             ^\u001b[0m\n\u001b[0;31mSyntaxError\u001b[0m\u001b[0;31m:\u001b[0m invalid syntax\n"
     ]
    }
   ],
   "source": [
    "al parecer no era eso, ni no tenia nada que ver.\n"
   ]
  },
  {
   "cell_type": "markdown",
   "metadata": {},
   "source": [
    "# Segundo Intento.\n",
    "Para facilitar la cosa y poder acceder desde mi consola y no desde virtualbox, por que se ve una mierda y es super insoportable trabajr asi, se probo a usar vagrant. Entoncs desde la pagina de fedora se descargo la version [could](https://alt.fedoraproject.org/es/cloud/), que es la que me permite usar con vagrant. se deacrgo la compatible con virtualbox. luego los sigueintes comandos\n",
    "\n",
    "    sudo vagrant box add kobo ./Fedora-Cloud-Base-Vagrant-27-1.6.x86_64.vagrant-virtualbox.box\n",
    "    vagrant init kobo\n",
    "    vagran up\n",
    "    vagrant ssh"
   ]
  },
  {
   "cell_type": "markdown",
   "metadata": {
    "collapsed": true
   },
   "source": [
    "y listo a reinstlar todo lo de arriba.\n",
    "    \n",
    "    dnf update\n",
    "    dnf upgrade\n",
    "    sudo  dnf install git-all\n",
    "    sudo pip3 install viertalenv\n",
    "    sudo dnf install python-devel python3-devel postgresql-devel postgresql\n",
    "    sudo dnf install redhat-rpm-config\n",
    "    sudo dnf install fontforge gettext git-core pcre-devel ttfautohint\n",
    "    sudo yum install -y gcc libxml2 libxml2-devel libxslt libxslt-devel\n",
    "    sudo dnf install openssl openssl-devel\n",
    "\n",
    "  \n",
    "    virtualenv venv\n",
    "    source venv/bin/activate\n",
    "    pip install -r /dependencies/pip/requiments.txt\n",
    "\n",
    "Bueno hasta aqui y otro error hay por ahi pero esta vez si se puede ver mejor bujajajjajaa.. Me encontre con angie dios mio mamasita. Bueno el error el error. \n",
    "![error](./images/Error_7.png)"
   ]
  },
  {
   "cell_type": "markdown",
   "metadata": {
    "collapsed": true
   },
   "source": [
    "pip install ez_setup -> NO solucionno nada\n",
    "pip install feedparser -> NO solucionno nada\n",
    "\n",
    "Corri `sudo pip2 install -r /dependencies/pip/requiments.txt` y corrio asi que creo que el proyecto esta echo para python2 y no a python3.\n",
    "![error](./images/Error_8.png)"
   ]
  },
  {
   "cell_type": "markdown",
   "metadata": {},
   "source": [
    "Ahora corri la de python 3 con sudo y ya no sale el error de ahi arribita de egg_base. maldiicon que no entiendo, y al parecer se quedo en el mismo error de lxml. si salio el mismo error de arriba, a lo bien que no entiendo."
   ]
  },
  {
   "cell_type": "markdown",
   "metadata": {
    "collapsed": true
   },
   "source": [
    "Hice una pruba con pip-sync y me lanza este otro error. \n",
    "![error](./images/Error_9.png)\n",
    "que al parecer segun entiendo es cuestion de que una de las dependencias es unicamente para python 2.7\n",
    "\n",
    "vovli al a probar sin pip-sync, salio el mismo error y ahora probe lo sigueinte\n",
    "\n",
    "    sudo pip2 install lxml\n",
    "pero no eso no es.\n",
    "\n",
    "    sudo yum install python-lxml\n",
    "\n",
    "nope,tamnpoco funciona. \n",
    "\n",
    "     sudo yum install libxml-devel\n",
    "     \n",
    "     \n",
    "pere que em añgun puntio cambio el error \n",
    "Bueno lei por ahi y puede que sea problemas de memoria y pue si apenas tengo 925MBlibres en el disco,voy a borrar un par de cosas a ver si es eso."
   ]
  },
  {
   "cell_type": "markdown",
   "metadata": {
    "collapsed": true
   },
   "source": [
    "Parece que lo de la memoria llena como que si era, por que totio tambien en lo de lxml pero con otro error vaya a saber dios que sera. sin embargo eh aqui el pantallazo.\n",
    "![error](./images/Error_10.png)\n"
   ]
  },
  {
   "cell_type": "markdown",
   "metadata": {},
   "source": [
    "Bueno a ver la cuestion no era de disco si no de memoria RAM, la maquina estaba funcionando con 512MB, ya o subi a 2GB y esperar a ver si habra sido eso.\n",
    "gonorreaaaaaaaaa\n",
    "paso\n",
    "y llegue al error ese de x509 bujajajajajajajajaj si era la memoria. y de aqui en adelante esperar al lunes por que que hps."
   ]
  },
  {
   "cell_type": "markdown",
   "metadata": {},
   "source": [
    "    sudo pip2 install cryptography\n",
    "eso no funciono \n",
    "\n",
    "bueno cambie la dependeinca de crytgrafi en el archivo a la 1.9 y parece que sirvio pues salio un nuevo error\n",
    "![error](./images/Error_11.png)\n",
    "\n",
    "    sudo pip2 install uwsgi"
   ]
  },
  {
   "cell_type": "markdown",
   "metadata": {},
   "source": [
    "nokas tmapoco\n",
    "\n"
   ]
  },
  {
   "cell_type": "code",
   "execution_count": null,
   "metadata": {
    "collapsed": true
   },
   "outputs": [],
   "source": []
  }
 ],
 "metadata": {
  "kernelspec": {
   "display_name": "Python 3",
   "language": "python",
   "name": "python3"
  },
  "language_info": {
   "codemirror_mode": {
    "name": "ipython",
    "version": 3
   },
   "file_extension": ".py",
   "mimetype": "text/x-python",
   "name": "python",
   "nbconvert_exporter": "python",
   "pygments_lexer": "ipython3",
   "version": "3.6.1"
  }
 },
 "nbformat": 4,
 "nbformat_minor": 2
}
