{
 "cells": [
  {
   "cell_type": "markdown",
   "metadata": {},
   "source": [
    "# Docker Koboto Install\n",
    "\n",
    "Bueno decidi mejor hacer otro notebook dado que ajj mejor. Seguire los pasos de la wiki a ver como me va.\n",
    "[wiki](http://www.kobowiki.org/index.php?title=Main_Page) Ya que estoy en la universidad tratare de instalar koboto en la maquina virtual que monto gustavo a ver como me va. aunuqe es un ubuntu re viejo no se si haya soporte de las librerias y eso, probare ahi primero, si no me paso a fedora o ubuntu de alguna maquina virtual en mi pc."
   ]
  },
  {
   "cell_type": "markdown",
   "metadata": {},
   "source": [
    "La maquina virtual esta en 10.1.90.19 entoncs es algo como\n",
    "\n",
    "    ssh vagrant@10.1.90.19"
   ]
  },
  {
   "cell_type": "markdown",
   "metadata": {},
   "source": [
    "Bastante viejo el linux, creo que mejor ni intentar lo de los dockers o si?\n",
    "> Linux vagrant-ubuntu-trusty-32 3.13.0-36-generic #63-Ubuntu SMP Wed Sep 3 21:30:45 UTC 2014 i686 i686 i686 GNU/Linux\n",
    "\n",
    "\n"
   ]
  },
  {
   "cell_type": "markdown",
   "metadata": {},
   "source": [
    "Encontre el primer problema y es que la maquina virtual que esta en la red no tiene acceso a internet a si que paila tratar de instalar nada por que paila. será probar en una maquina virtual probare entoncs con la de fedora y si no con la de ubuntu a ver como me va.\n",
    "\n",
    "### Instalacion docker en fedora:\n",
    "\n",
    "Primero una pequeña actualizacion\n",
    "\n",
    "    sudo dnf update && dnf upgrade\n",
    "   \n",
    "Bueno tengo el puerto 80 de la maquina hablando con el puerto 8080 de mi pc.\n",
    "\n",
    "primero lo de esta [guia](http://www.kobowiki.org/index.php?title=Server_instance_Setup)\n",
    "\n",
    "lo de docker-compose faltaba poner la linea de los permisos que sale en esta [pagina](https://docs.docker.com/compose/install/#install-compose)\n",
    "\n",
    "    sudo chmod +x /usr/local/bin/docker-compose\n",
    "    \n",
    "instalar git\n",
    "\n",
    "    dnf install git\n",
    "    \n",
    " luego seguir esta [guia](http://www.kobowiki.org/index.php?title=Kobo_Docker_Setup)\n",
    " en feodra esta linea no sirvio \n",
    "     \n",
    "     sudo nano /etc/profile.d/kobo-docker.sh\n",
    "\n",
    "bueno mas que la linea no sirvio el sh, no se raro, pero puse el export asi sin el bash y funciono.\n",
    "\n",
    "    docker-compose pull\n",
    "    \n",
    "toma tu primer error, creo, con esa linea \n",
    "\n",
    "![docker](./images/docker_01.png)"
   ]
  },
  {
   "cell_type": "markdown",
   "metadata": {},
   "source": [
    "bueno ese error es que debo iniciar el servicio cada vez que prenda la maquina\n",
    "\n",
    "    sudo systemctl start docker\n",
    "\n",
    "si, era eso aunque tambien descubri otra cosita, un [post-install-docker](https://docs.docker.com/engine/installation/linux/linux-postinstall/#manage-docker-as-a-non-root-user)\n",
    "\n",
    "pues supuestamente ya esta corriendo pero no tengo acceso a ellos en el puerto que especifique aunque raro por que supuestamente ya deberia tener acceos a la maquina hice lo de la vez pasada. pero raro no tengo acceso, no se si sera cosa de koboto o de docker o de virtualbox o de vagrant o alguna configuracion, la otra podria ser probar la instalacion en una maquina fedora con escrotorio para poder ver que es lo que pasa por que ahi si quedo como grabe. chanfles no se.\n",
    "\n",
    "cosas raras pasaron al darle down al docker. aunque no es mala idea probar primero en una maquina con interfaz grafica. hagamos eso. por que es que la configuacion de red de maquina virtuales no me se como configurarle a eso."
   ]
  },
  {
   "cell_type": "markdown",
   "metadata": {},
   "source": [
    "### Ubuntu Desktop\n",
    "\n",
    "Como dije anteriormente probaria en una version de escritorio por que no di con la configuracion de la red de las maquinas virtuales. por ahora cree una amquina virtual de ubuntu 16.04, como dice en las especificaicones.\n",
    "\n",
    "    user: kobo\n",
    "    pass: 1234\n",
    " \n",
    "    sudo apt-get update\n",
    "    sudo apt-get upgrade\n",
    "\n",
    "parece que con lo de la instalacion de docker si tocara coo esta en la pagina oficial de docker y no como sale en la pagina de la wiki.\n",
    "\n",
    "https://docs.docker.com/engine/installation/linux/docker-ce/ubuntu/\n",
    "https://docs.docker.com/compose/install/\n",
    "\n",
    "tampoco funciono lo del sh ese raro.\n",
    "\n",
    "Bueno me toco reinstalar la maquina virtual 10Gb es muy poquito para la maquina virtual, esta vez le puse 30 a ver si asi si.\n"
   ]
  },
  {
   "cell_type": "markdown",
   "metadata": {},
   "source": [
    "Bueno encontre un par de problemas y peude que sea por que estoy tratando de entrar al local cuando hice una instalacion de servidor, asi que puede que sea eso, asi que reinstalaré a ver por que por algo cambian el modo de instalacion.\n",
    " Tengo que tener cuidado desde la parte de ln -s"
   ]
  },
  {
   "cell_type": "markdown",
   "metadata": {},
   "source": [
    "Funcionoooo!!!! funciono el docker con las configuraciones en local, siii malditasea, solo me queda pedir una maquina alla en geomatica y que me dejen instalar eso, hago la puta prueba y me sirve me siento no se, siento que algo mas va suceder y aun estoy lejos de lo que quiero hacer :'( pero buneo se logro la instalacion y si, la insterfaz es muy diferente \n",
    "\n",
    "la cuestion es que no veo por ningun lado la forma de modificar los archivos y esas cosas, donde quedan guardadas las cosas de kobo, la joda es que como veo tambien esta demorado para crear un proyecto. la joda es que la maquina tambien, alparecer es demasiado lenta para lo que necestia kobottolbox, la otra seria probar en una maquina server como habia intentado la vez pasada con vagrant, pero esta vez ya se como configurar esta monda. creo.\n",
    "\n",
    "![docker](./images/docker_02.png)\n"
   ]
  },
  {
   "cell_type": "markdown",
   "metadata": {},
   "source": [
    "siii ven, una interfaz muy diferente. Sera que gusztavo si aceptara lo de dockers? no se. LA cuestion es probar vagrant o una maquina normal?, creo que probare con vagrant. Si, probare con vagrant"
   ]
  },
  {
   "cell_type": "markdown",
   "metadata": {
    "collapsed": true
   },
   "source": [
    "para el error ese de locale_C\n",
    "\n",
    "    export LC_ALL=en_US.UTF-8"
   ]
  },
  {
   "cell_type": "markdown",
   "metadata": {},
   "source": [
    "algo paso y se travo :(. Pues sigue medio trabado drogas, y no pude tener acceso a koboto, entro al puerto 8000 y reconocio nginx pero por alguna razon salia error, fui a apagar el docker para cambiar una configuracion y paila se trbo, y ahora parece que fuera mi pc el trabado, algo raro ta pasando, aunque creo que solicitare la maquina virtual en geomatica para instalar eso de una con dockers y no estar molestando tanto con maquinas virtuales, matarme instalando eso ya de una vez en la U. Creo entoncs que haré el documento aquel."
   ]
  },
  {
   "cell_type": "markdown",
   "metadata": {},
   "source": [
    "Ajj :/ y sigue sin funcionar, sigue trabado, y si trato de hacer que funcione en una de escritorio y accedo al puerto 8000 no debi aver borrado esa mondaquera.\n",
    "LA madre que ahora no funciona :'("
   ]
  },
  {
   "cell_type": "code",
   "execution_count": null,
   "metadata": {
    "collapsed": true
   },
   "outputs": [],
   "source": []
  }
 ],
 "metadata": {
  "kernelspec": {
   "display_name": "Python 3",
   "language": "python",
   "name": "python3"
  },
  "language_info": {
   "codemirror_mode": {
    "name": "ipython",
    "version": 3
   },
   "file_extension": ".py",
   "mimetype": "text/x-python",
   "name": "python",
   "nbconvert_exporter": "python",
   "pygments_lexer": "ipython3",
   "version": "3.6.3"
  }
 },
 "nbformat": 4,
 "nbformat_minor": 2
}
