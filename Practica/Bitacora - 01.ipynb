{
 "cells": [
  {
   "cell_type": "markdown",
   "metadata": {},
   "source": [
    "# Primer Bitácora del Proyecto ENQ\n",
    "## Encuestas Offline\n",
    "\n",
    "Se habla con Gustavo (_Director del Proyecto_) el día 26-02-2017 por `Facebook`. Gustavo indica lo siguiente:\n",
    "\n",
    "> Tenemos necesidad de realizar encuestas offline, lo que implica:\n",
    "* Desarrollar los formularios\n",
    "* Ejecutarlos en tabletas\n",
    "* Realizar los levantamientos\n",
    "* Expórtalos a una plataforma online\n",
    "* Descargarlos estructurados\n",
    "\n",
    ">Enketo es una librería que permite manejar widgets offline pero no es la plataforma, Koboto es la plataforma. Eso es la necesidad. ahora Diplomado, el diplomado requiere artículo, la idea es apuntarle a un artículo de aplicación si esa es la línea que deseas tomar deberás:\n",
    "* Instalar\n",
    "* Configurar\n",
    "* Probar\n",
    "* Documentar\n",
    "* Realizar prueba de campo y un artículo de aplicación con respecto a la necesidad planteada.\n",
    "\n",
    ">Qué debes hacer esta semana.\n",
    "* Listar las funciones esperadas de un sistema de encuestas que además sean offline. al menos listar 5 software consultados, interfaces, y funciones.\n",
    "* Consultar paper de casos de uso de estos softwares (solo títulos y abstrart por ahora)\n",
    "\n",
    ">Al finalizar la semana requiero.\n",
    "* Un informe de los 2 puntos anteriores, preferiblemente en Xmind\n",
    "* Tener definidos Titulo, objetivo general y objetivos específicos según lo que consultes y lo que te he dejado aquí escrito\n",
    "* Quiero una lista de funciones, módulos, casos de uso, de ese tipo de software\n",
    "* Buscar papers de aplicación de encuestas con aplicativos web\n",
    "\n",
    ">Por favor me escribes un correo con lo que entendiste que vas a hacer esta semana para estar de acuerdo y dejar la evidencia. La Evidencia de las actividades que te estoy dejando y el objetivo de la semana recuerda, que todo objetivo debe generar informes documentos de office, mapas mentales, código (toda actividad también) ósea, el análisis de los softwares y los papers, debe quedar registrado la forma más sencilla son mapas mentales te recomiendo usar Xmind.\n",
    "\n",
    "Teniendo en cuenta lo hablado con Gustavo, como primera tarea se realiza el correo con las actividades de la semana para realizar el informe el cual debe de entregar el día viernes 03 - 03 - 2017. La segunda tarea consistirá en investigar el funcionamiento, de los distintos sistemas de encuestas que se encuentran en el mercado, de ser posible consultando papers, casos de uso, y demás de 5 de estos sistemas. La tercera tarea será definir el título, objetivo general y objetivos específicos del proyecto. La cuarta tarea consiste en la elaboración del informe y su respectiva entrega.\n",
    "\n",
    "### Primer Tarea: Correo Informativo\n",
    "> Buenas Tardes Ing. Gustavo.\n",
    "\n",
    ">El presente correo es para informar de las actividades que realizaré esta semana para el sábado 4 de marzo poder presentar el informe. Como se nos informó, en el informe del 4 de marzo han de estar definidos el título y los objetivos, tanto general como específicos, del proyecto final. Para ello realizaré varias consultas a distintos gestores o sistemas de encuestas que se encuentren en el mercado, con el fin conocer más a fondo la estructura y funcionamiento de los mismos. Una vez realizada dicha consulta, la cual estará incluida en el informe ya sea con gráficas, tablas o mapas mentales, se llevará acabo la creación del título y los objetivos del proyecto.\n",
    "\n",
    ">Muchas Gracias por su atención.\n",
    "\n",
    "Se obtiene respuesta al correo enviado, el cual indica lo siguiente:\n",
    "\n",
    ">Saludos Daniel\n",
    "\n",
    ">**Tip de redacción**, cada párrafo tiene una intención y si puedes listar algo lístalo. **Tip de tareas**, es mejor hacer las tareas que demoren poco lo antes posible y por último, los informes que me entregues son para información, no para alargarlos.\n",
    "\n",
    ">Por ejemplo:\n",
    "* Buscar una herramienta para presentar informes y organizar información (se recomienda usar Xmind)\n",
    "* Listar las funciones asociadas a los softwares de encuestas y buscar plataformas para encuestas offline (mirar enketo y Kobotoolbox, pero no solo esas)\n",
    "* Redactar objetivo, y objetivos específicos (tareas) según lo hablado en el chat y lo aprendido en las búsquedas.\n",
    "\n",
    ">Es lo mismo, pero con listas es más claro.\n",
    "\n",
    "### Segunda Tarea: Consulta\n",
    "Se realiza una consulta de varios portales web gestoras de formularios ente las que se encuentran los siguientes\n",
    "* [Enketo](https://enketo.org/)\n",
    "* [Kobotoolbox](http://www.kobotoolbox.org/)\n",
    "* [Portaldeencuestas](https://www.portaldeencuestas.com/)\n",
    "* [Surveymonkey](https://es.surveymonkey.com/)\n",
    "* [Eencuestas](http://www.e-encuesta.com/inicio/)\n",
    "* [Evalmaster](http://www.evalmaster.es/es/)\n",
    "* [Google form](https://www.google.com/intl/es-419_co/forms/about/)\n",
    "* [Quicktapsurvey](http://www.quicktapsurvey.com/lg/es/)\n",
    "* [Suonper](https://www.suonper.com/)\n",
    "\n",
    "Casos de uso:\n",
    "- [Kobotoolbox](https://www.youtube.com/watch?v=fTNrHV9Geqs)\n",
    "- [Enketo](https://help.ona.io/guides/data-collection/)\n",
    "- [Enketo](http://www.redhum.org/uploads/documentos/pdf/Redhum-LAC-Presentacion-Guia-KOBO-WHS-MIAH_VII-WVI-201502-20150225-BE-16040.pdf)\n",
    "\n",
    "Durante la consulta se encontró una página de cómo hacer un gestor de encuestas en PHP, dicha página puede llegar a ser de ayuda. pagina [aqui](http://web.tursos.com/como-hacer-un-sistema-de-encuestas-con-php-y-mysql/)\n",
    "\n",
    "Cabe aclarar que la consulta arroja la verdadera misión de las encuestas, la cual consiste en la recolección masiva de datos y la mayoría de páginas más que \"Gestores de formularios\" son \"Recopiladores de Datos\"\n",
    "\n",
    "##### Enketo:\n",
    "Más que un gestor de encuestas podría tomarse como una librería de [Widgets](https://es.wikipedia.org/wiki/Widget) de código abierto, lo que permite que varias plataformas usen los Widgets, ese es el caso de Kobotoolbox, [formhub](https://formhub.org/), [Ona](https://ona.io/home/), [openclinica](https://www.openclinica.com/) y muchos más, como se puede observar en la página oficial de Enketo. \n",
    "En otras palabras, varias plataformas pueden, dedicarse a la gestión de encuestas como en el caso de Kobotoolbox, o usar los formularios de Enketo para crear un servicio al cliente como es el caso de openclinica.\n",
    "Enketo presenta una amplia cantidad de Widgets, lo que representa una mayor calidad en la recolección de datos. La mayor ventaja de Enketo es la capacidad de recolección de datos offline, esto funciona guardando los datos obtenidos en cache y luego cuando exista una conexión a Internet son actualizados a la base de datos o al servidor, según se maneje.\n",
    "\n",
    "##### Kobotoolbox:\n",
    "Como se mencionó anterior mente es una plataforma dedicada a la recolección de datos, indica ser útil o de mayor beneficio en lugares donde no exista una conexión a internet. La mayoría de estas plataformas de recolección de datos, son usados para la recolección de datos en lugares donde ocurren desastres naturales, hay grupos indígenas, exista una marginación, existan problemas ambientales, hambruna, pobreza, epidemias, etc.\n",
    "Kobotoolbox permite la creación de formularios, la recolección de datos y el análisis de los mismos, cuenta con la posibilidad de recolectar datos en distintos dispositivo.\n",
    "\n",
    "##### Portaldeencuestas:\n",
    "Otra plataforma enfocada en la gestión de encuestas, a diferencia que no se promociona como una recopiladora de datos si no como un gestor de encuestas, es netamente online y proporciona la ventaja de enviar las encuestas por correo electrónico, redes sociales, y más, promocionando el ahorro de dinero de la propagación de las encuestas mediante el correo electrónico.\n",
    "\n",
    "###### Surveymonkey:\n",
    "Esta como varias plataformas presentan plantillas de encuestas para facilitar la creación de las mismas, está en especial presenta una personalización de las mismas acorde a los colores y logos de la empresa, permite compartir encuestas, como varios permiten el análisis de los resultados, permite que los formularios puedan ser creados, modificados por varias personas, manteniendo una política de \"trabajo en equipo\", disponible para varias plataformas, permite integración con varias aplicaciones como SPSS, Evernote, MailChimp, las plataformas gestoras de encuestas manejas servicio al cliente, mayormente muestran tutoriales de uso en sus páginas.\n",
    "\n",
    "###### E-encuestas:\n",
    "Como todas las plataformas hasta el momento a excepción de enketo, esta plataforma maneja una sección de usuarios, es decir requiere que un registro y login para el uso de la misma. A grandes rasgos es igual, crear, compartir y analizar datos. presenta varios servicios brindando plantillas de encuestas de calificación de docentes, academias, empleados, ayuda en la planificación de eventos y en votaciones, planes familiares, amigos y demás. como varias proporciona seguridad de los datos, se denomina fácil de aprendizaje y uso rápido, multiplataforma, permite personalización acorde a la empresa, es decir logo y demás, como enketo maneja lógica de saltos, es decir tiene encuestas respuestas anteriores y soporte al cliente mediante llamadas por Skype.\n",
    "\n",
    "##### Evalmaster:\n",
    "Gestor de en encuestas orientado a la creación de encuestas para la valoración de los servicios de una empresa, no funciona offline ya que como a mayoría la encuesta es compartida por correo electrónico, es completamente de pago, como varios maneja una cantidad de tipos de preguntas, esta permite la exportación de los resultado a Excel.\n",
    "\n",
    "##### Google Form:\n",
    "Una de las más famosas en la actualidad, de manejo totalmente online, maneja \"estilos\", presenta análisis de datos, maneja el concepto de equipos.\n",
    "\n",
    "###### Quicktapsurvey:\n",
    "offline, multiplataforma, escalable, es decir manejo de muchos dispositivos, captura fotos, múltiples extensiones a la hora de descargar, presenta informes PDF, control de usuario, es decir monitoreo del progreso de recolección de datos, permite exportar a MailChimp, Salesforce, entre otros e importar desde Survermonkey, cuenta con APPI, tiene \"roles\" para sus usuarios, aparte de tipos de preguntas también maneja tipos de encuestas, cara a cara, kiosko, formulario móvil o por internet.\n",
    "\n",
    "##### Suonper:\n",
    "Permite los comentarios, sin el uso de internet, servicio a clientes, presenta análisis de datos en tiempo real y como muchos dando datos geográficos, graficas, etc, se promociona como útil de hacer encuestas respecto a candidatos electorales.\n",
    "\n",
    "**Nota: ** Xmind es feo, y no se encuentra software cheveres pa eso :weary:"
   ]
  },
  {
   "cell_type": "code",
   "execution_count": 10,
   "metadata": {
    "collapsed": false
   },
   "outputs": [
    {
     "name": "stdout",
     "output_type": "stream",
     "text": [
      "Python is 👍\n"
     ]
    }
   ],
   "source": [
    "import emoji\n",
    "print(emoji.emojize('Python is :thumbsup:', use_aliases=True))"
   ]
  },
  {
   "cell_type": "code",
   "execution_count": 11,
   "metadata": {
    "collapsed": false
   },
   "outputs": [
    {
     "data": {
      "text/plain": [
       "1282"
      ]
     },
     "execution_count": 11,
     "metadata": {},
     "output_type": "execute_result"
    }
   ],
   "source": [
    "len(emoji.EMOJI_UNICODE)"
   ]
  },
  {
   "cell_type": "markdown",
   "metadata": {},
   "source": [
    "###### Funcionamiento:\n",
    "Teniendo en cuenta lo recolectado en la consulta podemos generar un resumen del funcionamiento general de los sistemas de encuestas. \n",
    "![Sistemas de Encuestas](images/mapa_sistema_encuestas.png)\n",
    "El mapa no está 100% relacionado ya que se haría muy engorroso, está realizado a grandes rasgos.\n",
    "Falto poner: \n",
    "* Ahorro de dinero\n",
    "* ~~Personalización de Encuestas~~\n",
    "* ~~Compatibilidad con otros programas o plataformas~~\n",
    "* ~~Multiplataforma~~\n",
    "* ~~varis tipos de preguntas~~\n",
    "* ~~Tipos de encuesta cara a cara, kiosko, etc~~\n",
    "* comentarios\n",
    "* Observación de la recolección en tiempo real\n",
    "Se arregla el mapa y se vuelve a realizar, esta vez usando Inkscape\n",
    "![Mapa](images/mapa_encuestas.png)\n",
    "Una vez realizado el mapa se prosigue a la siguiente tarea."
   ]
  },
  {
   "cell_type": "markdown",
   "metadata": {},
   "source": [
    "### Tercera Tarea\n",
    "La tercera tarea consiste en escribir el tirulo, objetivo general y específicos, como se recomendó se realizaron búsquedas de papers de otras aplicaciones, en dicha búsqueda se encontraron los siguientes documentos. [Primero](http://www.aeipro.com/files/congresos/2008zaragoza/ciip08_1465_1476.648.pdf), [Segundo](http://www.goma.ull.es/gesten_web/docs/Memoria.pdf) <br/>\n",
    "**Titulo: ** Geoda: Gestor de encuestas y recolector de datos dirigido al grupo de investigación Geomatica.<br/>\n",
    "** Objetivo General: **\n",
    "* Planear y Desarrollar un sistema gestor de encuestas que este dirigido a las tareas de campo y recolección de datos del grupo de investigación Geomatica de la Universidad Industrial de Santander.<br/>\n",
    "\n",
    "** Objetivos Específicos: ** \n",
    "* Realizar el análisis de requerimientos para Geoda. Es decir, diseñar los diagramas UML requeridos para el planteamiento de los requisitos funcionales y no funcionales del sistema.\n",
    "* Desarrollar Geoda, en otras palabras, programar el sistema teniendo en cuenta los requisitos funcionales y no funcionales obtenidos en el cumplimiento del objetivo anterior.\n",
    "*  Probar Geoda, consiste en realizar distintas pruebas de escritorio y de campo para comprobar el funcionamiento de Geoda, buscando y corrigiendo los errores que se puedan encontrar.\n",
    "\n",
    "### Informe:\n",
    "Se realiza un pequeño informe en un documento word, el cual se puede encontrar [aqui](Primer_informe_GEODA.docx) <br/>\n",
    "**Nota: ** Si se da click el archivo se descarga, pero este se encuestra en la carpeta principal.\n",
    "Se planea una reunion con Gustavo el dia 4 de marzo a las 7 am para discutir sobre el informe, las correcciones se escribiran aqui, despues se arreglara el archivo `docx`.\n",
    "\n",
    "### Correcciones:\n",
    "No se trata en sí de desarrollar un software offline para el levantamiento de datos de Geomatica, se trata de darle solución a la problemática del levantamiento de datos de Geomatica, independientemente si el software a usar ya está creado o no. en si el articulo sería el caso de uso de la misma. que sea software abierto, que no sea un costo mensual, que sea un solo pago, probar trial. la solución tiene que quedar instalada\n",
    "\n",
    "Ni Surveymonkey, Ni google form sirven\n",
    "Debe ser instalada en el servidor de Geomatica os datos no pueden quedar externos.\n",
    "**Nota: ** \"eso no me trama, no hare ni vergas, pero aprenderé que es la cuestión, la joda es que me valgan eso como un artículo, igual podría ser culpa de Gustavo XD\".\n",
    "\n",
    "Aparte de objetivos de una vez escoger la aplicación, tabla comparativa -> lenguaje, facilidad de acceso, uso, comunidad detrás de ella, moderno de código, fácil acceso, \"pensar en el lado del backend\", donde la están usando, etc. etc., \n",
    "\n",
    "También se aconseja usar Xmind por ser sencillo y fácil de trabajar, la idea es expresar una idea, no matarse tratando que algo quede muy bonito y no diga nada como lo fue el cuadro que se hizo en Inkscape.\n",
    "\n",
    "Después de la llamada por Skype con Gustavo me da a entender lo siguiente: \n",
    "* Se comprende en totalidad lo que hay que hacer, El proyecto, incluso no es un proyecto en sí, se trata de darle solución a una de las problemáticas del grupo de investigación geomántica.\n",
    "* Dicha \"problemática\" consiste en la dificultad de recolección de datos en las salidas de campo del grupo, no existe algún protocolo o algún proceso específico para la toma de datos, no estoy seguro, pero dado la problemática puede que los datos no se lleven al servidor por completo o exista alguna problemática no tanto de tomar los datos en el campo si no en la inserción de los datos al servidor, algunos pueden llegar incompletos, no llegar o influenciados.\n",
    "* En general hay que darle solución a dicha problemática, cabe resaltar, que no consiste en desarrollar un software, puede que dicho software ya existe, si no existe se debe de realizar, dicho software debe permitir guardar los datos en los servidores de geomántica, no en servidores externos.\n",
    "* Hay que hacer una nueva consulta teniendo en cuenta la necesidad, buscando algún software que solucione dicha problemática.\n",
    "* Comprobar si las plataformas ya consultadas podrían funcionar.\n",
    "* Volver a definir el título y los objetivos de proyecto.\n",
    "* Lo anterior ha de estar listo para el día sábado 11-03-2017\n",
    "* Usar Xmind.\n",
    "* Escoger de una vez la aplicación a utilizar dando varias razones justificables del porqué."
   ]
  },
  {
   "cell_type": "markdown",
   "metadata": {},
   "source": [
    "#### Continua Bitacora 2 ......."
   ]
  }
 ],
 "metadata": {
  "kernelspec": {
   "display_name": "Python 3",
   "language": "python",
   "name": "python3"
  },
  "language_info": {
   "codemirror_mode": {
    "name": "ipython",
    "version": 3
   },
   "file_extension": ".py",
   "mimetype": "text/x-python",
   "name": "python",
   "nbconvert_exporter": "python",
   "pygments_lexer": "ipython3",
   "version": "3.6.0"
  }
 },
 "nbformat": 4,
 "nbformat_minor": 2
}
