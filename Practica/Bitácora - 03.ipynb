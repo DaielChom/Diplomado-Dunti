{
 "cells": [
  {
   "cell_type": "markdown",
   "metadata": {},
   "source": [
    "# Bitácora - 03: Practica ARDG\n",
    "## Practica Autodenominada Recolección de Datos para Geomatica\n",
    "\n",
    "De la reunión anterior y de la asignatura de tareas inicial, se decide utilizar aplicaciones basadas primordialmente en Python debido a que varias personas en Geomatica están mejor relacionadas con este lenguaje que con otros. Por ende la herramienta a usar es ONA o Kobotoolbox. Para el siguiente Informe se pretende presentar la herramienta a usar y el Alcance e Impacto de la practica, para esto se realizaran las siguiente tareas:\n",
    "\n",
    "* Arreglar las tareas de Asana, están mal, no siguen la estructura, ¡¡Hay que corregir!!, adjuntar evidencia.\n",
    "* Agregar las tareas a realizar esta semana en Asana\n",
    "* Tabla comparativa entre ONA y Kobotoolbox sobre su estructura, dependencias, etc.\n",
    "* Reunión presencial con Duvan\n",
    "* Redactar El alcance e impacto de la practica, podría decirse que es delimitar el uso y funcionamiento de los mismo\n",
    "* Decidir que herramienta utilizar\n",
    "\n",
    "#### Tabla Ona vs Kobotoolbox:\n",
    "son muy parecidos que estrés, estoy pensando en coger la mas bonita, ajajjaja le hablare a Gustavo de si mandarle un correo a alguien, por que no se cual escoger.\n",
    "\n",
    "#### Alcance e Impacto:\n",
    ">Para la aprobación del diplomado DUNTI se realizara la instalación de un software que ayude en la recolección de datos al grupo de investigación Geomatica. ¿Como funciona este software?. Primeramente el software estará instalado en alguno de los servidores de Geomatica o tendrá acceso a los mismos. El software en si es una plataforma para crear, compartir y contestar encuestas. Al llenar dichas encuestas los resultados serán almacenados en Geomatica para su posterior uso o análisis. La ventaja de esta plataforma es que las encuestas pueden ser compartidas de muchas maneras, siendo la mas importante, el poder compartirla con un dispositivo móvil, en el cual se puede contestar la encuesta sin la necesidad de usar Internet. Este software se puede utilizar de muchas maneras, y en Geomatica se planea usar para recolectar datos en sus salidas de campo. Por ejemplo un estudiante tiene que realizar una investigación en la cual necesita recolectar datos de muchos lugares de las zonas rurales de Bucaramanga, en vez de llevar varias copias de un formulario para anotar allí los datos, lleva su teléfono móvil contestara allí el formulario cuantas veces desee. Una vez tenga una conexión a Internet o al servidor, los datos serán sincronizados ahorrando así el trabajo de tipear los datos. Con los datos en la plataforma, el estudiante podrá acceder a ellos para realizar un análisis mas detallado de los mismos y así completar su investigación.\n",
    "\n",
    ">La plataforma es multiusuario, es decir, podrán acceder distintos usuarios al mismo tiempo y aprovechar sus ventajas sin interferir en el trabajo de otros. Este característica multiusuario se lleva debe gracias al gestor de usuarios presente en la plataforma. \n",
    "\n",
    ">Esta plataforma facilita y ayuda de muchas maneras al investigador, primero ahorra dinero e debido a la reducción de papel necesaria para las encuestas, lo que se traduce también como mayor comodidad para el encuestador, en segundo lugar el proceso de tipeo y recolección de datos se realiza al mismo tiempo, ahorrando de esta manera tiempo y dinero, en tercer lugar permite una mayor y mejor recolección y organización de los datos, la encuesta al ser digital se pueden agregar datos que con las encuestas de papel no se podían agregar, como audio, video, información Geográfica (En papel se podía pero requería de otros dispositivos), entre otras. En cuarto lugar permite el análisis de recolección de datos en tiempo real. En quinto al estar los procesos de recolección de datos y tipeo juntos se reduce la cantidad de errores de recolección, entre muchas otras ventajas más que como se menciono anteriormente ayudan al investigador y a todo su equipo de trabajo.\n",
    "\n",
    "> En general esta plataforma genera una ahorro en dinero y tiempo ya que se genera un protocolo para la toma de datos en la investigación."
   ]
  },
  {
   "cell_type": "markdown",
   "metadata": {},
   "source": [
    "Se prosige a redactar el informe"
   ]
  },
  {
   "cell_type": "code",
   "execution_count": null,
   "metadata": {
    "collapsed": true
   },
   "outputs": [],
   "source": []
  }
 ],
 "metadata": {
  "kernelspec": {
   "display_name": "Python 3",
   "language": "python",
   "name": "python3"
  },
  "language_info": {
   "codemirror_mode": {
    "name": "ipython",
    "version": 3
   },
   "file_extension": ".py",
   "mimetype": "text/x-python",
   "name": "python",
   "nbconvert_exporter": "python",
   "pygments_lexer": "ipython3",
   "version": "3.6.0"
  }
 },
 "nbformat": 4,
 "nbformat_minor": 2
}
