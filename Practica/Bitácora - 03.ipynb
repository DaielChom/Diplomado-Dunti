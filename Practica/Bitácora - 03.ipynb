{
 "cells": [
  {
   "cell_type": "markdown",
   "metadata": {},
   "source": [
    "# Bitácora - 03: Practica ARDG\n",
    "## Practica Autodenominada Recolección de Datos para Geomántica\n",
    "\n",
    "De la reunion anterior y de la asignatura de tareas incial, se decide utilizar aplicaciones basadas primordialmente en Python debido a que varias personas en Geomatica estan mejor relacionadas con este lenguaje que con otros. Por ende la herramienta a usar es ONA o Kobotoolbox. Para el siguiente Informe se pretende presentar la herramienta a usar y el Alcance e Impacto de la practica, para esto se realizaran las sigueinte tareas:\n",
    "\n",
    "* Arreglar las tareas de Asana, están mal, no siguen la estructura, ¡¡Hay que corregir!!, adjuntar evidencia.\n",
    "* Agregar las tareas a realizar esta semana en Asana\n",
    "* Tabla comparativa entre ONA y Kobotoolbox sobre su estructura, dependencias, etc.\n",
    "* Reunión presencial con duvan\n",
    "* Redactar El alcance e impacto de la practica, podria decirse que es delimitar el uso y funcionamiento de los mismo\n",
    "* Decidir que herramienta utilizar"
   ]
  },
  {
   "cell_type": "markdown",
   "metadata": {
    "collapsed": true
   },
   "source": [
    "#### Tabla Ona vs Kobotoolbox:\n",
    "son muy parecidos que estres, estoy epnsando en coger la mas bonita, ajajjaja le hablare a gustavo de si mandarle un correo a alguien, por que no se cual escoger.\n",
    "\n",
    "#### Alcance e Impacto:\n",
    "Para la aprobacion del diplomado DUNTI se realizara la instalacion de un software que ayude en la recoleccion de datos al grupo de investigacion Geomatica. ¿Como funciona este software?. Primeramente el software estara instalado en alguno de los servidores de Geomatica o tendra acceso a los mismos. El software en si es una plataforma para crear, compartir y contestar encuestas. Al llenar dichas encuestas los resultados seran almacenados en Geomatica para su posterior uso o analisis. La ventaja de esta plataforma es que las encuestas pueden ser compartidas de muchas maneras, siendo la mas importante, el poder compartirla con un dispositivo movil, en el cual se puede contestar la encuesta sin la necesidad de usar internet. Este software se puede utilizar de muchas maneras, y en Geomatica se planea usar para recolectar datos en sus salidas de campo. Por ejemplo un estudiante tiene que realizar una investigacion en la cual necesita recolectar datos de muchos lugares de las zonas rurales de Bucaramanga, en vez de llevar varias copias de un formulario para anotar alli los datos, lleva su telefono movil contestara alli el formulario cuantas veces desee. Una vez tenga una conexion a internet o al servidor, los datos seran sincronizados ahorrando asi el trabajo de tipear los datos. Con los datos en la plataforma, el estudiante podra acceder a ellos para realizar un analisis mas detallado de los mismos y asi completar su investiacion.\n",
    "\n",
    "La plataforma es multiusuario, es decir, podran acceder distintos usuarios al mismo tiempo y aprovechar sus ventajas sin interferir en el trabajo de otros. Este caracteristica multiusario se lleva debe gracias al gestor de usuarios presente en la plataforma. \n",
    "\n",
    "Esta plataforma facilita y ayuda de muchas maneras al investigador, primero ahorra dinero e debido a la reduccion de papel necesaria para las encuestas, lo que se traduce tambien como mayor comodidad para el encuestador, en segundo lugar el proceso de tipeo y recoleccion de datos se realiza al mismo tiempo, ahorrando de esta manera tiempo y dinero, en tercer lugar permite una mayor y mejor recoleccion y organizacion de los datos, la encuesta al ser digital se pueden agregar datos que con las encuestas de papel no se podian agregar, como audio, video, informacion Geografica (En papel se podia pero requeria de otros dispositivos), entre otras. En cuarto lugar permite el analisis de recolecion de datos en tiempo real. En quinto al estar los procesos de recoleccion de datos y tipeo juntos se reduce la cantidad de errores de recolecion, entre muchas otras ventajas más que como se menciono antestiormente ayudan al investigador y a todo su equuipo de trabajo."
   ]
  },
  {
   "cell_type": "code",
   "execution_count": null,
   "metadata": {
    "collapsed": true
   },
   "outputs": [],
   "source": []
  }
 ],
 "metadata": {
  "kernelspec": {
   "display_name": "Python 3",
   "language": "python",
   "name": "python3"
  },
  "language_info": {
   "codemirror_mode": {
    "name": "ipython",
    "version": 3
   },
   "file_extension": ".py",
   "mimetype": "text/x-python",
   "name": "python",
   "nbconvert_exporter": "python",
   "pygments_lexer": "ipython3",
   "version": "3.6.0"
  }
 },
 "nbformat": 4,
 "nbformat_minor": 2
}
