{
 "cells": [
  {
   "cell_type": "markdown",
   "metadata": {},
   "source": [
    "# Bitácora - 11\n",
    "\n",
    "Bueno pues gustavo le gusto el informe 09, hubo problemas al subirlo a Drive asi que se lo pase por telegram, lo reviso y tuvimos la siguiente conversacion en Telegram."
   ]
  },
  {
   "cell_type": "markdown",
   "metadata": {},
   "source": [
    ">**Gustavo Diaz:** <br/>\n",
    "https://www.youtube.com/watch?v=03n9No5KqSc <br/>\n",
    "http://www.esri.com/products/collector-for-arcgis <br/>\n",
    "http://doc.arcgis.com/en/collector/ <br/><br/> \n",
    "**Gustavo Diaz:** <br/>\n",
    "Mira esos 3 links, e igual con la otra comparativa, genera tablas significativas<br/><br/>\n",
    "**Gustavo Diaz:**<br/>\n",
    "Me gusta que ya se ve que se le puede meter mano, metele mano!<br/><br/>\n",
    "**Gustavo Diaz:**<br/>\n",
    "personaliza lo que puedas, aunque un poco mejor que el icono estirado, algo proporcionado<br/><br/>\n",
    "**Gustavo Diaz: **<br/>\n",
    "y continua con aquello de encontrar la forma de subirlo a Hyper-V<br/><br/>\n",
    "**Gustavo Diaz:**<br/>\n",
    "Puede que sea solo transformar el archivo vmdk a vhdx<br/><br/>\n",
    "**Gustavo Diaz:**<br/>\n",
    "me dices y lo subimos<br/><br/>\n",
    "**Daniel Carvajal:**<br/>\n",
    "no encontre un logo .svg de geomatica no se si me puedas proporcionar alguno<br/><br/>\n",
    "**Gustavo Diaz:**<br/>\n",
    "[ File : logos_geo-uis.svg ]<br/><br/>\n",
    "**Gustavo Diaz:**<br/>\n",
    "(asi como dice el dicho, Pregunte por lo que no vea)<br/><br/>\n",
    "**Daniel Carvajal:**<br/>\n",
    "gracias :D<br/><br/>"
   ]
  },
  {
   "cell_type": "markdown",
   "metadata": {},
   "source": [
    "Bueno Youn, teniendo esto en cuenta hay varias cosas por hacer, varias tareas y son las siguientes:\n",
    "* Conituar con la personalizacion de Kobotoolbox.\n",
    "* Hacer la tabla comparativa entre kobotoolbos y arcGIS\n",
    "* Convertir a Hyper-V la maquina virtual esa.(vmdk to vhdx)"
   ]
  },
  {
   "cell_type": "markdown",
   "metadata": {
    "collapsed": true
   },
   "source": [
    "Continuacion de las tareas:\n",
    "* La personalizacion de kobotoolbox ya se realizo, solo e cambio el logo y la imgen de fondo.\n",
    "* La tabla cparativa aun falta por realizarse.\n",
    "* Ya se convirtio el disco a vhdx, toca es probar que sirva, eso se hara despues con gustavo.\n",
    "\n",
    "Notas del video de arcGIS:\n",
    "* La aplicacion de colector de datos de arcGIS para ser mucho mas completa y tener mas opciones ademas de solo servir como un gestor de formularios.\n",
    "* LA usaron con un perro, pusieron un celular a la espalda de un perro, que estaba buscando algo con su olfato y donde el perr paraba tomaban un dato, de la ubicacion -> depronto lo hacia automatico, depronto no, tengo una duda si arcGIS funciona sobre el mapa directamente. -> si como lo sospechaba, arcGIS trabaja directamente sobre el mapa. kobotoolbox permite guardar ubicacion o zona de mapas dentro de su colector, pero no trabaja directamente sobre el mapa.\n",
    "* Tiene templates de formularios\n",
    "* La version web tiene muchas opciones, como el uso de mapas nocturos, de relieve, poner marcas y cosas sobre el mapa etc, tambien se le puede agregar o configurar \"Entidades\"\n",
    "* una vez configurado el mapa se guarda y se comparte con los usuarios que estaran recolectando en el campo.\n",
    "* en la version web, descargo el mapa y su configuracion, en koboto descargo es el formualrio, en la version movil de arcGIS puedo ver el mapa y los datos que se estan agregando sobre este mapa, en kobotolbox es llenar formularios, llenar formularios\n",
    "* dentro de la version movil tambien se pueden agregar nuevas cosas, o incluso cambiar algunas cosas de la configuracion que se hizo en la version web.\n",
    "* arcGIS trabaja o su mundo son los mapas, el de kobotoolbox son los formularios.\n",
    "* con argIS estoy en un punto sobre e mapa y en este punto le agrego campos, le agrego datos, informacion, etc.\n",
    "* en kobotoolbox, lleno formularios.\n",
    "* Teniendo la tablet conectada y el trabajo sincronizado, cualquier otro que tenga el mapa y lo tenga sincronizado puede ver mis avances. En kobotoolbox solo lleno y envio al servidor. no se pueden obetener resitros echos que esten en el servidor.\n",
    "* argis Colector se puede descargar gratis, pero tiene limites de uso y almaceniamieto, y para crear mapas se necesita es arcgiis de escritorio y por esta si cobran.\n",
    "* incluso para trabjar offline se descarga el mapa y se puede selecciones que parte del mapa descargar y que no, incluso puedo obtener los datos ya descargados por otros en esta zona, permitiendome trabjar en una zona especifica.\n",
    "* \n",
    "### Kobotoolbox vs arcGIS\n",
    "\n",
    "Categorias | Kobotoolbox | arcGIS Collector\n",
    "-|-|-\n",
    "GENERAL||\n",
    "¿Que es?| Conjunto de herramientas para recolectar datos en entornos difíciles. | Es la herramienta que usa arcGIS para la recoleccion de sus datos\n",
    "¿Que hace?| recolección y análisis de datos en emergencias humanitarias y otros entornos desafiantes. | Recoleccion de distinta cantidad de datos que son puestos sobre un mapa.\n",
    "¿Quienes lo usan?| Personas que trabajan en crisis humanitarias, profesionales de ayuda e investigadores que trabajan en países en desarrollo. | Gran canitdad de empresas, institutciones y personas que desean realizar estudios sobre campo.\n",
    "¿Porque usan esta herramienta?| Porque representa un método rápido para recolectar datos. |\n",
    "¿Para que lo usan?| Comprender las necesidades de poblaciones pobres o poblaciones afectadas por algún desastre natural y mediante el uso de estos datos poder reducir la cantidad de víctimas mortales en el desastre. | Por que les permite la creacion y modificación de distintos tipos de mapas y permite agregar una gran variedad de informacion sobre los mismos, como datos, fotos, fechas, etc.\n",
    "¿Donde lo usan?| En entornos difíciles donde se requiera la recolección de datos, más específicamente lugares donde hayan ocurrido desastres naturales. | En proyectos de campo que requieran la toma de datos y su relacion con una localidad o posicion en un mapa.\n",
    "¿Como lo hace?| Meidante una implementación de Enketo | Usando su software para ANdroid, IOS y windows 10.\n",
    "Equipo| \"Nuestro equipo de desarrolladores e investigadores están ubicados en Cambridge, MA y en muchos otros lugares alrededor del mundo.\" | [Github](https://github.com/orgs/Esri/people)\n",
    "Sitio| [Kobotoolbox](http://www.kobotoolbox.org/) | http://www.esri.com/products/collector-for-arcgis\n",
    "Soporte| [support](http://support.kobotoolbox.org/) | [Contacto](http://www.esri.com/about-esri/contact)\n",
    "FUNCIONAMIENTO|\n",
    "Sesion| Tipos: Organizaciones humanitarias [USO ILIMITADO], Invesigadores y trabajadores. Login estandar, no requiere confirmacion con correo. | Para el uso de arcGIS collector es gratis, pero se requiere adquirir un plan para el uso de la herramienta web o de escritorio de arcGIS, que es donde se crean y realizan las configuraciones iniciales de arcGIS.\n",
    "Proyectos| Se debe crear un formulario y volverlo proyecto. Se permite un unico formulario por proyecto\n",
    "Formularios| Gestor de formularios. | maneja sus propios formularios, de por si no existe la cuestion de \"formularios\" en todo su concepto, pues sobre un punto en un mapa se agregan datos, aveces estos datos pueden seguir o no una rutina, o un formulario, o no.\n",
    "Enketo| Creacion de formularios | No lo implementa\n",
    "Colaboración| y escritura a otros usuarios. Proyectos o formularios públicos o con permisos de lectura y escritura a otros usuarios. | Se puede compartir tanto el mapa como los datos tomados por otro usuarios, mientras que se cuente con una conexion a internet.\n",
    "Funciones de Formularios| Usados para la recoleccion masiva de datos | Como se mencionó los datos pueden o no seguir una estructura de formulario.\n",
    "Version movil| Netamente recoleccion mediante ODK collect. Que es un colector para llenar formularios, netamente. | Presenta varias funciones, en general tambien es la toma de datos, pero como se menciono permite la toma de distintos datos sin seguir un patron de \"formulario\" y si se sincroniza permite llevar el avance de otras personas encargadas de la recoleccion, lo que permite llevar control de los puntos que se han analizado y los que no, no solamente por el lider del proyecto si no por cada recolector tambien.\n",
    "COMUNIDAD |**HOY:** 12 - sep - 2017|\n",
    "Github| [Github](https://github.com/kobotoolbox) | [Github](https://github.com/esri) - [Collector](https://github.com/Esri/collector-tools)\n",
    "Pinned repositories | [kpi](https://github.com/kobotoolbox/kpi), [Kobocat](https://github.com/kobotoolbox/kobocat), [Enketo](https://github.com/kobotoolbox/enketo-express/), [Kobodocket](https://github.com/kobotoolbox/kobo-docker), [disk kobo dev](https://github.com/kobotoolbox/dist-kobo-devel) | [esri leaflet](https://github.com/Esri/esri-leaflet), [storymap-cascade](https://github.com/Esri/storymap-cascade), [geometry-api-java](https://github.com/Esri/geometry-api-java)\n",
    "Contribuciones| Kobocat: 44, kpi: 14 | leaflet: 59, storymap: 4, storymap: 15.\n",
    "Starts| kobocat: 31, kpi: 13 | leaflet: 786, storymap: 51, storymap: 294.\n",
    "Commits| kobocat: 8351 hace 15 dias, kpi: 2575 hace 14 dias | leaflet: 1674, storymap: 44, storymap: 183.\n",
    "Respuestas de Issus| 1 y 5 dias | 1 y 5 dias\n",
    "Documentacion| [support](http://support.kobotoolbox.org/), [Wiki](https://github.com/kobotoolbox/kobocat/wiki) | [soporte](http://support.esri.com/en/)\n",
    "Google Group| [Kobo user](https://groups.google.com/forum/#!forum/kobo-users) | [acrGIS](https://groups.google.com/forum/#!forum/ArcGIS)\n",
    "INFORMACION TECNICA|\n",
    "API | Se puede instalar | [Documentacion](http://doc.arcgis.com/es/) tiene una gran variedad de APIs para distintos lenguajes\n",
    "Basado en|Onadata | Informacion no disponible\n",
    "Plataforma|DJango | Informacion no disponible \n",
    "Lenguaje|Python y JS | Informacion no disponible\n",
    "Librerias| [Requisitos](https://github.com/kobotoolbox/kobocat/tree/master/requirements) | Informacion no disponible\n",
    "Base de Datos|mysql | Informacion no disponible\n",
    "Licencia|  BSD - Kobocat Apache - Kpi | Depende de la aplicacion\n",
    "INSTALACION|\n",
    "Guias| [Versión estable (vagrant)](http://support.kobotoolbox.org/customer/portal/articles/1691108-install-kobotoolbox-on-your-own-servers), [ Vagrant (ultima versión)](https://github.com/kobotoolbox/dist-kobo-devel), [docker](https://github.com/kobotoolbox/kobo-docker) | Descargar en un dispositivo Android, iOS o Windows\n",
    "Dificultad| Baja | Baja\n",
    "** CONCLUSION: ** \n",
    "A mi parecer arcGIS tiene, por encima, un monton de funcionalidades que kobotoolbox ni por asomo tiene. Comenzando que las dos herramientas tienen un enfoque diferente. Kobo es una herramienta para recolectar datos, practicamente en bruto. arcGIS recolecta dato, pero esta no es su funcion principal, lo suyo es hacer mapas interactivos. No conozco los precios, y las ganancias que a Geomatica le cueste usar arcGIS, pero sacrificarian un monton de funcionalidades por un poco mas de \"control\" pero a una herramienta tan poderosa y grande como arcGIS, es dificil manejar ese control, neecsitarian a alguien con mucha experiencia para que le metiran mano a arcGIS. En cambio si Geomatica solo esta usando arcGIS para recolectar los datos, sin hacer ningun tratameinto con las funciones que presenta arcGIS, esta malgastando el dinero, pues kobotoolbox permite esto sin nigun costo y con total control."
   ]
  },
  {
   "cell_type": "code",
   "execution_count": null,
   "metadata": {
    "collapsed": true
   },
   "outputs": [],
   "source": []
  }
 ],
 "metadata": {
  "kernelspec": {
   "display_name": "Python 3",
   "language": "python",
   "name": "python3"
  },
  "language_info": {
   "codemirror_mode": {
    "name": "ipython",
    "version": 3
   },
   "file_extension": ".py",
   "mimetype": "text/x-python",
   "name": "python",
   "nbconvert_exporter": "python",
   "pygments_lexer": "ipython3",
   "version": "3.6.1"
  }
 },
 "nbformat": 4,
 "nbformat_minor": 2
}
