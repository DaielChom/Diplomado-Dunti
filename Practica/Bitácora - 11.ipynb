{
 "cells": [
  {
   "cell_type": "markdown",
   "metadata": {},
   "source": [
    "# Bitácora - 11\n",
    "\n",
    "Bueno pues gustavo le gusto el informe 09, hubo problemas al subirlo a Drive asi que se lo pase por telegram, lo reviso y tuvimos la siguiente conversacion en Telegram."
   ]
  },
  {
   "cell_type": "markdown",
   "metadata": {},
   "source": [
    ">**Gustavo Diaz:** <br/>\n",
    "https://www.youtube.com/watch?v=03n9No5KqSc <br/>\n",
    "http://www.esri.com/products/collector-for-arcgis <br/>\n",
    "http://doc.arcgis.com/en/collector/ <br/><br/> \n",
    "**Gustavo Diaz:** <br/>\n",
    "Mira esos 3 links, e igual con la otra comparativa, genera tablas significativas<br/><br/>\n",
    "**Gustavo Diaz:**<br/>\n",
    "Me gusta que ya se ve que se le puede meter mano, metele mano!<br/><br/>\n",
    "**Gustavo Diaz:**<br/>\n",
    "personaliza lo que puedas, aunque un poco mejor que el icono estirado, algo proporcionado<br/><br/>\n",
    "**Gustavo Diaz: **<br/>\n",
    "y continua con aquello de encontrar la forma de subirlo a Hyper-V<br/><br/>\n",
    "**Gustavo Diaz:**<br/>\n",
    "Puede que sea solo transformar el archivo vmdk a vhdx<br/><br/>\n",
    "**Gustavo Diaz:**<br/>\n",
    "me dices y lo subimos<br/><br/>\n",
    "**Daniel Carvajal:**<br/>\n",
    "no encontre un logo .svg de geomatica no se si me puedas proporcionar alguno<br/><br/>\n",
    "**Gustavo Diaz:**<br/>\n",
    "[ File : logos_geo-uis.svg ]<br/><br/>\n",
    "**Gustavo Diaz:**<br/>\n",
    "(asi como dice el dicho, Pregunte por lo que no vea)<br/><br/>\n",
    "**Daniel Carvajal:**<br/>\n",
    "gracias :D<br/><br/>"
   ]
  },
  {
   "cell_type": "markdown",
   "metadata": {},
   "source": [
    "Bueno Youn, teniendo esto en cuenta hay varias cosas por hacer, varias tareas y son las siguientes:\n",
    "* Conituar con la personalizacion de Kobotoolbox.\n",
    "* Hacer la tabla comparativa entre kobotoolbos y arcGIS\n",
    "* Convertir a Hyper-V la maquina virtual esa.(vmdk to vhdx)"
   ]
  },
  {
   "cell_type": "code",
   "execution_count": null,
   "metadata": {
    "collapsed": true
   },
   "outputs": [],
   "source": []
  }
 ],
 "metadata": {
  "kernelspec": {
   "display_name": "Python 3",
   "language": "python",
   "name": "python3"
  },
  "language_info": {
   "codemirror_mode": {
    "name": "ipython",
    "version": 3
   },
   "file_extension": ".py",
   "mimetype": "text/x-python",
   "name": "python",
   "nbconvert_exporter": "python",
   "pygments_lexer": "ipython3",
   "version": "3.6.1"
  }
 },
 "nbformat": 4,
 "nbformat_minor": 2
}
