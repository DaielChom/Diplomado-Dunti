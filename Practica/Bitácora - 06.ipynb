{
 "cells": [
  {
   "cell_type": "markdown",
   "metadata": {},
   "source": [
    "# Bitácora - 06:  Practica ARDG\n",
    "## Practica Autodenominada Recolección de Datos para Geomatica\n",
    "\n",
    "Bueno veamos a ver a consitunacion sera una lista de prueba trdas prueba hasta ainstalar esta monda:\n",
    "\n",
    "### Ona:\n",
    "Se han encontrado varias guias para la instalacion de ONA, no pense que fuera a suceder pero pues a a ver seguire la sigueinte [guia](https://gist.github.com/oguya/8c7b81634d648500a8c00400abab327e) aunque tambien esta esta otra [guia](https://github.com/badili/classic_ona/blob/master/installation-configuration.md).\n",
    "se usa la pruimera guia apra la cual hay que instalaqr vim para configurar el archivo local_setings pues que un error que pide la contraseña la cual es \"onadata\". la documentacion exacta de este \"error\" seria: \n",
    "\n",
    "1. Siguiendo la guia al hacer make deberia ejecutarse sin nigun problema pero en mi caso sale el sigueinte error\n",
    "![Prueba Cuatro - uno](images/prueba_cuatro_uno.jpg)\n",
    "2. No tenia idea que de que trataba dicho error asi que fui a hablar con gustavo y con el pudimos hallar la solucion a dicho problema. la cual consiste en escribir la contraseña del usuario de postgres en el archivo local_settings\n",
    "![Prueba Cuatro - dos](images/prueba_cuatro_cuatro)\n",
    "\n",
    "De esta manera el make logra hacerse sin ningun problema y se puede seguir con la instlacion\n",
    "\n",
    "#### PDTA: \n",
    "Hay que arreglar lo de doble requerientos en los archivos de requeriminetos, valga la redundancia\n",
    "\n",
    "* al hacer el make sale el sigueint eerror o advertencia\n",
    ">Your models have changes that are not yet reflected in a migration, and so won't be applied.\n",
    "  Run 'manage.py makemigrations' to make new migrations, and then re-run 'manage.py migrate' to apply them.\n",
    "  \n",
    "* Para la cual se corren las dos lineas que se enuncian ahi y listo\n",
    "* Para la siguiente linea de la guia \n",
    ">bin/python manage.py collectstatic --noinput\n",
    "\n",
    "es mejor correr las lineas de la guia oficial de ona\n",
    "\n",
    ">python manage.py collectstatic --noinput <br>\n",
    "python manage.py createsuperuser \n",
    "\n",
    "con la segunda linea se crea un superusuario para la app el cual deje Dunti y pass: 1234, el correo: geminisda\n",
    "\n",
    "* despues de aca se recomeinda seguir ocn la guia step to step\n",
    ">sed -i 's/^uid=.*/uid=www-data/;s/^gid=.*/gid=www-data/' /opt/onadata-venv/uwsgi.ini\n",
    "\n",
    "Hay que tener en cuanta la direccion que se usa en la linea anterior pues dependiendo del usuario y si se instale con entorno virtual o no puede cambiar\n",
    "\n",
    "Creo que habra problemas al no hacer como entorno virtual debido a las direcciones\n",
    "\n",
    "### MIERDAAAAA ajajajajaja no funciono hay que seguir la guia como es"
   ]
  }
 ],
 "metadata": {
  "kernelspec": {
   "display_name": "Python 3",
   "language": "python",
   "name": "python3"
  },
  "language_info": {
   "codemirror_mode": {
    "name": "ipython",
    "version": 3
   },
   "file_extension": ".py",
   "mimetype": "text/x-python",
   "name": "python",
   "nbconvert_exporter": "python",
   "pygments_lexer": "ipython3",
   "version": "3.6.0"
  }
 },
 "nbformat": 4,
 "nbformat_minor": 2
}
