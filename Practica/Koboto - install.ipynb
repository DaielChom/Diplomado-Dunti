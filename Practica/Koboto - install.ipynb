{
 "cells": [
  {
   "cell_type": "markdown",
   "metadata": {},
   "source": [
    "# Instalación de Koboto"
   ]
  },
  {
   "cell_type": "markdown",
   "metadata": {},
   "source": [
    "* Se creo una maquina virtual de fedora 26.\n",
    "* Actualizar\n",
    "    \n",
    "        yum -y update\n",
    "* Instalar Git\n",
    "        \n",
    "        dnf install git-all"
   ]
  },
  {
   "cell_type": "markdown",
   "metadata": {},
   "source": [
    "* Clonar kpi\n",
    "    \n",
    "        git clone https://github.com/kobotoolbox/kpi.git\n",
    "\n",
    "* Instalar virtualenv y crear un entorno virtual\n",
    "\n",
    "        pip install viertalenv\n",
    "        virtualenv venv\n",
    " \n",
    "* Activar entorno virtual e instlar dependencias\n",
    "    \n",
    "        source venv/bin/activate\n",
    "        pip install -r /dependencies/pip/requiments.txt"
   ]
  },
  {
   "cell_type": "code",
   "execution_count": null,
   "metadata": {
    "collapsed": true
   },
   "outputs": [],
   "source": []
  }
 ],
 "metadata": {
  "kernelspec": {
   "display_name": "Python 3",
   "language": "python",
   "name": "python3"
  },
  "language_info": {
   "codemirror_mode": {
    "name": "ipython",
    "version": 3
   },
   "file_extension": ".py",
   "mimetype": "text/x-python",
   "name": "python",
   "nbconvert_exporter": "python",
   "pygments_lexer": "ipython3",
   "version": "3.6.1"
  }
 },
 "nbformat": 4,
 "nbformat_minor": 2
}
