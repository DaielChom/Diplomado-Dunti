{
 "cells": [
  {
   "cell_type": "markdown",
   "metadata": {},
   "source": [
    "# Instalación de Koboto"
   ]
  },
  {
   "cell_type": "markdown",
   "metadata": {},
   "source": [
    "* Se creo una maquina virtual de fedora 26.\n",
    "* Actualizar\n",
    "    \n",
    "        yum -y update\n",
    "* Instalar Git\n",
    "        \n",
    "        dnf install git-all"
   ]
  },
  {
   "cell_type": "markdown",
   "metadata": {},
   "source": [
    "* Clonar kpi\n",
    "    \n",
    "        git clone https://github.com/kobotoolbox/kpi.git\n",
    "\n",
    "* Instalar virtualenv y crear un entorno virtual\n",
    "\n",
    "        pip install viertalenv\n",
    "        virtualenv venv\n",
    " \n",
    "* Activar entorno virtual e instlar dependencias\n",
    "    \n",
    "        source venv/bin/activate\n",
    "        pip install -r /dependencies/pip/requiments.txt\n",
    "        \n",
    "   **Nota:** para install kpi en koboto recomeinda usar [pip-sync](https://github.com/jazzband/pip-tools)\n",
    "   \n",
    " aunque ambas instalacion con pip-sync y con pip install me estan lanzando error\n",
    " \n",
    " * Pip install\n",
    " ![error](./images/Error_1.png)\n",
    " \n",
    " * pip-sync\n",
    " ![error](./images/Error_2.png)\n",
    " El problema es que esa maquina virtual lo pela y no puedo hacer scroll y ver los erroes anteriores y tampoco puedo mejorar la resolucion de la pantalla."
   ]
  },
  {
   "cell_type": "markdown",
   "metadata": {
    "collapsed": true
   },
   "source": [
    "Listo no hay problema, al aprecer es el mismo error entoncs buscare su solucion segun lo descrito en la primera imagen."
   ]
  },
  {
   "cell_type": "markdown",
   "metadata": {},
   "source": [
    "al aprecer el error podria ser falta de postgres asi que instala\n",
    "\n",
    "        dnf install postgresql"
   ]
  },
  {
   "cell_type": "markdown",
   "metadata": {},
   "source": [
    "Al parecer no es postgresql.\n",
    "tiene algo que ver con psycopg2\n",
    "\n",
    "    pip install psycopg2\n",
    "   \n",
    "tampoco funciono"
   ]
  },
  {
   "cell_type": "markdown",
   "metadata": {},
   "source": [
    "Ahora probé:\n",
    "\n",
    "            yum install python-devel postgresql-devel"
   ]
  },
  {
   "cell_type": "markdown",
   "metadata": {},
   "source": [
    "Parece que si funciono dado que salio un nuevo error.\n",
    "![error](./images/Error_3.png)"
   ]
  },
  {
   "cell_type": "markdown",
   "metadata": {},
   "source": [
    "para este error probe\n",
    "\n",
    "        sudo dnf install redhat-rpm-config\n",
    "    "
   ]
  },
  {
   "cell_type": "markdown",
   "metadata": {},
   "source": [
    "Pues funciono por que salio otro error.\n",
    "![error](./images/Error_4.png)"
   ]
  },
  {
   "cell_type": "markdown",
   "metadata": {
    "collapsed": true
   },
   "source": [
    "* antes de continuar con la instlacion de requrimientos, pense y debio ser mejor instalar primero las dependicenas apt. entoncs prosegi\n",
    "        \n",
    "        dnf install fontforge gettext git-core ~~(libpcre3 libpcre3-dev)~~ pcre-devel libpq-dev ttfautohint"
   ]
  },
  {
   "cell_type": "markdown",
   "metadata": {},
   "source": [
    "de nuevo se tratan de instalar los requirements.txt y salio el mismo error anterior.\n",
    "\n",
    "        yum install libxml-devel\n",
    "\n",
    "no eso no lo soluciono.\n",
    "\n",
    "    yum install -y gcc libxml2 libxml2-devel libxslt libxslt-devel python-devel\n",
    "\n",
    "al parecer eso si lo soluciono y salio otro error\n",
    "\n",
    "![error](./images/Error_5.png)"
   ]
  },
  {
   "cell_type": "markdown",
   "metadata": {
    "collapsed": true
   },
   "source": [
    "se prueba\n",
    "\n",
    "        dnf install openssl-devel\n",
    "funciono pero surgio algo mas.\n",
    "\n",
    "![error](./images/Error_6.png)"
   ]
  },
  {
   "cell_type": "code",
   "execution_count": null,
   "metadata": {
    "collapsed": true
   },
   "outputs": [],
   "source": []
  }
 ],
 "metadata": {
  "kernelspec": {
   "display_name": "Python 3",
   "language": "python",
   "name": "python3"
  },
  "language_info": {
   "codemirror_mode": {
    "name": "ipython",
    "version": 3
   },
   "file_extension": ".py",
   "mimetype": "text/x-python",
   "name": "python",
   "nbconvert_exporter": "python",
   "pygments_lexer": "ipython3",
   "version": "3.6.1"
  }
 },
 "nbformat": 4,
 "nbformat_minor": 2
}
