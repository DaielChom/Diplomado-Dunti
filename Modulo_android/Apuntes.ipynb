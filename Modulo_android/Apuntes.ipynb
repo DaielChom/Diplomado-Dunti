{
 "cells": [
  {
   "cell_type": "markdown",
   "metadata": {},
   "source": [
    "# Apuntes modulo android\n",
    "### Profesor: Carlos Andrés Palma Suárez\n",
    "\n",
    "\n",
    "#### Primera Clase:\n",
    "Una larga charla introductoria de dispositivos moviles y sus sistemas operativos, incluyendo la posicion en el mercado de los mismos. Luega una explicacion detallada del funcionamiento de Scrum.\n",
    "\n",
    "   * ##### Tarea:\n",
    "   Realizar una consulta de 10 distintos entornos de desarollo para dispositivos moviles.\n",
    "   \n",
    "   * ##### Solucion:\n",
    "       1. **[Kivy:](https://kivy.org/#home)** Python library for rapid development of applications that make use of innovative user interfaces, such as multi-touch apps.\n",
    "       2. **[Appcelerator:](http://www.appcelerator.com/):** Everything you need to create great, native mobile apps—all from a single JavaScript code base.\n",
    "       3. ** [PhoneGAp:](http://phonegap.com/)** Easily create apps using the web technologies you know and love: HTML, CSS, and JavaScript.\n",
    "       4. **[jQuery Mobile:](https://jquerymobile.com/)** jQuery Mobile is a HTML5-based user interface system designed to make responsive web sites and apps that are accessible on all smartphone, tablet and desktop devices.\n",
    "       5. ** [iBuild App:](http://es.ibuildapp.com)** iBuildApp es una plataforma muy fácil de usar para crear aplicaciones móviles. La plataforma permite a las empresas crear y publicar su iPhone y Android app en cuestión de minutos.\n",
    "       6. **[Sencha Touch:](https://www.sencha.com/products/touch/#overview)** The leading cross-platform mobile web application framework based on HTML5 and JavaScript for creating universal mobile apps.\n",
    "       7. **[Xamarin:](https://www.xamarin.com/)** Deliver native iOS, Android, and Windows apps using existing skills, teams, and code.\n",
    "       8. **[appery.io:](https://appery.io)** Appery.io is a rapid development, integration and deployment platform for delivering cross-device apps in the enterprise\n",
    "       9. **[Rhonmobile:](https://rms.rhomobile.com/)** Build Native Apps in the Cloud\n",
    "       10. **[Basic 4 Android:](https://www.b4x.com/)**\"Thanks to B4A and you guys with your help I got a permanent job developing Android apps for a Company, and I sold my app (see CNC Sheet) to another company.\"\n",
    "       11. **Carbide.c++**\n",
    "       12. **XCode:**\n",
    "       13. **App Inventor: **\n",
    "       14. **Ruboto: **\n"
   ]
  },
  {
   "cell_type": "markdown",
   "metadata": {},
   "source": [
    "#### Segunda Clase 21- 04-2017:\n",
    "* Conceptos basicos:\n",
    "    * API: Libreria\n",
    "    * SDK: Kit para Desarollo de Software (Libreia + Compilacion) viene el motor incluido.\n",
    "    * IDE: Entorno de Desarrollo Integrado, ventanita para programar \n",
    "    * \n",
    "* Se usara corona, java, AndoridStudio,\n",
    "* Corona no trae entorno de desarrollo\n",
    "* Tener en cuenta en que API desarrollar si en 4, 6, 7. Se recomiedna una mas o menos viejita, para no perder clinetes.\n",
    "* Actividad: tiene vista y la vista tiene componentes. Esta presentada por la pantalla que se seta viendo.\n",
    "* Actividad, implica un monton de elementos ademas de la vista\n",
    "* el simulador de corona es mas rapido que el de android\n",
    "* Lua es el lenguaje que usa corona\n",
    "* Appinventor es incluso mas rapido que corona\n",
    "* app inventor usa scarsh\n",
    "* Android studio: genera un emulador con TODO ANDROID entero, igualmente appinventor, aunq app inventor usa una version viejita de android\n",
    " \n",
    "##### Tarea: \n",
    "Idear propuesta de aplicación, Por ejemplo una calculadora, algo que tenga interacción con botones que hagan funciones matemáticas, algo que use una fórmula sencilla, aunq podria ser algo mas pesadito, es un tipo de mini proyecto y tenerlo para la sigueinte clase osea mañana sabado.\n"
   ]
  },
  {
   "cell_type": "markdown",
   "metadata": {
    "collapsed": true
   },
   "source": [
    "#### Tercera Clase 22-04-2017:\n",
    "* **Pensamientos Iniciales:** 9 :17 am acaban de llegar dos personas hasta el mopmento solo era yo y el profe y el andaba hablando por celular, que flojera. si se va a seguir perdiendo asi, no aguanta. pero lo pelan el resto piden que pal sabado y ahora dicen ñaaññaña los sabados aveces tenemos parciales, quien los entiende. me la pelan quiero programar y este man no se ve como muy buen profesor que digamos. Carlos opina cuadrar horario, pero no estan todos asi que no se pude decidir ajjjjaajaj y yo tengo todo el dia todos los dias me les voy a pagar todo XD. 9:22 ya tengo mi maquina virtual chateare un rato a ver, pues aun no inicia la clase. 9:26 empezo la clase. \n",
    "\n",
    "----------------------------------\n",
    "Al parecer segun entiendo se hablara primero de requisitos, requerimentos,etc, etc. todo antes de ponerse a programar.\n",
    "Consejo:\n",
    "* Documentar\n",
    "* Realizar pasos de ing del softare\n",
    "* Hacer historia de usuario, se hara en excel (me la pela microcosas :3)\n",
    "\n",
    "##### Historia de Usuario:\n",
    "Cada fila es una historia de usuario\n",
    "que voy a hacer y como lo voy a evaluar\n",
    "\n",
    "pila de producto||||\n",
    "-|-\n",
    "**titulo**|**funcionalidad**|**criterios de aceptacion**|**Observaciones**\n",
    "saludo| Quiero que cuando escriba mi nombre, y presione el boton me salude el celular|1. Si escribo un nmore y presiono el boton aparesera un mensaje con el saludo. <br> 2.Si presiono el boton y no hay escrito un nombre debe aparecer un mensaje que ahce falta llenar el dato del nombre.| Debe aparecer una caja de texto y un boton.\n",
    "\n",
    "Nota: Pequeño ejemplo de historia de usuario.\n",
    "\n",
    "primero se trbajara en [appinventor](http://appinventor.mit.edu/explore/front.html)\n",
    "\n",
    "* Las fuentes serifadas ayudan en tipos de lecturas largas. las serifas no sirven en documentos de impresion entoncs se usan las letras san serif. y el otro tipo de fuente es la monospace, las tipo consola.\n",
    "\n",
    "PDTA: El cucho ta chateando :3 (soy un quejetas)\n",
    "\n",
    "hint text: Texto defecto en las cajas de texto (marca de agua)\n",
    "\n",
    "Se realiza una primera aplicacion de app invenotr que consiste en un botonq ue saluda\n",
    "![screen](images/appInventor_holaMundo_screen.png)\n",
    "![code](images/appInventor_holaMundo.png) <i style=\"color:red\">Pdta: hay unpequeño error no es lbnombre si no txnombre</i>\n",
    "\n",
    "###### Tarea: \n",
    "Desarrollar una app movil cosa pequelña con botonsitos y otros componentes, docuemntar, hacer la pila de la aplcicacion, al module se sube la documntacion y la apk\n",
    "\n",
    "###### Solucion:\n",
    "Se plantea una pequeña aplicacion capas de rotar una imagen, no se plantea el echo de que carge una imagen o despues la guarde unicamente que una imagen en pantalla la pueda rotar segu se mueva un slider.\n",
    "\n",
    "**titulo**|**Funcionalidad**|**Criterio de aceptacion**\n",
    "----------|-----------------|--------------------------\n",
    "Giro Imagen| la imagen debe girar segun el movimiento del scroll|la imagen debe de girar con el moviento del scroll\n",
    "\n",
    "![tarea uno uno](images/primera_tarea_uno.png)\n",
    "![tarea uno dos](images/primera_tarea_dos.png)"
   ]
  },
  {
   "cell_type": "markdown",
   "metadata": {},
   "source": [
    "#### Cuarta Clase 28-04-2017:\n",
    "mierda 6:25 esta calificando la tarea :3; anda explicando el entorno de android, hay gente que no sabe java, da una breve explicacion de java y clases, etc.\n",
    "\n",
    "En el metodo onCleate de java en andorid estudio es donde se hacen las referncias de los elementos del codigo con los elementos de la vista.\n",
    "\n",
    "Configurar andorid en casa aunq mierda puto pc feo, el cao es que hacer app apra calcular el cuadrado en android studio."
   ]
  },
  {
   "cell_type": "code",
   "execution_count": null,
   "metadata": {
    "collapsed": true
   },
   "outputs": [],
   "source": []
  }
 ],
 "metadata": {
  "anaconda-cloud": {},
  "kernelspec": {
   "display_name": "Python [conda root]",
   "language": "python",
   "name": "conda-root-py"
  },
  "language_info": {
   "codemirror_mode": {
    "name": "ipython",
    "version": 2
   },
   "file_extension": ".py",
   "mimetype": "text/x-python",
   "name": "python",
   "nbconvert_exporter": "python",
   "pygments_lexer": "ipython2",
   "version": "2.7.12"
  }
 },
 "nbformat": 4,
 "nbformat_minor": 2
}
