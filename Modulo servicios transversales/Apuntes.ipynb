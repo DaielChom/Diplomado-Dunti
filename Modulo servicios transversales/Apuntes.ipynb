{
 "cells": [
  {
   "cell_type": "markdown",
   "metadata": {},
   "source": [
    "# Servicios de Transferencia\n",
    "Prof: Gustavo Diaz Jaimes\n",
    "### Tema Uno: Introduccion a Python\n",
    "* ##### Temario:\n",
    "    * [Python en 10 min](https://www.stavros.io/tutorials/python/)\n",
    "    * [Idiomatic Python](http://python.net/~goodger/projects/pycon/2007/idiomatic/presentation.html)"
   ]
  },
  {
   "cell_type": "markdown",
   "metadata": {},
   "source": [
    "* **Funciones magicas**, existen varias una de las mas usadas es %time para calcular tiempo de ejecucion de funciones"
   ]
  },
  {
   "cell_type": "code",
   "execution_count": 8,
   "metadata": {
    "collapsed": false
   },
   "outputs": [
    {
     "name": "stdout",
     "output_type": "stream",
     "text": [
      "CPU times: user 20 ms, sys: 0 ns, total: 20 ms\n",
      "Wall time: 22.1 ms\n"
     ]
    },
    {
     "data": {
      "text/plain": [
       "4999950000"
      ]
     },
     "execution_count": 8,
     "metadata": {},
     "output_type": "execute_result"
    }
   ],
   "source": [
    "%time sum(x for x in range(100000))"
   ]
  },
  {
   "cell_type": "code",
   "execution_count": 7,
   "metadata": {
    "collapsed": false
   },
   "outputs": [
    {
     "name": "stdout",
     "output_type": "stream",
     "text": [
      "10000 loops, best of 3: 90.3 µs per loop\n"
     ]
    }
   ],
   "source": [
    "%timeit sum(x for x in range(1000))"
   ]
  },
  {
   "cell_type": "markdown",
   "metadata": {},
   "source": [
    "* **Librerias**, se pueden crear liberias o scripts de funciones de la siguiente manera. [Librerias](https://docs.python.org/3/tutorial/modules.html)\n",
    "    "
   ]
  },
  {
   "cell_type": "markdown",
   "metadata": {
    "collapsed": true
   },
   "source": [
    "https://cgoldberg.github.io/python-unittest-tutorial/\n"
   ]
  },
  {
   "cell_type": "code",
   "execution_count": 13,
   "metadata": {
    "collapsed": false
   },
   "outputs": [],
   "source": [
    "1. que es REST, con ejemplos, (con heattoask)\n",
    "    que es API y como se define\n",
    "2. --> es http\n",
    "3. se peude hacer con librerias \n",
    "4. bases de datos de usuario (un profile) y mostrar con la libreria"
   ]
  },
  {
   "cell_type": "markdown",
   "metadata": {},
   "source": [
    "* **Librerias de estadistica**"
   ]
  },
  {
   "cell_type": "code",
   "execution_count": 3,
   "metadata": {
    "collapsed": false
   },
   "outputs": [
    {
     "data": {
      "text/plain": [
       "3"
      ]
     },
     "execution_count": 3,
     "metadata": {},
     "output_type": "execute_result"
    }
   ],
   "source": [
    "import statistics as stat\n",
    "stat.mean([2,3,4])"
   ]
  },
  {
   "cell_type": "markdown",
   "metadata": {},
   "source": [
    "* **Formato fmt: **formateo de string para hacer cambios a la hora de imprimir"
   ]
  },
  {
   "cell_type": "code",
   "execution_count": 17,
   "metadata": {
    "collapsed": false
   },
   "outputs": [
    {
     "name": "stdout",
     "output_type": "stream",
     "text": [
      "8.234\n"
     ]
    }
   ],
   "source": [
    "num = 8.2342547452\n",
    "print('%.3f'% num) #imprime un flotante con 3 numeros decimales"
   ]
  },
  {
   "cell_type": "markdown",
   "metadata": {},
   "source": [
    "La mayoria de cosas de `R` se puede hacer con `pandas`\n",
    "* **Pandas: **[Tutorial de Pandas](http://pandas.pydata.org/pandas-docs/stable/tutorials.html)"
   ]
  },
  {
   "cell_type": "code",
   "execution_count": 1,
   "metadata": {
    "collapsed": true
   },
   "outputs": [],
   "source": [
    "import pandas as pd"
   ]
  },
  {
   "cell_type": "markdown",
   "metadata": {},
   "source": [
    "* **Plotting: **\n",
    "[matplop](http://nbviewer.jupyter.org/github/jrjohansson/scientific-python-lectures/blob/master/Lecture-4-Matplotlib.ipynb) y [plotting_pitfalls]( https://anaconda.org/jbednar/plotting_pitfalls/notebook), aunque existe una mejor opcion llamada plotly.seaborn para graifcas estadisitcas\n",
    "### Tema Dos: Intro GNSS\n",
    "* ##### Temario:\n",
    "    * [Presentacion: Sistema GNSS](https://prezi.com/y2vvahujldvi/sistema-gnss/?webgl=0)\n",
    "    * [Paper: Principios basicos](ftp://ftp.sirgas.org/pub/gps/SIRGAS-RT/03_Hoyer_GNSS_en_Tiempo_Real.pdf)"
   ]
  }
 ],
 "metadata": {
  "anaconda-cloud": {},
  "kernelspec": {
   "display_name": "Python 3",
   "language": "python",
   "name": "python3"
  },
  "language_info": {
   "codemirror_mode": {
    "name": "ipython",
    "version": 3
   },
   "file_extension": ".py",
   "mimetype": "text/x-python",
   "name": "python",
   "nbconvert_exporter": "python",
   "pygments_lexer": "ipython3",
   "version": "3.6.0"
  }
 },
 "nbformat": 4,
 "nbformat_minor": 0
}
