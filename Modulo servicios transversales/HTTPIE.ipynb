{
 "cells": [
  {
   "cell_type": "markdown",
   "metadata": {},
   "source": [
    "# HTTPie"
   ]
  },
  {
   "cell_type": "markdown",
   "metadata": {},
   "source": [
    "La libreria a usar es httpie disponible en [httpie](https://httpie.org/), en seccion de documentacion se encuentran varios ejemplos del uso de esta libreria.<br>\n",
    "Para instalar en distribuciones Debian: `sudo apt install httpie`"
   ]
  },
  {
   "cell_type": "markdown",
   "metadata": {},
   "source": [
    "## 1. Hellow Word!"
   ]
  },
  {
   "cell_type": "code",
   "execution_count": 2,
   "metadata": {
    "collapsed": false
   },
   "outputs": [
    {
     "name": "stdout",
     "output_type": "stream",
     "text": [
      "\u001b[34mHTTP\u001b[39;49;00m/\u001b[34m1.1\u001b[39;49;00m \u001b[34m302\u001b[39;49;00m \u001b[36mFound\u001b[39;49;00m\n",
      "\u001b[36mCache-Control\u001b[39;49;00m: \u001b[33mprivate\u001b[39;49;00m\n",
      "\u001b[36mContent-Length\u001b[39;49;00m: \u001b[33m262\u001b[39;49;00m\n",
      "\u001b[36mContent-Type\u001b[39;49;00m: \u001b[33mtext/html; charset=UTF-8\u001b[39;49;00m\n",
      "\u001b[36mDate\u001b[39;49;00m: \u001b[33mSun, 06 Nov 2016 20:08:50 GMT\u001b[39;49;00m\n",
      "\u001b[36mLocation\u001b[39;49;00m: \u001b[33mhttp://www.google.com.co/?gfe_rd=cr&ei=0o0fWOSaNaiw8wexg57wDQ\u001b[39;49;00m\n",
      "\n",
      "<\u001b[34;01mHTML\u001b[39;49;00m><\u001b[34;01mHEAD\u001b[39;49;00m><\u001b[34;01mmeta\u001b[39;49;00m \u001b[36mhttp-equiv\u001b[39;49;00m=\u001b[33m\"content-type\"\u001b[39;49;00m \u001b[36mcontent\u001b[39;49;00m=\u001b[33m\"text/html;charset=utf-8\"\u001b[39;49;00m>\n",
      "<\u001b[34;01mTITLE\u001b[39;49;00m>302 Moved</\u001b[34;01mTITLE\u001b[39;49;00m></\u001b[34;01mHEAD\u001b[39;49;00m><\u001b[34;01mBODY\u001b[39;49;00m>\n",
      "<\u001b[34;01mH1\u001b[39;49;00m>302 Moved</\u001b[34;01mH1\u001b[39;49;00m>\n",
      "The document has moved\n",
      "<\u001b[34;01mA\u001b[39;49;00m \u001b[36mHREF\u001b[39;49;00m=\u001b[33m\"http://www.google.com.co/?gfe_rd=cr&amp;ei=0o0fWOSaNaiw8wexg57wDQ\"\u001b[39;49;00m>here</\u001b[34;01mA\u001b[39;49;00m>.\n",
      "</\u001b[34;01mBODY\u001b[39;49;00m></\u001b[34;01mHTML\u001b[39;49;00m>\n",
      "\n"
     ]
    }
   ],
   "source": [
    "!http google.com"
   ]
  },
  {
   "cell_type": "code",
   "execution_count": 3,
   "metadata": {
    "collapsed": false
   },
   "outputs": [
    {
     "name": "stdout",
     "output_type": "stream",
     "text": [
      "\u001b[34mHTTP\u001b[39;49;00m/\u001b[34m1.1\u001b[39;49;00m \u001b[34m301\u001b[39;49;00m \u001b[36mMoved Permanently\u001b[39;49;00m\r\n",
      "\u001b[36mCF-RAY\u001b[39;49;00m: \u001b[33m2fdb2e4b035948f5-MDE\u001b[39;49;00m\r\n",
      "\u001b[36mConnection\u001b[39;49;00m: \u001b[33mkeep-alive\u001b[39;49;00m\r\n",
      "\u001b[36mDate\u001b[39;49;00m: \u001b[33mSun, 06 Nov 2016 20:09:01 GMT\u001b[39;49;00m\r\n",
      "\u001b[36mLocation\u001b[39;49;00m: \u001b[33mhttps://httpie.org/\u001b[39;49;00m\r\n",
      "\u001b[36mServer\u001b[39;49;00m: \u001b[33mcloudflare-nginx\u001b[39;49;00m\r\n",
      "\u001b[36mSet-Cookie\u001b[39;49;00m: \u001b[33m__cfduid=d9271ef16f500314651dcf8ffc4de19bc1478462941; expires=Mon, 06-Nov-17 20:09:01 GMT; path=/; domain=.httpie.org; HttpOnly\u001b[39;49;00m\r\n",
      "\u001b[36mTransfer-Encoding\u001b[39;49;00m: \u001b[33mchunked\u001b[39;49;00m\r",
      "\r\n",
      "\r",
      "\r\n",
      "\r\n",
      "\r\n"
     ]
    }
   ],
   "source": [
    "!http httpie.org"
   ]
  },
  {
   "cell_type": "markdown",
   "metadata": {},
   "source": [
    "## 2. HTTPIE - Github"
   ]
  },
  {
   "cell_type": "markdown",
   "metadata": {},
   "source": [
    "* El ejercicio consiste en crear un comentario en un Issues de Github, para ello es necesario que el Issue este creado. Lo siguiente es ejecutar el siguiente comando.\n",
    "\n",
    "    `http -a <username> POST https://api.github.com/repos/<username>/<repositorio>/issues/1/comments body='HTTPie Funciona! :heart:'`\n",
    "![POST-Github](../imagenes/POST-Github.png)\n",
    "![resultado POTS](../imagenes/POST_Github_Resultado.png)"
   ]
  },
  {
   "cell_type": "markdown",
   "metadata": {},
   "source": [
    "* Buscar Los miembros de alguna organizacion\n",
    "\n",
    "    `http GET https://api.github.com/orgs/<organizacion>/members`\n",
    "    ![GET_github](../imagenes/GET_Github.png)\n",
    "    ![GET_github_Miembros](../imagenes/GET_Github_miembros.png)\n"
   ]
  },
  {
   "cell_type": "markdown",
   "metadata": {},
   "source": [
    "* Editar un comentario de un Issue\n",
    "\n",
    "    ` http -a <username> PATCH https://api.github.com/repos/<username>/<repos>/issues/comments/<id>  body='HTTPie Funciona! :heart: - Editado '`\n",
    "    ![PATCH_Github](../imagenes/PATCH_Github.png)\n",
    "    ![PATCH_Github_resultado](../imagenes/PATCH_Github_resultado.png)"
   ]
  },
  {
   "cell_type": "markdown",
   "metadata": {},
   "source": [
    "* Ver la petición que estamos realizando al servidor de Github, usando uno de los metodos.\n",
    "\n",
    "    `http -v GET https://api.github.com/orgs/<organizacion>/members`\n",
    "    <div style=\"width:60%; margin: 0 auto\">\n",
    "    ![Get Github -v](../imagenes/GET_Github_v.png)\n",
    "</div>\n",
    "\n",
    "    Podemos ver que se realiza una peticion muy sencilla un texto donde indica el metodo y la solicitud REST"
   ]
  },
  {
   "cell_type": "markdown",
   "metadata": {},
   "source": [
    "Existen muchas mas opciones y ejercicios que se podrian realizar con la [API de Github](https://developer.github.com/v3/)."
   ]
  },
  {
   "cell_type": "markdown",
   "metadata": {},
   "source": [
    "## 3. HTTPIE - AnimeList\n",
    "Se quizo trabajar con APIs como la de Google o Facebook, pero estas tenian un mayor grado de complejidad pues no funcionaban con el usuario normal de dicha plataforma, se requerian permisos o usuarios de desarrollo. La idea de estos ejercicios es comprender el uso de HTTPIE mas no de APIs en especifico, asi que se opto por escoger otra API."
   ]
  },
  {
   "cell_type": "markdown",
   "metadata": {},
   "source": [
    "* Consultar un anime\n",
    "\n",
    "    `http -a <username> GET https://myanimelist.net/api/anime/search.xml?q=<anime>`\n",
    "    ![GET_Animelist](../imagenes/GET_AnimeList.png)"
   ]
  },
  {
   "cell_type": "markdown",
   "metadata": {},
   "source": [
    "* Agregar Manga a la Lista\n",
    "\n",
    "    `http -a <username> POST https://myanimelist.net/api/mangalist/add/<id>.xml`"
   ]
  }
 ],
 "metadata": {
  "anaconda-cloud": {},
  "kernelspec": {
   "display_name": "Python [Root]",
   "language": "python",
   "name": "Python [Root]"
  },
  "language_info": {
   "codemirror_mode": {
    "name": "ipython",
    "version": 3
   },
   "file_extension": ".py",
   "mimetype": "text/x-python",
   "name": "python",
   "nbconvert_exporter": "python",
   "pygments_lexer": "ipython3",
   "version": "3.5.2"
  }
 },
 "nbformat": 4,
 "nbformat_minor": 0
}
