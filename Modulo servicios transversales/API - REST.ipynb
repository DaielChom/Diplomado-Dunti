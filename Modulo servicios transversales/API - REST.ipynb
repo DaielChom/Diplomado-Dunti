{
 "cells": [
  {
   "cell_type": "markdown",
   "metadata": {
    "collapsed": true
   },
   "source": [
    "# API - REST\n",
    "![api rest](../imagenes/API_REST.png)"
   ]
  },
  {
   "cell_type": "markdown",
   "metadata": {},
   "source": [
    "Con Internet y los avances tecnológicos, se han creado una cantidad inmensa de plataformas, como Google, Facebook, Wunderlist, Animelist entre otras. Las cuales han brindando una gran cantidad de servicios que facilitan la vida, suplen alguna necesidad, o dan solución a alguna problemática, mediante la prestación de un servicio. Estas plataformas en algunos casos se entre mezclan y comparten servicios para que la experiencia de uso o la solución de dicha problemática sea mas amena, por ejemplo un restaurante puede en su pagina web usar los mapas de Google para que al cliente le sea mas fácil llegar al restaurante, pero ¿como hace el restaurante para poder usar los servicios de Google?, ¿se comunica con Google y le paga alguna cuota mensual?, ¿desarrolladores de Google van a las empresas a colocar dichos servicio en las paginas web?, a la hora de la verdad surgen muchas preguntas sobre el funcionamiento de las plataformas que encontramos en Internet, y el propósito de este notebook es dar respuestas a estas preguntas y mas.\n",
    "\n",
    "¿Como hacen ciertas plataformas para poder usar servicios de otras plataformas en sus aplicaciones o paginas web?\n",
    "Las paginas o aplicaciones usan ciertos servicios de otras plataformas mediante el uso de las APIs y si son Plataformas web lo mas recomendado es que sean API - Rest."
   ]
  },
  {
   "cell_type": "markdown",
   "metadata": {
    "collapsed": true
   },
   "source": [
    "## API\n",
    "Interfaz de Programacion de Aplicaciones, son el conjunto de subrutinas, funciones o procedimientos que ofrece cierta biblioteca para ser utilizado por otro software. <br>\n",
    "Esto quiere decir que ciertas \"bibliotecas\" o librerías, incluso plataformas, manejan ciertas rutinas para que otras aplicaciones puedan acceder a ellas, por ejemplo una API pueden ser los servicios de Google maps, muchas paginas web y aplicaciones acceden a los servicios de Google maps mediante ciertas rutinas y funciones de llamado. Pero una API es un concepto mas general, una API también puede ser el llamado a la tarjeta de red para que el programa que se este realizando pueda conectarse a Internet o el llamado a algún dirver que un programa necesite.\n",
    "En otras palabras las API sirven como la interfaz de comunicación entre programas, con el fin, como se mencionó, de crear una interacción entre las mismas, todo con el ideal de \"no reinventar la rueda\".\n",
    "En el notebook HTTPIE de este mismo repositorio se puede ver como mediante el uso de comandos se puede accerder a serivicos de distintas plataformas como Github, Animelist, entre otras."
   ]
  },
  {
   "cell_type": "markdown",
   "metadata": {},
   "source": [
    "## REST"
   ]
  },
  {
   "cell_type": "markdown",
   "metadata": {},
   "source": [
    "Con el crecimiento en el uso de Internet se vio necesario crear APIs de las diferentes plataformas y una manera general de poderlas llamar, pues a estas APIs se accede de manera remota, debido a que se encuentran en los distintos servidores alrededor del mundo. Esta manera de general de hacer las API se denomino REST.\n",
    "\n",
    "Segun [Wikipedia](https://es.wikipedia.org/wiki/Transferencia_de_Estado_Representacional), varios post y libros consultados, REST se define como:<br><br>\n",
    "<div style=\"width:90%; margin: 0 auto; text-align:justify\">Un tipo de arquitectura de desarrollo web que se apoya totalmente en el estándar HTTP, El término se originó en el año 2000, en una tesis doctoral sobre la web escrita por Roy Fielding, uno de los principales autores de la especificación del protocolo HTTP y ha pasado a ser ampliamente utilizado por la comunidad de desarrollo.\n",
    "\n",
    "Si bien el término REST se refería originalmente a un conjunto de principios de arquitectura, en la actualidad se usa en el sentido más amplio para describir cualquier interfaz entre sistemas que utilice directamente HTTP para obtener datos o indicar la ejecución de operaciones sobre los datos, en cualquier formato (XML, JSON, etc) sin las abstracciones adicionales de los protocolos basados en patrones de intercambio de mensajes, como por ejemplo SOAP.</div>\n",
    "\n",
    "**Nota:** Se elige wikipedia debia que presentaba la explicacion mas clara del concepto de REST\n",
    "\n",
    "#### Principios de REST\n",
    "1. Uso Correcto de URIs\n",
    "2. Uso Correcto de HTTP\n",
    "3. Implementar Hipermedia\n"
   ]
  },
  {
   "cell_type": "markdown",
   "metadata": {},
   "source": [
    "Una buena guia para rest podria ser algun libro, pues existen varios que tratan estos temas, o varias pagina en internet presetan guias muy completas sobre rest. Me guio y aconsejo la sigueinte [guia](http://asiermarques.com/2013/conceptos-sobre-apis-rest/), pues da una buena explicacion de cada uno de los principios y da un buen ejemplo de cada uno."
   ]
  },
  {
   "cell_type": "markdown",
   "metadata": {},
   "source": [
    "##### 1. Uso correcto de URIs\n",
    "* Una URI tiene la siguiente estructua:\n",
    "> `{protocolo}://{dominio o hostname}[:puerto (opcional)]/{ruta del recurso}?{consulta de filtrado}`\n",
    "* Usar sustantivos no verbos.\n",
    "* Las rutas a un recurso deben ser unicas, no deben existir dos rutas al mismo recurso.\n",
    "* Deben ser independientes del formato\n",
    "* Deben mantener una jerarquia logistica\n",
    "* Las consultas deben hacerse con parametros y no en la URI\n",
    "\n",
    "##### 2. Uso correcto de HTTP\n",
    "* Metodos HTTP\n",
    "* Codigos de estado\n",
    "* Aceptacion de tipos de contenido.\n",
    "\n",
    "##### 3. Hypermedia\n",
    "* Indicarle al usuario que tipo de recursos se esta compartiendo.\n",
    "\n"
   ]
  },
  {
   "cell_type": "markdown",
   "metadata": {},
   "source": [
    "--------\n",
    "\n",
    "_Asi que a grandes rasgos API-REST son las API's que aprovechan de la mejor manera el protocolo HTTP y siguen los principios de REST_\n",
    "\n",
    "---------"
   ]
  },
  {
   "cell_type": "markdown",
   "metadata": {},
   "source": [
    "Muchos lenguajes permiten realiar APIs REST, en su mayoria con la implementacion de librerias, framework o demás. En python existen muchas herramientas que pueden realizar esta tarea como `Django`, `Flask`, entre otros.\n",
    "Cada uno de ellos tiene sus ventjas y desventajas, dependiendo de lo que se quiera hacer. Por ejemplo para aplicaciones pequeñas, no muy complejas o para personas que apenas estan aprendiendo se recomienda usar Flask, pero en cambio para aplicaciones mas robustas se recomienda Django ya que tiene muchas mas herramentas y opciones."
   ]
  },
  {
   "cell_type": "markdown",
   "metadata": {},
   "source": [
    "## Ejercicio\n",
    "Se desea tener una aplicacion que administre a los usuarios de cierta compañia, es decir permita, agregar, consultar, eliminar y modificar usuarios en una base de datos.\n",
    "Debido a sus ventajas, para el desarrollo de este ejercicio se utiliza el Microframework `Flask`."
   ]
  },
  {
   "cell_type": "markdown",
   "metadata": {
    "collapsed": true
   },
   "source": [
    "## Desarrollo"
   ]
  },
  {
   "cell_type": "code",
   "execution_count": null,
   "metadata": {
    "collapsed": true
   },
   "outputs": [],
   "source": []
  },
  {
   "cell_type": "markdown",
   "metadata": {
    "collapsed": true
   },
   "source": [
    "**Nota:** Resolver las preguntas de la introduccion\n",
    "\n",
    "**Fuentes:**\n",
    "   1. http://www.slideshare.net/ErickAguilaMartnez/html-5-64876895\n",
    "   2. http://www.ticbeat.com/tecnologias/que-es-una-api-para-que-sirve/\n",
    "   3. https://es.wikipedia.org/wiki/Transferencia_de_Estado_Representacional\n",
    "   4. https://www.sparkholder.com/api/ - De donde se toma la imagen del princio\n",
    "   5. http://asiermarques.com/2013/conceptos-sobre-apis-rest/ - Guia REST"
   ]
  }
 ],
 "metadata": {
  "anaconda-cloud": {},
  "kernelspec": {
   "display_name": "Python [Root]",
   "language": "python",
   "name": "Python [Root]"
  },
  "language_info": {
   "codemirror_mode": {
    "name": "ipython",
    "version": 3
   },
   "file_extension": ".py",
   "mimetype": "text/x-python",
   "name": "python",
   "nbconvert_exporter": "python",
   "pygments_lexer": "ipython3",
   "version": "3.5.2"
  }
 },
 "nbformat": 4,
 "nbformat_minor": 0
}
