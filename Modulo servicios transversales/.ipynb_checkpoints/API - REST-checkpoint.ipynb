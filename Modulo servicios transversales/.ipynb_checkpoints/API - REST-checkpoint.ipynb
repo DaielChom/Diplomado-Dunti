{
 "cells": [
  {
   "cell_type": "markdown",
   "metadata": {},
   "source": [
    "# API - REST"
   ]
  },
  {
   "cell_type": "markdown",
   "metadata": {},
   "source": [
    "Con Internet y los avances tecnológicos, se han creado una cantidad inmensa de plataformas, como Google, Facebook, Wunderlist, Animelist entre otras. Las cuales han brindando una gran cantidad de servicios que facilitan la vida, suplen alguna necesidad, o dan solución a alguna problemática, mediante la prestación de un servicio. Estas plataformas en algunos casos se entre mezclan y comparten servicios para que la experiencia de uso o la solución de dicha problemática sea mas amena, por ejemplo un restaurante puede en su pagina web usar los mapas de Google para que al cliente le sea mas fácil llegar al restaurante, pero ¿como hace el restaurante para poder usar los servicios de Google?, ¿se comunica con Google y le paga alguna cuota mensual?, ¿desarrolladores de Google van a las empresas a colocar dichos servicio en las paginas web?, a la hora de la verdad surgen muchas preguntas sobre el funcionamiento de las plataformas que encontramos en Internet, y el propósito de este notebook es dar respuestas a estas preguntas y mas.\n",
    "\n",
    "¿Como hacen ciertas plataformas para poder usar servicios de otras plataformas en sus aplicaciones o paginas web?\n",
    "Las paginas o aplicaciones usan ciertos servicios de otras plataformas mediante el uso de las APIs y si son Plataformas web lo mas recomendado es que sean API - Rest."
   ]
  },
  {
   "cell_type": "markdown",
   "metadata": {
    "collapsed": true
   },
   "source": [
    "### API\n",
    "Interfaz de Programacion de Aplicaciones, son el conjunto de subrutinas, funciones o procedimientos que ofrece cierta biblioteca para ser utilizado por otro software. <br>\n",
    "Esto quiere decir que ciertas \"bibliotecas\" o librerías, incluso plataformas, manejan ciertas rutinas para que otras aplicaciones puedan acceder a ellas, por ejemplo una API pueden ser los servicios de Google maps, muchas paginas web y aplicaciones acceden a los servicios de Google maps mediante ciertas rutinas y funciones de llamado. Pero una API es un concepto mas general, una API también puede ser el llamado a la tarjeta de red para que el programa que se este realizando pueda conectarse a Internet o el llamado a algún dirver que un programa necesite.\n",
    "En otras palabras las API sirven como la interfaz de comunicación entre programas, con el fin, como se mencionó, de crear una interacción entre las mismas, todo con el ideal de \"no reinventar la rueda\".\n"
   ]
  },
  {
   "cell_type": "markdown",
   "metadata": {},
   "source": [
    "### REST"
   ]
  },
  {
   "cell_type": "code",
   "execution_count": null,
   "metadata": {
    "collapsed": true
   },
   "outputs": [],
   "source": []
  },
  {
   "cell_type": "markdown",
   "metadata": {
    "collapsed": true
   },
   "source": [
    "**Nota:** Resolver las preguntas de la introduccion\n",
    "\n",
    "**Fuentes:**\n",
    "   1. http://www.slideshare.net/ErickAguilaMartnez/html-5-64876895\n",
    "   2. http://www.ticbeat.com/tecnologias/que-es-una-api-para-que-sirve/"
   ]
  }
 ],
 "metadata": {
  "anaconda-cloud": {},
  "kernelspec": {
   "display_name": "Python [Root]",
   "language": "python",
   "name": "Python [Root]"
  },
  "language_info": {
   "codemirror_mode": {
    "name": "ipython",
    "version": 3
   },
   "file_extension": ".py",
   "mimetype": "text/x-python",
   "name": "python",
   "nbconvert_exporter": "python",
   "pygments_lexer": "ipython3",
   "version": "3.5.2"
  }
 },
 "nbformat": 4,
 "nbformat_minor": 0
}
