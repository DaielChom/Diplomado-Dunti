{
 "cells": [
  {
   "cell_type": "markdown",
   "metadata": {},
   "source": [
    "# Apuntes modulo android\n",
    "### Profesor: Carlos Andrés Palma Suárez\n",
    "\n",
    "\n",
    "#### Primera Clase:\n",
    "Una larga charla introductoria de dispositivos moviles y sus sistemas operativos, incluyendo la posicion en el mercado de los mismos. Luega una explicacion detallada del funcionamiento de Scrum.\n",
    "\n",
    "   * ##### Tarea:\n",
    "   Realizar una consulta de 10 distintos entornos de desarollo para dispositivos moviles.\n",
    "   \n",
    "   * ##### Solucion:\n",
    "       1. **[Kivy:](https://kivy.org/#home)** Python library for rapid development of applications that make use of innovative user interfaces, such as multi-touch apps.\n",
    "       2. **[Appcelerator:](http://www.appcelerator.com/):** Everything you need to create great, native mobile apps—all from a single JavaScript code base.\n",
    "       3. ** [PhoneGAp:](http://phonegap.com/)** Easily create apps using the web technologies you know and love: HTML, CSS, and JavaScript.\n",
    "       4. **[jQuery Mobile:](https://jquerymobile.com/)** jQuery Mobile is a HTML5-based user interface system designed to make responsive web sites and apps that are accessible on all smartphone, tablet and desktop devices.\n",
    "       5. ** [iBuild App:](http://es.ibuildapp.com)** iBuildApp es una plataforma muy fácil de usar para crear aplicaciones móviles. La plataforma permite a las empresas crear y publicar su iPhone y Android app en cuestión de minutos.\n",
    "       6. **[Sencha Touch:](https://www.sencha.com/products/touch/#overview)** The leading cross-platform mobile web application framework based on HTML5 and JavaScript for creating universal mobile apps.\n",
    "       7. **[Xamarin:](https://www.xamarin.com/)** Deliver native iOS, Android, and Windows apps using existing skills, teams, and code.\n",
    "       8. **[appery.io:](https://appery.io)** Appery.io is a rapid development, integration and deployment platform for delivering cross-device apps in the enterprise\n",
    "       9. **[Rhonmobile:](https://rms.rhomobile.com/)** Build Native Apps in the Cloud\n",
    "       10. **[Basic 4 Android:](https://www.b4x.com/)**\"Thanks to B4A and you guys with your help I got a permanent job developing Android apps for a Company, and I sold my app (see CNC Sheet) to another company.\"\n",
    "       11. **Carbide.c++**\n",
    "       12. **XCode:**\n",
    "       13. **App Inventor: **\n",
    "       14. **Ruboto: **\n"
   ]
  },
  {
   "cell_type": "markdown",
   "metadata": {},
   "source": [
    "#### Segunda Clase:\n",
    "* Conceptos basicos:\n",
    "    * API: Libreria\n",
    "    * SDK: Kit para Desarollo de Software (Libreia + Compilacion) viene el motor incluido.\n",
    "    * IDE: Entorno de Desarrollo Integrado, ventanita para programar \n",
    "    * \n",
    "* Se usara corona, java, AndoridStudio,\n",
    "* Corona no trae entorno de desarrollo\n",
    "* Tener en cuenta en que API desarrollar si en 4, 6, 7. Se recomiedna una mas o menos viejita, para no perder clinetes.\n",
    "* Actividad: tiene vista y la vista tiene componentes. Esta presentada por la pantalla que se seta viendo.\n",
    "* Actividad, implica un monton de elementos ademas de la vista\n",
    "* el simulador de corona es mas rapido que el de android\n",
    "* Lua es el lenguaje que usa corona\n",
    "* Appinventor es incluso mas rapido que corona\n",
    "* app inventor usa scarsh\n",
    " \n",
    "##### Tarea: \n",
    "Idear propuesta de aplicación, Por ejemplo una calculadora, algo que tenga interacción con botones que hagan funciones matemáticas, algo que use una fórmula sencilla\n"
   ]
  }
 ],
 "metadata": {
  "anaconda-cloud": {},
  "kernelspec": {
   "display_name": "Python [conda root]",
   "language": "python",
   "name": "conda-root-py"
  },
  "language_info": {
   "codemirror_mode": {
    "name": "ipython",
    "version": 2
   },
   "file_extension": ".py",
   "mimetype": "text/x-python",
   "name": "python",
   "nbconvert_exporter": "python",
   "pygments_lexer": "ipython2",
   "version": "2.7.12"
  }
 },
 "nbformat": 4,
 "nbformat_minor": 2
}
