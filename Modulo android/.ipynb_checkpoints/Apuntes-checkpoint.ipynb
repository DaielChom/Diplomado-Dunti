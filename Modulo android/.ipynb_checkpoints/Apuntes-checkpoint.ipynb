{
 "cells": [
  {
   "cell_type": "markdown",
   "metadata": {},
   "source": [
    "# Apuntes modulo android\n",
    "### Profesor: Carlos Andrés Palma Suárez\n",
    "\n",
    "\n",
    "#### Primera Clase:\n",
    "Una larga charla introductoria de dispositivos moviles y sus sistemas operativos, incluyendo la posicion en el mercado de los mismos. Luega una explicacion detallada del funcionamiento de Scrum.\n",
    "\n",
    "   * ##### Tarea:\n",
    "   Realizar una consulta de 10 distintos entornos de desarollo para dispositivos moviles.\n",
    "   \n",
    "   * ##### Solucion:\n",
    "       1. **[Kivy:](https://kivy.org/#home)** Python library for rapid development of applications that make use of innovative user interfaces, such as multi-touch apps.\n",
    "       2. **[Appcelerator:](http://www.appcelerator.com/):** Everything you need to create great, native mobile apps—all from a single JavaScript code base.\n",
    "       3. ** [PhoneGAp:](http://phonegap.com/)** Easily create apps using the web technologies you know and love: HTML, CSS, and JavaScript.\n",
    "       4. **[jQuery Mobile:](https://jquerymobile.com/)** jQuery Mobile is a HTML5-based user interface system designed to make responsive web sites and apps that are accessible on all smartphone, tablet and desktop devices.\n",
    "       5. ** [iBuild App:](http://es.ibuildapp.com)** iBuildApp es una plataforma muy fácil de usar para crear aplicaciones móviles. La plataforma permite a las empresas crear y publicar su iPhone y Android app en cuestión de minutos.\n",
    "       6. **[Sencha Touch:](https://www.sencha.com/products/touch/#overview)** The leading cross-platform mobile web application framework based on HTML5 and JavaScript for creating universal mobile apps.\n",
    "       7. **[Xamarin:](https://www.xamarin.com/)** Deliver native iOS, Android, and Windows apps using existing skills, teams, and code.\n",
    "       8. **[appery.io:](https://appery.io)** Appery.io is a rapid development, integration and deployment platform for delivering cross-device apps in the enterprise\n",
    "       9. **[Rhonmobile:](https://rms.rhomobile.com/)** Build Native Apps in the Cloud\n",
    "       10. **[Basic 4 Android:](https://www.b4x.com/)**\"Thanks to B4A and you guys with your help I got a permanent job developing Android apps for a Company, and I sold my app (see CNC Sheet) to another company.\"\n",
    "       11. **Carbide.c++**\n",
    "       12. **XCode:**\n",
    "       13. **App Inventor: **\n",
    "       14. **Ruboto: **\n"
   ]
  }
 ],
 "metadata": {
  "kernelspec": {
   "display_name": "Python 3",
   "language": "python",
   "name": "python3"
  },
  "language_info": {
   "codemirror_mode": {
    "name": "ipython",
    "version": 3
   },
   "file_extension": ".py",
   "mimetype": "text/x-python",
   "name": "python",
   "nbconvert_exporter": "python",
   "pygments_lexer": "ipython3",
   "version": "3.6.0"
  }
 },
 "nbformat": 4,
 "nbformat_minor": 2
}
